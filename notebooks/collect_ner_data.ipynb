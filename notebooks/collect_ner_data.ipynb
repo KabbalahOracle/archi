{
 "cells": [
  {
   "cell_type": "code",
   "execution_count": 1,
   "metadata": {},
   "outputs": [
    {
     "name": "stdout",
     "output_type": "stream",
     "text": [
      "/Users/nguyen/projects/archi\n"
     ]
    }
   ],
   "source": [
    "cd .."
   ]
  },
  {
   "cell_type": "code",
   "execution_count": 77,
   "metadata": {},
   "outputs": [],
   "source": [
    "from src.archi_nlp import Archi, NER_data\n",
    "\n",
    "import pandas as pd"
   ]
  },
  {
   "cell_type": "markdown",
   "metadata": {},
   "source": [
    "### Create Archi 🌈"
   ]
  },
  {
   "cell_type": "code",
   "execution_count": 78,
   "metadata": {},
   "outputs": [],
   "source": [
    "archi = Archi('en')"
   ]
  },
  {
   "cell_type": "markdown",
   "metadata": {},
   "source": [
    "### Get raw data with initial nlp_doc col"
   ]
  },
  {
   "cell_type": "code",
   "execution_count": 79,
   "metadata": {},
   "outputs": [],
   "source": [
    "archi.get_raw_nlp_data('data/nlp_df/raw_0508.pkl')"
   ]
  },
  {
   "cell_type": "markdown",
   "metadata": {},
   "source": [
    "### Randomly sample from the raw_nlp_data to collect 200 rows of data"
   ]
  },
  {
   "cell_type": "code",
   "execution_count": 80,
   "metadata": {},
   "outputs": [],
   "source": [
    "archi.build_ner_train()"
   ]
  },
  {
   "cell_type": "markdown",
   "metadata": {},
   "source": [
    "### Serve one row of data at a time to the reviewer"
   ]
  },
  {
   "cell_type": "code",
   "execution_count": 6,
   "metadata": {},
   "outputs": [
    {
     "data": {
      "text/plain": [
       "('Stadiums, arenas and grandstands required to caption audible public announcements shall be in accordance with Section 907.5.2.2.4.',\n",
       " {'entities': [('Section 907.5.2.2.4', 16, 18, 'LAW')]})"
      ]
     },
     "execution_count": 6,
     "metadata": {},
     "output_type": "execute_result"
    }
   ],
   "source": [
    "docket = archi.review_ner_train()\n",
    "docket.view_data"
   ]
  },
  {
   "cell_type": "code",
   "execution_count": 57,
   "metadata": {},
   "outputs": [
    {
     "name": "stdout",
     "output_type": "stream",
     "text": [
      "('Stadiums, arenas and grandstands required to caption audible public announcements shall be in accordance with Section 907.5.2.2.4.', {'entities': [('Stadiums,', 0, 1, 'PRODUCT'), ('Section 907.5.2.2.4', 16, 18, 'LAW')]})\n",
      "('Stadiums, arenas and grandstands required to caption audible public announcements shall be in accordance with Section 907.5.2.2.4.', {'entities': [('Stadiums,', 0, 1, 'PRODUCT'), ('arenas', 1, 2, 'PRODUCT'), ('Section 907.5.2.2.4', 16, 18, 'LAW')]})\n",
      "('Stadiums, arenas and grandstands required to caption audible public announcements shall be in accordance with Section 907.5.2.2.4.', {'entities': [('Stadiums,', 0, 1, 'PRODUCT'), ('arenas', 1, 2, 'PRODUCT'), ('grandstands', 3, 4, 'PRODUCT'), ('Section 907.5.2.2.4', 16, 18, 'LAW')]})\n"
     ]
    }
   ],
   "source": [
    "docket.add_ent('Stadiums,', 'PRODUCT')\n",
    "docket.add_ent('arenas', 'PRODUCT')\n",
    "docket.add_ent('grandstands', 'PRODUCT')"
   ]
  },
  {
   "cell_type": "code",
   "execution_count": 102,
   "metadata": {},
   "outputs": [],
   "source": [
    "archi.submit_ner_train_data(docket)"
   ]
  },
  {
   "cell_type": "markdown",
   "metadata": {},
   "source": [
    "### Rerun the next 4 cells as NER data is reviewed"
   ]
  },
  {
   "cell_type": "code",
   "execution_count": 179,
   "metadata": {},
   "outputs": [
    {
     "data": {
      "text/plain": [
       "('The deflection of structural members under the design load shall not exceed the limitations in Section 1604.3.',\n",
       " {'entities': [('Section 1604.3', 15, 17, 'LAW')]})"
      ]
     },
     "execution_count": 179,
     "metadata": {},
     "output_type": "execute_result"
    }
   ],
   "source": [
    "docket = archi.review_ner_train()\n",
    "docket.view_data"
   ]
  },
  {
   "cell_type": "code",
   "execution_count": 182,
   "metadata": {},
   "outputs": [
    {
     "name": "stdout",
     "output_type": "stream",
     "text": [
      "Warning: check if index is correct.\n",
      "('The deflection of structural members under the design load shall not exceed the limitations in Section 1604.3.', {'entities': [('deflection', 1, 2, 'ATTR'), ('structural members', 3, 5, 'PRODUCT'), ('design load', 7, 9, 'ATTR'), ('Section 1604.3.', 15, 17, 'RULE')]})\n"
     ]
    }
   ],
   "source": [
    "# docket.add_ent('structural members', 'PRODUCT')\n",
    "# docket.add_ent('design load', 'ATTR')\n",
    "# docket.add_ent('deflection', 'ATTR')\n",
    "docket.add_ent('Section 1604.3.', 'RULE')\n",
    "\n",
    "\n",
    "\n"
   ]
  },
  {
   "cell_type": "code",
   "execution_count": 166,
   "metadata": {},
   "outputs": [
    {
     "data": {
      "text/plain": [
       "('The exit enclosure containing the standpipe shall have access to the floor without passing through the fire service access elevator lobby.',\n",
       " {'entities': [('exit enclosure', 1, 3, 'PRODUCT'),\n",
       "   ('standpipe', 5, 6, 'PRODUCT'),\n",
       "   ('fire service access elevator lobby.', 16, 21, 'PRODUCT')]})"
      ]
     },
     "execution_count": 166,
     "metadata": {},
     "output_type": "execute_result"
    }
   ],
   "source": [
    "docket.view_data"
   ]
  },
  {
   "cell_type": "code",
   "execution_count": 183,
   "metadata": {},
   "outputs": [],
   "source": [
    "archi.submit_ner_train_data(docket)"
   ]
  },
  {
   "cell_type": "code",
   "execution_count": 184,
   "metadata": {},
   "outputs": [
    {
     "data": {
      "text/plain": [
       "10"
      ]
     },
     "execution_count": 184,
     "metadata": {},
     "output_type": "execute_result"
    }
   ],
   "source": [
    "len(archi.ner_train_data)"
   ]
  },
  {
   "cell_type": "code",
   "execution_count": null,
   "metadata": {},
   "outputs": [],
   "source": []
  }
 ],
 "metadata": {
  "kernelspec": {
   "display_name": "Python 3",
   "language": "python",
   "name": "python3"
  },
  "language_info": {
   "codemirror_mode": {
    "name": "ipython",
    "version": 3
   },
   "file_extension": ".py",
   "mimetype": "text/x-python",
   "name": "python",
   "nbconvert_exporter": "python",
   "pygments_lexer": "ipython3",
   "version": "3.6.3"
  }
 },
 "nbformat": 4,
 "nbformat_minor": 2
}
