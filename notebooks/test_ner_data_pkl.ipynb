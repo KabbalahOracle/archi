{
 "cells": [
  {
   "cell_type": "code",
   "execution_count": 1,
   "metadata": {},
   "outputs": [
    {
     "name": "stdout",
     "output_type": "stream",
     "text": [
      "/Users/nguyen/projects/archi\n"
     ]
    }
   ],
   "source": [
    "cd ../"
   ]
  },
  {
   "cell_type": "code",
   "execution_count": 2,
   "metadata": {},
   "outputs": [],
   "source": [
    "import pandas as pd"
   ]
  },
  {
   "cell_type": "code",
   "execution_count": 4,
   "metadata": {},
   "outputs": [],
   "source": [
    "df = pd.read_pickle('data/ner/18-05-09_ner.pkl')"
   ]
  },
  {
   "cell_type": "code",
   "execution_count": 5,
   "metadata": {},
   "outputs": [
    {
     "data": {
      "text/html": [
       "<div>\n",
       "<style>\n",
       "    .dataframe thead tr:only-child th {\n",
       "        text-align: right;\n",
       "    }\n",
       "\n",
       "    .dataframe thead th {\n",
       "        text-align: left;\n",
       "    }\n",
       "\n",
       "    .dataframe tbody tr th {\n",
       "        vertical-align: top;\n",
       "    }\n",
       "</style>\n",
       "<table border=\"1\" class=\"dataframe\">\n",
       "  <thead>\n",
       "    <tr style=\"text-align: right;\">\n",
       "      <th></th>\n",
       "      <th>ent</th>\n",
       "      <th>string</th>\n",
       "    </tr>\n",
       "  </thead>\n",
       "  <tbody>\n",
       "    <tr>\n",
       "      <th>0</th>\n",
       "      <td>[(0, 1, PRODUCT), (1, 2, PRODUCT), (3, 4, PROD...</td>\n",
       "      <td>Stadiums, arenas and grandstands required to c...</td>\n",
       "    </tr>\n",
       "    <tr>\n",
       "      <th>1</th>\n",
       "      <td>[(4, 5, PRODUCT), (13, 14, PRODUCT)]</td>\n",
       "      <td>Placement and dimensions of markings shall be ...</td>\n",
       "    </tr>\n",
       "    <tr>\n",
       "      <th>2</th>\n",
       "      <td>[(0, 3, PRODUCT), (5, 9, PRODUCT), (12, 14, LAW)]</td>\n",
       "      <td>Foam plastic insulation used in exterior wall ...</td>\n",
       "    </tr>\n",
       "    <tr>\n",
       "      <th>3</th>\n",
       "      <td>[(0, 1, PRODUCT), (8, 10, ATTR), (12, 16, QUAN...</td>\n",
       "      <td>Doors to resident sleeping units shall have a ...</td>\n",
       "    </tr>\n",
       "    <tr>\n",
       "      <th>4</th>\n",
       "      <td>[(0, 3, PRODUCT), (3, 6, PRODUCT), (7, 9, PROD...</td>\n",
       "      <td>Loose-fill insulation material, insulating foa...</td>\n",
       "    </tr>\n",
       "    <tr>\n",
       "      <th>5</th>\n",
       "      <td>[(1, 2, PRODUCT), (2, 3, PRODUCT), (8, 10, ATT...</td>\n",
       "      <td>For balconies, galleries or press boxes having...</td>\n",
       "    </tr>\n",
       "    <tr>\n",
       "      <th>6</th>\n",
       "      <td>[(0, 2, PRODUCT), (3, 5, PRODUCT), (8, 10, RUL...</td>\n",
       "      <td>Roof gardens and landscaped roofs shall comply...</td>\n",
       "    </tr>\n",
       "    <tr>\n",
       "      <th>7</th>\n",
       "      <td>[(1, 3, PRODUCT), (5, 6, PRODUCT), (16, 21, PR...</td>\n",
       "      <td>The exit enclosure containing the standpipe sh...</td>\n",
       "    </tr>\n",
       "    <tr>\n",
       "      <th>8</th>\n",
       "      <td>[(0, 1, PRODUCT), (2, 4, PRODUCT), (4, 5, PROD...</td>\n",
       "      <td>Showers and public toilet walls shall conform ...</td>\n",
       "    </tr>\n",
       "    <tr>\n",
       "      <th>9</th>\n",
       "      <td>[(1, 2, ATTR), (3, 5, PRODUCT), (7, 9, ATTR), ...</td>\n",
       "      <td>The deflection of structural members under the...</td>\n",
       "    </tr>\n",
       "  </tbody>\n",
       "</table>\n",
       "</div>"
      ],
      "text/plain": [
       "                                                 ent  \\\n",
       "0  [(0, 1, PRODUCT), (1, 2, PRODUCT), (3, 4, PROD...   \n",
       "1               [(4, 5, PRODUCT), (13, 14, PRODUCT)]   \n",
       "2  [(0, 3, PRODUCT), (5, 9, PRODUCT), (12, 14, LAW)]   \n",
       "3  [(0, 1, PRODUCT), (8, 10, ATTR), (12, 16, QUAN...   \n",
       "4  [(0, 3, PRODUCT), (3, 6, PRODUCT), (7, 9, PROD...   \n",
       "5  [(1, 2, PRODUCT), (2, 3, PRODUCT), (8, 10, ATT...   \n",
       "6  [(0, 2, PRODUCT), (3, 5, PRODUCT), (8, 10, RUL...   \n",
       "7  [(1, 3, PRODUCT), (5, 6, PRODUCT), (16, 21, PR...   \n",
       "8  [(0, 1, PRODUCT), (2, 4, PRODUCT), (4, 5, PROD...   \n",
       "9  [(1, 2, ATTR), (3, 5, PRODUCT), (7, 9, ATTR), ...   \n",
       "\n",
       "                                              string  \n",
       "0  Stadiums, arenas and grandstands required to c...  \n",
       "1  Placement and dimensions of markings shall be ...  \n",
       "2  Foam plastic insulation used in exterior wall ...  \n",
       "3  Doors to resident sleeping units shall have a ...  \n",
       "4  Loose-fill insulation material, insulating foa...  \n",
       "5  For balconies, galleries or press boxes having...  \n",
       "6  Roof gardens and landscaped roofs shall comply...  \n",
       "7  The exit enclosure containing the standpipe sh...  \n",
       "8  Showers and public toilet walls shall conform ...  \n",
       "9  The deflection of structural members under the...  "
      ]
     },
     "execution_count": 5,
     "metadata": {},
     "output_type": "execute_result"
    }
   ],
   "source": [
    "df"
   ]
  },
  {
   "cell_type": "code",
   "execution_count": 37,
   "metadata": {},
   "outputs": [],
   "source": [
    "TRAIN_DATA = ([(text, {'entities': ent})\n",
    "              for idx, (ent, text)\n",
    "              in df.iterrows()])"
   ]
  },
  {
   "cell_type": "code",
   "execution_count": 38,
   "metadata": {},
   "outputs": [
    {
     "data": {
      "text/plain": [
       "[('Stadiums, arenas and grandstands required to caption audible public announcements shall be in accordance with Section 907.5.2.2.4.',\n",
       "  {'entities': [(0, 1, 'PRODUCT'),\n",
       "    (1, 2, 'PRODUCT'),\n",
       "    (3, 4, 'PRODUCT'),\n",
       "    (16, 18, 'LAW')]}),\n",
       " ('Placement and dimensions of markings shall be consistent and uniform throughout the same enclosure.',\n",
       "  {'entities': [(4, 5, 'PRODUCT'), (13, 14, 'PRODUCT')]}),\n",
       " ('Foam plastic insulation used in exterior wall covering assemblies shall comply with Chapter 26.',\n",
       "  {'entities': [(0, 3, 'PRODUCT'), (5, 9, 'PRODUCT'), (12, 14, 'LAW')]}),\n",
       " ('Doors to resident sleeping units shall have a clear width of not less than 28 inches (711 mm).',\n",
       "  {'entities': [(0, 1, 'PRODUCT'),\n",
       "    (8, 10, 'ATTR'),\n",
       "    (12, 16, 'QUANTITY'),\n",
       "    (17, 19, 'QUANTITY')]}),\n",
       " ('Loose-fill insulation material, insulating foam sealants and caulk materials shall not be used as a fireblock unless specifically tested in the form and manner intended for use to demonstrate its ability to remain in place and to retard the spread of fire and hot gases.',\n",
       "  {'entities': [(0, 3, 'PRODUCT'),\n",
       "    (3, 6, 'PRODUCT'),\n",
       "    (7, 9, 'PRODUCT'),\n",
       "    (15, 16, 'PRODUCT')]}),\n",
       " ('For balconies, galleries or press boxes having a seating capacity of 50 or more located in a building, room or space used for assembly purposes, not less than two means of egress shall be provided, with one from each side of every balcony, gallery or press box.',\n",
       "  {'entities': [(1, 2, 'PRODUCT'),\n",
       "    (2, 3, 'PRODUCT'),\n",
       "    (8, 10, 'ATTR'),\n",
       "    (12, 15, 'CARDINAL'),\n",
       "    (17, 18, 'PRODUCT'),\n",
       "    (18, 19, 'PRODUCT'),\n",
       "    (20, 21, 'PRODUCT'),\n",
       "    (29, 32, 'CARDINAL'),\n",
       "    (29, 32, 'PRODUCT'),\n",
       "    (42, 43, 'PRODUCT'),\n",
       "    (43, 44, 'PRODUCT')]}),\n",
       " ('Roof gardens and landscaped roofs shall comply with Section 1507.16 and shall be installed in accordance with ANSI/SPRI VF-1.',\n",
       "  {'entities': [(0, 2, 'PRODUCT'),\n",
       "    (3, 5, 'PRODUCT'),\n",
       "    (8, 10, 'RULE'),\n",
       "    (17, 19, 'LAW')]}),\n",
       " ('The exit enclosure containing the standpipe shall have access to the floor without passing through the fire service access elevator lobby.',\n",
       "  {'entities': [(1, 3, 'PRODUCT'), (5, 6, 'PRODUCT'), (16, 21, 'PRODUCT')]}),\n",
       " ('Showers and public toilet walls shall conform to Sections 1210.2 and 1210.3. When wood frame walls and partitions are covered on the interior with cement plaster or tile of similar material and are subject to water splash, the framing shall be protected with an approved moisture barrier.',\n",
       "  {'entities': [(0, 1, 'PRODUCT'),\n",
       "    (2, 4, 'PRODUCT'),\n",
       "    (4, 5, 'PRODUCT'),\n",
       "    (8, 10, 'RULE'),\n",
       "    (11, 12, 'RULE'),\n",
       "    (13, 16, 'PRODUCT'),\n",
       "    (38, 39, 'PRODUCT'),\n",
       "    (45, 47, 'PRODUCT')]}),\n",
       " ('The deflection of structural members under the design load shall not exceed the limitations in Section 1604.3.',\n",
       "  {'entities': [(1, 2, 'ATTR'),\n",
       "    (3, 5, 'PRODUCT'),\n",
       "    (7, 9, 'ATTR'),\n",
       "    (15, 17, 'RULE')]})]"
      ]
     },
     "execution_count": 38,
     "metadata": {},
     "output_type": "execute_result"
    }
   ],
   "source": [
    "TRAIN_DATA"
   ]
  },
  {
   "cell_type": "code",
   "execution_count": null,
   "metadata": {},
   "outputs": [],
   "source": [
    "for "
   ]
  }
 ],
 "metadata": {
  "kernelspec": {
   "display_name": "Python 3",
   "language": "python",
   "name": "python3"
  },
  "language_info": {
   "codemirror_mode": {
    "name": "ipython",
    "version": 3
   },
   "file_extension": ".py",
   "mimetype": "text/x-python",
   "name": "python",
   "nbconvert_exporter": "python",
   "pygments_lexer": "ipython3",
   "version": "3.6.3"
  }
 },
 "nbformat": 4,
 "nbformat_minor": 2
}
