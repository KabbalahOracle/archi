{
 "cells": [
  {
   "cell_type": "code",
   "execution_count": 4,
   "metadata": {},
   "outputs": [
    {
     "name": "stdout",
     "output_type": "stream",
     "text": [
      "/Users/nguyen/projects/archi\n"
     ]
    }
   ],
   "source": [
    "cd .."
   ]
  },
  {
   "cell_type": "code",
   "execution_count": 69,
   "metadata": {},
   "outputs": [],
   "source": [
    "from src.archi_nlp import Archi, NER_data\n",
    "\n",
    "import pandas as pd\n",
    "\n",
    "from nltk import Tree\n"
   ]
  },
  {
   "cell_type": "markdown",
   "metadata": {},
   "source": [
    "### Create Archi 🌈"
   ]
  },
  {
   "cell_type": "code",
   "execution_count": 6,
   "metadata": {},
   "outputs": [],
   "source": [
    "archi = Archi('en_core_web_lg')"
   ]
  },
  {
   "cell_type": "markdown",
   "metadata": {},
   "source": [
    "### Get the NER train data"
   ]
  },
  {
   "cell_type": "code",
   "execution_count": 15,
   "metadata": {},
   "outputs": [],
   "source": [
    "archi.get_ner_train_data('data/ner/18-05-11_ner.pkl', n_copy=8)"
   ]
  },
  {
   "cell_type": "code",
   "execution_count": 16,
   "metadata": {},
   "outputs": [
    {
     "data": {
      "text/plain": [
       "1080"
      ]
     },
     "execution_count": 16,
     "metadata": {},
     "output_type": "execute_result"
    }
   ],
   "source": [
    "len(archi.ner_train_data)"
   ]
  },
  {
   "cell_type": "markdown",
   "metadata": {},
   "source": [
    "### Train the nlp model with the new entity labels"
   ]
  },
  {
   "cell_type": "code",
   "execution_count": 19,
   "metadata": {},
   "outputs": [
    {
     "name": "stderr",
     "output_type": "stream",
     "text": [
      "/Users/nguyen/anaconda3/lib/python3.6/site-packages/numpy/linalg/linalg.py:2168: RuntimeWarning: invalid value encountered in sqrt\n",
      "  ret = sqrt(sqnorm)\n"
     ]
    },
    {
     "name": "stdout",
     "output_type": "stream",
     "text": [
      "{'ner': 8032.2865986598163}\n",
      "{'ner': 8066.4323207047037}\n",
      "{'ner': 8149.8010117247195}\n",
      "{'ner': 8135.4443989713618}\n",
      "{'ner': 8170.5112680544898}\n",
      "{'ner': 8133.8771987438458}\n",
      "{'ner': 8077.9465594933099}\n",
      "{'ner': 8006.6611939708391}\n",
      "{'ner': 8063.4386998443806}\n",
      "{'ner': 8048.9531531616149}\n",
      "Saved model to src/models/nlp/0511_nlp\n",
      "Loading from src/models/nlp/0511_nlp\n",
      "Archi object has been updated to new model\n"
     ]
    }
   ],
   "source": [
    "archi.ner_train(output_dir='src/models/nlp/0511_nlp', new_label=['AEC'], n_iter=10)"
   ]
  },
  {
   "cell_type": "markdown",
   "metadata": {},
   "source": [
    "### Get the raw data"
   ]
  },
  {
   "cell_type": "code",
   "execution_count": 20,
   "metadata": {},
   "outputs": [],
   "source": [
    "archi.get_raw_data('data/raw_df/ibc.pkl')"
   ]
  },
  {
   "cell_type": "markdown",
   "metadata": {},
   "source": [
    "### Fit the raw data with the new nlp model"
   ]
  },
  {
   "cell_type": "code",
   "execution_count": 21,
   "metadata": {},
   "outputs": [],
   "source": [
    "archi.fit_nlp()"
   ]
  },
  {
   "cell_type": "markdown",
   "metadata": {},
   "source": [
    "### Pickle the nlp model to avoid training the default model again"
   ]
  },
  {
   "cell_type": "code",
   "execution_count": 22,
   "metadata": {},
   "outputs": [],
   "source": [
    "archi.pickle_raw_nlp('data/nlp_df/raw_nlp_0511.pkl')"
   ]
  },
  {
   "cell_type": "code",
   "execution_count": null,
   "metadata": {},
   "outputs": [],
   "source": []
  },
  {
   "cell_type": "markdown",
   "metadata": {},
   "source": [
    "### Check the results by building a new random sample of NER train data"
   ]
  },
  {
   "cell_type": "code",
   "execution_count": 23,
   "metadata": {},
   "outputs": [],
   "source": [
    "archi.build_ner_train()"
   ]
  },
  {
   "cell_type": "code",
   "execution_count": 70,
   "metadata": {},
   "outputs": [],
   "source": [
    "def tok_format(tok):\n",
    "    return \"_\".join([tok.orth_, tok.tag_])\n",
    "\n",
    "\n",
    "def to_nltk_tree(node):\n",
    "    if node.n_lefts + node.n_rights > 0:\n",
    "        return Tree(tok_format(node), [to_nltk_tree(child) for child in node.children])\n",
    "    else:\n",
    "        return tok_format(node)"
   ]
  },
  {
   "cell_type": "markdown",
   "metadata": {},
   "source": [
    "### Serve one row of data at a time to the reviewer"
   ]
  },
  {
   "cell_type": "code",
   "execution_count": 96,
   "metadata": {},
   "outputs": [
    {
     "data": {
      "text/plain": [
       "('Alternate setbacks and clearances are permitted, subject to the approval of the building official. The building official shall be permitted to require a geotechnical investigation as set forth in Section 1803.5.10.',\n",
       " {'entities': []})"
      ]
     },
     "execution_count": 96,
     "metadata": {},
     "output_type": "execute_result"
    }
   ],
   "source": [
    "docket = archi.review_ner_train()\n",
    "docket.view_data"
   ]
  },
  {
   "cell_type": "code",
   "execution_count": 97,
   "metadata": {},
   "outputs": [],
   "source": [
    "doc = docket.doc"
   ]
  },
  {
   "cell_type": "code",
   "execution_count": 98,
   "metadata": {},
   "outputs": [
    {
     "name": "stdout",
     "output_type": "stream",
     "text": [
      "                             permitted_VBN                                                          \n",
      "    _______________________________|__________________________________                               \n",
      "   |     |   |                     |                              subject_JJ                        \n",
      "   |     |   |                     |                                  |                              \n",
      "   |     |   |                     |                                to_IN                           \n",
      "   |     |   |                     |                                  |                              \n",
      "   |     |   |                     |                             approval_NN                        \n",
      "   |     |   |                     |                         _________|___________                   \n",
      "   |     |   |                     |                        |                   of_IN               \n",
      "   |     |   |                     |                        |                     |                  \n",
      "   |     |   |                setbacks_NNS                  |                official_NN            \n",
      "   |     |   |        _____________|_____________           |          ___________|___________       \n",
      "are_VBP ,_, ._. Alternate_JJ     and_CC    clearances_NNS the_DT    the_DT               building_NN\n",
      "\n",
      "                                                  permitted_VBN                                                                  \n",
      "    ____________________________________________________|____________________________________                                     \n",
      "   |       |    |              |                                                         require_VB                              \n",
      "   |       |    |              |                         ____________________________________|_________________                   \n",
      "   |       |    |              |                        |                   |                               set_VBN              \n",
      "   |       |    |              |                        |                   |                            ______|__________        \n",
      "   |       |    |              |                        |                   |                           |      |        in_IN    \n",
      "   |       |    |              |                        |                   |                           |      |          |       \n",
      "   |       |    |         official_NN                   |            investigation_NN                   |      |     1803.5.10_CD\n",
      "   |       |    |     _________|___________             |         __________|________________           |      |          |       \n",
      "shall_MD be_VB ._. The_DT             building_NN     to_TO     a_DT                  geotechnical_JJ as_IN forth_RP  Section_NN \n",
      "\n"
     ]
    },
    {
     "data": {
      "text/plain": [
       "[None, None]"
      ]
     },
     "execution_count": 98,
     "metadata": {},
     "output_type": "execute_result"
    }
   ],
   "source": [
    "[to_nltk_tree(sent.root).pretty_print() for sent in doc.sents]"
   ]
  },
  {
   "cell_type": "code",
   "execution_count": 99,
   "metadata": {},
   "outputs": [
    {
     "name": "stdout",
     "output_type": "stream",
     "text": [
      "Alternate amod setbacks NOUN [] alternate\n",
      "setbacks nsubjpass permitted VERB [Alternate, and, clearances] setback\n",
      "and cc setbacks NOUN [] and\n",
      "clearances conj setbacks NOUN [] clearance\n",
      "are auxpass permitted VERB [] be\n",
      "permitted ROOT permitted VERB [setbacks, are, ,, subject, .] permit\n",
      ", punct permitted VERB [] ,\n",
      "subject amod permitted VERB [to] subject\n",
      "to prep subject ADJ [approval] to\n",
      "the det approval NOUN [] the\n",
      "approval pobj to ADP [the, of] approval\n",
      "of prep approval NOUN [official] of\n",
      "the det official NOUN [] the\n",
      "building compound official NOUN [] building\n",
      "official pobj of ADP [the, building] official\n",
      ". punct permitted VERB [] .\n",
      "The det official NOUN [] the\n",
      "building compound official NOUN [] building\n",
      "official nsubjpass permitted VERB [The, building] official\n",
      "shall aux permitted VERB [] shall\n",
      "be auxpass permitted VERB [] be\n",
      "permitted ROOT permitted VERB [official, shall, be, require, .] permit\n",
      "to aux require VERB [] to\n",
      "require xcomp permitted VERB [to, investigation, set] require\n",
      "a det investigation NOUN [] a\n",
      "geotechnical amod investigation NOUN [] geotechnical\n",
      "investigation dobj require VERB [a, geotechnical] investigation\n",
      "as mark set VERB [] as\n",
      "set advcl require VERB [as, forth, in] set\n",
      "forth prt set VERB [] forth\n",
      "in prep set VERB [1803.5.10] in\n",
      "Section compound 1803.5.10 NUM [] section\n",
      "1803.5.10 pobj in ADP [Section] 1803.5.10\n",
      ". punct permitted VERB [] .\n"
     ]
    }
   ],
   "source": [
    "for token in doc:\n",
    "    print(token.text, token.dep_, token.head.text, token.head.pos_,\n",
    "          [child for child in token.children], token.lemma_)"
   ]
  },
  {
   "cell_type": "code",
   "execution_count": 100,
   "metadata": {},
   "outputs": [],
   "source": [
    "nouns = [token.text for token in doc if token.pos_ == 'NOUN']"
   ]
  },
  {
   "cell_type": "code",
   "execution_count": 89,
   "metadata": {},
   "outputs": [
    {
     "data": {
      "text/plain": [
       "['penetrations', 'fire', 'resistance', 'assembly']"
      ]
     },
     "execution_count": 89,
     "metadata": {},
     "output_type": "execute_result"
    }
   ],
   "source": [
    "nouns"
   ]
  },
  {
   "cell_type": "code",
   "execution_count": 106,
   "metadata": {},
   "outputs": [
    {
     "name": "stdout",
     "output_type": "stream",
     "text": [
      "Alternate setbacks\n",
      "clearances\n",
      "the approval\n",
      "the building official\n",
      "The building official\n",
      "a geotechnical investigation\n"
     ]
    }
   ],
   "source": [
    "for chunk in doc.noun_chunks:\n",
    "    print(chunk)"
   ]
  },
  {
   "cell_type": "code",
   "execution_count": 108,
   "metadata": {},
   "outputs": [
    {
     "data": {
      "text/plain": [
       "[{'NE': '',\n",
       "  'POS_coarse': 'VERB',\n",
       "  'POS_fine': 'VBN',\n",
       "  'arc': 'ROOT',\n",
       "  'lemma': 'permit',\n",
       "  'modifiers': [{'NE': '',\n",
       "    'POS_coarse': 'NOUN',\n",
       "    'POS_fine': 'NNS',\n",
       "    'arc': 'nsubjpass',\n",
       "    'lemma': 'setback',\n",
       "    'modifiers': [{'NE': '',\n",
       "      'POS_coarse': 'ADJ',\n",
       "      'POS_fine': 'JJ',\n",
       "      'arc': 'amod',\n",
       "      'lemma': 'alternate',\n",
       "      'modifiers': [],\n",
       "      'word': 'Alternate'},\n",
       "     {'NE': '',\n",
       "      'POS_coarse': 'CCONJ',\n",
       "      'POS_fine': 'CC',\n",
       "      'arc': 'cc',\n",
       "      'lemma': 'and',\n",
       "      'modifiers': [],\n",
       "      'word': 'and'},\n",
       "     {'NE': '',\n",
       "      'POS_coarse': 'NOUN',\n",
       "      'POS_fine': 'NNS',\n",
       "      'arc': 'conj',\n",
       "      'lemma': 'clearance',\n",
       "      'modifiers': [],\n",
       "      'word': 'clearances'}],\n",
       "    'word': 'setbacks'},\n",
       "   {'NE': '',\n",
       "    'POS_coarse': 'VERB',\n",
       "    'POS_fine': 'VBP',\n",
       "    'arc': 'auxpass',\n",
       "    'lemma': 'be',\n",
       "    'modifiers': [],\n",
       "    'word': 'are'},\n",
       "   {'NE': '',\n",
       "    'POS_coarse': 'PUNCT',\n",
       "    'POS_fine': ',',\n",
       "    'arc': 'punct',\n",
       "    'lemma': ',',\n",
       "    'modifiers': [],\n",
       "    'word': ','},\n",
       "   {'NE': '',\n",
       "    'POS_coarse': 'ADJ',\n",
       "    'POS_fine': 'JJ',\n",
       "    'arc': 'amod',\n",
       "    'lemma': 'subject',\n",
       "    'modifiers': [{'NE': '',\n",
       "      'POS_coarse': 'ADP',\n",
       "      'POS_fine': 'IN',\n",
       "      'arc': 'prep',\n",
       "      'lemma': 'to',\n",
       "      'modifiers': [{'NE': '',\n",
       "        'POS_coarse': 'NOUN',\n",
       "        'POS_fine': 'NN',\n",
       "        'arc': 'pobj',\n",
       "        'lemma': 'approval',\n",
       "        'modifiers': [{'NE': '',\n",
       "          'POS_coarse': 'DET',\n",
       "          'POS_fine': 'DT',\n",
       "          'arc': 'det',\n",
       "          'lemma': 'the',\n",
       "          'modifiers': [],\n",
       "          'word': 'the'},\n",
       "         {'NE': '',\n",
       "          'POS_coarse': 'ADP',\n",
       "          'POS_fine': 'IN',\n",
       "          'arc': 'prep',\n",
       "          'lemma': 'of',\n",
       "          'modifiers': [{'NE': '',\n",
       "            'POS_coarse': 'NOUN',\n",
       "            'POS_fine': 'NN',\n",
       "            'arc': 'pobj',\n",
       "            'lemma': 'official',\n",
       "            'modifiers': [{'NE': '',\n",
       "              'POS_coarse': 'DET',\n",
       "              'POS_fine': 'DT',\n",
       "              'arc': 'det',\n",
       "              'lemma': 'the',\n",
       "              'modifiers': [],\n",
       "              'word': 'the'},\n",
       "             {'NE': '',\n",
       "              'POS_coarse': 'NOUN',\n",
       "              'POS_fine': 'NN',\n",
       "              'arc': 'compound',\n",
       "              'lemma': 'building',\n",
       "              'modifiers': [],\n",
       "              'word': 'building'}],\n",
       "            'word': 'official'}],\n",
       "          'word': 'of'}],\n",
       "        'word': 'approval'}],\n",
       "      'word': 'to'}],\n",
       "    'word': 'subject'},\n",
       "   {'NE': '',\n",
       "    'POS_coarse': 'PUNCT',\n",
       "    'POS_fine': '.',\n",
       "    'arc': 'punct',\n",
       "    'lemma': '.',\n",
       "    'modifiers': [],\n",
       "    'word': '.'}],\n",
       "  'word': 'permitted'},\n",
       " {'NE': '',\n",
       "  'POS_coarse': 'VERB',\n",
       "  'POS_fine': 'VBN',\n",
       "  'arc': 'ROOT',\n",
       "  'lemma': 'permit',\n",
       "  'modifiers': [{'NE': '',\n",
       "    'POS_coarse': 'NOUN',\n",
       "    'POS_fine': 'NN',\n",
       "    'arc': 'nsubjpass',\n",
       "    'lemma': 'official',\n",
       "    'modifiers': [{'NE': '',\n",
       "      'POS_coarse': 'DET',\n",
       "      'POS_fine': 'DT',\n",
       "      'arc': 'det',\n",
       "      'lemma': 'the',\n",
       "      'modifiers': [],\n",
       "      'word': 'The'},\n",
       "     {'NE': '',\n",
       "      'POS_coarse': 'NOUN',\n",
       "      'POS_fine': 'NN',\n",
       "      'arc': 'compound',\n",
       "      'lemma': 'building',\n",
       "      'modifiers': [],\n",
       "      'word': 'building'}],\n",
       "    'word': 'official'},\n",
       "   {'NE': '',\n",
       "    'POS_coarse': 'VERB',\n",
       "    'POS_fine': 'MD',\n",
       "    'arc': 'aux',\n",
       "    'lemma': 'shall',\n",
       "    'modifiers': [],\n",
       "    'word': 'shall'},\n",
       "   {'NE': '',\n",
       "    'POS_coarse': 'VERB',\n",
       "    'POS_fine': 'VB',\n",
       "    'arc': 'auxpass',\n",
       "    'lemma': 'be',\n",
       "    'modifiers': [],\n",
       "    'word': 'be'},\n",
       "   {'NE': '',\n",
       "    'POS_coarse': 'VERB',\n",
       "    'POS_fine': 'VB',\n",
       "    'arc': 'xcomp',\n",
       "    'lemma': 'require',\n",
       "    'modifiers': [{'NE': '',\n",
       "      'POS_coarse': 'PART',\n",
       "      'POS_fine': 'TO',\n",
       "      'arc': 'aux',\n",
       "      'lemma': 'to',\n",
       "      'modifiers': [],\n",
       "      'word': 'to'},\n",
       "     {'NE': '',\n",
       "      'POS_coarse': 'NOUN',\n",
       "      'POS_fine': 'NN',\n",
       "      'arc': 'dobj',\n",
       "      'lemma': 'investigation',\n",
       "      'modifiers': [{'NE': '',\n",
       "        'POS_coarse': 'DET',\n",
       "        'POS_fine': 'DT',\n",
       "        'arc': 'det',\n",
       "        'lemma': 'a',\n",
       "        'modifiers': [],\n",
       "        'word': 'a'},\n",
       "       {'NE': '',\n",
       "        'POS_coarse': 'ADJ',\n",
       "        'POS_fine': 'JJ',\n",
       "        'arc': 'amod',\n",
       "        'lemma': 'geotechnical',\n",
       "        'modifiers': [],\n",
       "        'word': 'geotechnical'}],\n",
       "      'word': 'investigation'},\n",
       "     {'NE': '',\n",
       "      'POS_coarse': 'VERB',\n",
       "      'POS_fine': 'VBN',\n",
       "      'arc': 'advcl',\n",
       "      'lemma': 'set',\n",
       "      'modifiers': [{'NE': '',\n",
       "        'POS_coarse': 'ADP',\n",
       "        'POS_fine': 'IN',\n",
       "        'arc': 'mark',\n",
       "        'lemma': 'as',\n",
       "        'modifiers': [],\n",
       "        'word': 'as'},\n",
       "       {'NE': '',\n",
       "        'POS_coarse': 'PART',\n",
       "        'POS_fine': 'RP',\n",
       "        'arc': 'prt',\n",
       "        'lemma': 'forth',\n",
       "        'modifiers': [],\n",
       "        'word': 'forth'},\n",
       "       {'NE': '',\n",
       "        'POS_coarse': 'ADP',\n",
       "        'POS_fine': 'IN',\n",
       "        'arc': 'prep',\n",
       "        'lemma': 'in',\n",
       "        'modifiers': [{'NE': '',\n",
       "          'POS_coarse': 'NUM',\n",
       "          'POS_fine': 'CD',\n",
       "          'arc': 'pobj',\n",
       "          'lemma': '1803.5.10',\n",
       "          'modifiers': [{'NE': '',\n",
       "            'POS_coarse': 'NOUN',\n",
       "            'POS_fine': 'NN',\n",
       "            'arc': 'compound',\n",
       "            'lemma': 'section',\n",
       "            'modifiers': [],\n",
       "            'word': 'Section'}],\n",
       "          'word': '1803.5.10'}],\n",
       "        'word': 'in'}],\n",
       "      'word': 'set'}],\n",
       "    'word': 'require'},\n",
       "   {'NE': '',\n",
       "    'POS_coarse': 'PUNCT',\n",
       "    'POS_fine': '.',\n",
       "    'arc': 'punct',\n",
       "    'lemma': '.',\n",
       "    'modifiers': [],\n",
       "    'word': '.'}],\n",
       "  'word': 'permitted'}]"
      ]
     },
     "execution_count": 108,
     "metadata": {},
     "output_type": "execute_result"
    }
   ],
   "source": [
    "doc.print_tree()"
   ]
  },
  {
   "cell_type": "code",
   "execution_count": null,
   "metadata": {},
   "outputs": [],
   "source": []
  }
 ],
 "metadata": {
  "kernelspec": {
   "display_name": "Python 3",
   "language": "python",
   "name": "python3"
  },
  "language_info": {
   "codemirror_mode": {
    "name": "ipython",
    "version": 3
   },
   "file_extension": ".py",
   "mimetype": "text/x-python",
   "name": "python",
   "nbconvert_exporter": "python",
   "pygments_lexer": "ipython3",
   "version": "3.6.3"
  }
 },
 "nbformat": 4,
 "nbformat_minor": 2
}
