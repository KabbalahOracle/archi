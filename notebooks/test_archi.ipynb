{
 "cells": [
  {
   "cell_type": "code",
   "execution_count": 1,
   "metadata": {},
   "outputs": [
    {
     "name": "stdout",
     "output_type": "stream",
     "text": [
      "/Users/nguyen/projects/archi\n"
     ]
    }
   ],
   "source": [
    "cd .."
   ]
  },
  {
   "cell_type": "code",
   "execution_count": 47,
   "metadata": {},
   "outputs": [],
   "source": [
    "from src.archi_nlp import Archi"
   ]
  },
  {
   "cell_type": "markdown",
   "metadata": {},
   "source": [
    "### Create Archi :)"
   ]
  },
  {
   "cell_type": "code",
   "execution_count": 3,
   "metadata": {},
   "outputs": [],
   "source": [
    "archi = Archi('en')"
   ]
  },
  {
   "cell_type": "markdown",
   "metadata": {},
   "source": [
    "### Get the raw data"
   ]
  },
  {
   "cell_type": "code",
   "execution_count": 6,
   "metadata": {},
   "outputs": [],
   "source": [
    "archi.get_raw_data('data/raw_df/ibc.pkl')"
   ]
  },
  {
   "cell_type": "code",
   "execution_count": 7,
   "metadata": {},
   "outputs": [],
   "source": [
    "archi.get_raw_data('data/raw_df/asce7.pkl')"
   ]
  },
  {
   "cell_type": "code",
   "execution_count": 8,
   "metadata": {},
   "outputs": [
    {
     "data": {
      "text/plain": [
       "6051"
      ]
     },
     "execution_count": 8,
     "metadata": {},
     "output_type": "execute_result"
    }
   ],
   "source": [
    "len(archi.raw_data)"
   ]
  },
  {
   "cell_type": "markdown",
   "metadata": {},
   "source": [
    "### Add an nlp_doc column to the raw_data using the object's nlp model"
   ]
  },
  {
   "cell_type": "code",
   "execution_count": 9,
   "metadata": {},
   "outputs": [
    {
     "name": "stdout",
     "output_type": "stream",
     "text": [
      "CPU times: user 2min 48s, sys: 20.1 s, total: 3min 8s\n",
      "Wall time: 2min 1s\n"
     ]
    }
   ],
   "source": [
    "%time archi.fit_nlp()"
   ]
  },
  {
   "cell_type": "code",
   "execution_count": 10,
   "metadata": {},
   "outputs": [],
   "source": [
    "data = archi.raw_nlp_data"
   ]
  },
  {
   "cell_type": "code",
   "execution_count": 11,
   "metadata": {},
   "outputs": [
    {
     "data": {
      "text/plain": [
       "The load effects of the design wind pressures from Section 28.6.3 shall not be less than a minimum load defined by assuming the pressures, ps, for zones A and C equal to +16 psf, Zones B and D equal to +8 psf, while assuming ps for Zones E, F, G, and His equal to 0 psf."
      ]
     },
     "execution_count": 11,
     "metadata": {},
     "output_type": "execute_result"
    }
   ],
   "source": [
    "data.loc[6050, 'nlp_doc']"
   ]
  },
  {
   "cell_type": "code",
   "execution_count": 12,
   "metadata": {},
   "outputs": [
    {
     "data": {
      "text/html": [
       "<div>\n",
       "<style>\n",
       "    .dataframe thead tr:only-child th {\n",
       "        text-align: right;\n",
       "    }\n",
       "\n",
       "    .dataframe thead th {\n",
       "        text-align: left;\n",
       "    }\n",
       "\n",
       "    .dataframe tbody tr th {\n",
       "        vertical-align: top;\n",
       "    }\n",
       "</style>\n",
       "<table border=\"1\" class=\"dataframe\">\n",
       "  <thead>\n",
       "    <tr style=\"text-align: right;\">\n",
       "      <th></th>\n",
       "      <th>_id</th>\n",
       "      <th>code</th>\n",
       "      <th>title</th>\n",
       "      <th>nlp_doc</th>\n",
       "    </tr>\n",
       "  </thead>\n",
       "  <tbody>\n",
       "    <tr>\n",
       "      <th>0</th>\n",
       "      <td>5acce476ed4f1f214d78ccd0</td>\n",
       "      <td></td>\n",
       "      <td>Chapter 31 Special Construction</td>\n",
       "      <td>()</td>\n",
       "    </tr>\n",
       "    <tr>\n",
       "      <th>1</th>\n",
       "      <td>5acce476ed4f1f214d78ccd1</td>\n",
       "      <td></td>\n",
       "      <td>Section 3101 General</td>\n",
       "      <td>()</td>\n",
       "    </tr>\n",
       "    <tr>\n",
       "      <th>2</th>\n",
       "      <td>5acce476ed4f1f214d78ccd2</td>\n",
       "      <td>The provisions of this chapter shall govern sp...</td>\n",
       "      <td>3101.1 Scope</td>\n",
       "      <td>(The, provisions, of, this, chapter, shall, go...</td>\n",
       "    </tr>\n",
       "    <tr>\n",
       "      <th>3</th>\n",
       "      <td>5acce476ed4f1f214d78ccd3</td>\n",
       "      <td></td>\n",
       "      <td>Section 3102 Membrane Structures</td>\n",
       "      <td>()</td>\n",
       "    </tr>\n",
       "    <tr>\n",
       "      <th>4</th>\n",
       "      <td>5acce476ed4f1f214d78ccd4</td>\n",
       "      <td>The provisions of Sections 3102.1 through 3102...</td>\n",
       "      <td>3102.1 General</td>\n",
       "      <td>(The, provisions, of, Sections, 3102.1, throug...</td>\n",
       "    </tr>\n",
       "  </tbody>\n",
       "</table>\n",
       "</div>"
      ],
      "text/plain": [
       "                        _id  \\\n",
       "0  5acce476ed4f1f214d78ccd0   \n",
       "1  5acce476ed4f1f214d78ccd1   \n",
       "2  5acce476ed4f1f214d78ccd2   \n",
       "3  5acce476ed4f1f214d78ccd3   \n",
       "4  5acce476ed4f1f214d78ccd4   \n",
       "\n",
       "                                                code  \\\n",
       "0                                                      \n",
       "1                                                      \n",
       "2  The provisions of this chapter shall govern sp...   \n",
       "3                                                      \n",
       "4  The provisions of Sections 3102.1 through 3102...   \n",
       "\n",
       "                              title  \\\n",
       "0   Chapter 31 Special Construction   \n",
       "1              Section 3101 General   \n",
       "2                      3101.1 Scope   \n",
       "3  Section 3102 Membrane Structures   \n",
       "4                    3102.1 General   \n",
       "\n",
       "                                             nlp_doc  \n",
       "0                                                 ()  \n",
       "1                                                 ()  \n",
       "2  (The, provisions, of, this, chapter, shall, go...  \n",
       "3                                                 ()  \n",
       "4  (The, provisions, of, Sections, 3102.1, throug...  "
      ]
     },
     "execution_count": 12,
     "metadata": {},
     "output_type": "execute_result"
    }
   ],
   "source": [
    "data.head()"
   ]
  },
  {
   "cell_type": "markdown",
   "metadata": {},
   "source": [
    "### Save the dataframe with nlp_doc to a pickle"
   ]
  },
  {
   "cell_type": "code",
   "execution_count": 13,
   "metadata": {},
   "outputs": [],
   "source": [
    "archi.pickle_raw_nlp('data/nlp_df/raw_0508.pkl')"
   ]
  },
  {
   "cell_type": "markdown",
   "metadata": {},
   "source": [
    "### Create new Archi and get the raw nlp data"
   ]
  },
  {
   "cell_type": "code",
   "execution_count": 48,
   "metadata": {},
   "outputs": [],
   "source": [
    "archi = Archi('en')"
   ]
  },
  {
   "cell_type": "code",
   "execution_count": 49,
   "metadata": {},
   "outputs": [],
   "source": [
    "archi.get_raw_nlp_data('data/nlp_df/raw_0508.pkl')"
   ]
  },
  {
   "cell_type": "code",
   "execution_count": 52,
   "metadata": {},
   "outputs": [
    {
     "data": {
      "text/plain": [
       "('The following wind load parameters shall be determined in accordance with Chapter 26:  Basic wind speed V (Section 26.5), Wind directionality factor Kd (Section 26.6), Exposure category (Section 26.7), Topographic factor Kzt, (Section 26.8), and Enclosure classification (Section 26.10). ',\n",
       " {'ent_word': [('Chapter 26', 11, 13, 'LAW'),\n",
       "   (' Basic', 14, 16, 'LAW'),\n",
       "   ('Kd', 27, 28, 'PERSON'),\n",
       "   ('Section 26.7', 36, 38, 'LAW'),\n",
       "   ('Topographic', 40, 41, 'PERSON'),\n",
       "   ('Kzt', 42, 43, 'GPE')],\n",
       "  'entities': [(11, 13, 'LAW'),\n",
       "   (14, 16, 'LAW'),\n",
       "   (27, 28, 'PERSON'),\n",
       "   (36, 38, 'LAW'),\n",
       "   (40, 41, 'PERSON'),\n",
       "   (42, 43, 'GPE')]})"
      ]
     },
     "execution_count": 52,
     "metadata": {},
     "output_type": "execute_result"
    }
   ],
   "source": [
    "docket = archi.prep_ner_train()\n",
    "docket"
   ]
  },
  {
   "cell_type": "code",
   "execution_count": 58,
   "metadata": {},
   "outputs": [],
   "source": [
    "docket2 = archi.prep_ner_train()"
   ]
  },
  {
   "cell_type": "code",
   "execution_count": 59,
   "metadata": {},
   "outputs": [
    {
     "data": {
      "text/plain": [
       "('Fire doors in horizontal exits shall be self-closing or automatic-closing when activated by a smoke detector in accordance with Section 716.5.9.3. Doors, where located in a cross-corridor condition, shall be automatic-closing by activation of a smoke detector installed in accordance with Section 716.5.9.3.',\n",
       " {'ent_word': [('Section 716.5.9.3', 23, 25, 'LAW'),\n",
       "   ('Section 716.5.9.3', 52, 54, 'LAW')],\n",
       "  'entities': [(23, 25, 'LAW'), (52, 54, 'LAW')]})"
      ]
     },
     "execution_count": 59,
     "metadata": {},
     "output_type": "execute_result"
    }
   ],
   "source": [
    "docket2"
   ]
  },
  {
   "cell_type": "code",
   "execution_count": null,
   "metadata": {},
   "outputs": [],
   "source": []
  }
 ],
 "metadata": {
  "kernelspec": {
   "display_name": "Python 3",
   "language": "python",
   "name": "python3"
  },
  "language_info": {
   "codemirror_mode": {
    "name": "ipython",
    "version": 3
   },
   "file_extension": ".py",
   "mimetype": "text/x-python",
   "name": "python",
   "nbconvert_exporter": "python",
   "pygments_lexer": "ipython3",
   "version": "3.6.3"
  }
 },
 "nbformat": 4,
 "nbformat_minor": 2
}
