{
 "cells": [
  {
   "cell_type": "code",
   "execution_count": 1,
   "metadata": {},
   "outputs": [
    {
     "name": "stdout",
     "output_type": "stream",
     "text": [
      "/Users/nguyen/projects/archi\n"
     ]
    }
   ],
   "source": [
    "cd .."
   ]
  },
  {
   "cell_type": "code",
   "execution_count": 304,
   "metadata": {},
   "outputs": [],
   "source": [
    "from src.archi_nlp import Archi, NER_data"
   ]
  },
  {
   "cell_type": "markdown",
   "metadata": {},
   "source": [
    "### Create Archi :)"
   ]
  },
  {
   "cell_type": "code",
   "execution_count": 3,
   "metadata": {},
   "outputs": [],
   "source": [
    "archi = Archi('en')"
   ]
  },
  {
   "cell_type": "markdown",
   "metadata": {},
   "source": [
    "### Get the raw data"
   ]
  },
  {
   "cell_type": "code",
   "execution_count": 6,
   "metadata": {},
   "outputs": [],
   "source": [
    "archi.get_raw_data('data/raw_df/ibc.pkl')"
   ]
  },
  {
   "cell_type": "code",
   "execution_count": 7,
   "metadata": {},
   "outputs": [],
   "source": [
    "archi.get_raw_data('data/raw_df/asce7.pkl')"
   ]
  },
  {
   "cell_type": "code",
   "execution_count": 8,
   "metadata": {},
   "outputs": [
    {
     "data": {
      "text/plain": [
       "6051"
      ]
     },
     "execution_count": 8,
     "metadata": {},
     "output_type": "execute_result"
    }
   ],
   "source": [
    "len(archi.raw_data)"
   ]
  },
  {
   "cell_type": "markdown",
   "metadata": {},
   "source": [
    "### Add an nlp_doc column to the raw_data using the object's nlp model"
   ]
  },
  {
   "cell_type": "code",
   "execution_count": 9,
   "metadata": {},
   "outputs": [
    {
     "name": "stdout",
     "output_type": "stream",
     "text": [
      "CPU times: user 2min 48s, sys: 20.1 s, total: 3min 8s\n",
      "Wall time: 2min 1s\n"
     ]
    }
   ],
   "source": [
    "%time archi.fit_nlp()"
   ]
  },
  {
   "cell_type": "code",
   "execution_count": 10,
   "metadata": {},
   "outputs": [],
   "source": [
    "data = archi.raw_nlp_data"
   ]
  },
  {
   "cell_type": "code",
   "execution_count": 11,
   "metadata": {},
   "outputs": [
    {
     "data": {
      "text/plain": [
       "The load effects of the design wind pressures from Section 28.6.3 shall not be less than a minimum load defined by assuming the pressures, ps, for zones A and C equal to +16 psf, Zones B and D equal to +8 psf, while assuming ps for Zones E, F, G, and His equal to 0 psf."
      ]
     },
     "execution_count": 11,
     "metadata": {},
     "output_type": "execute_result"
    }
   ],
   "source": [
    "data.loc[6050, 'nlp_doc']"
   ]
  },
  {
   "cell_type": "code",
   "execution_count": 12,
   "metadata": {},
   "outputs": [
    {
     "data": {
      "text/html": [
       "<div>\n",
       "<style>\n",
       "    .dataframe thead tr:only-child th {\n",
       "        text-align: right;\n",
       "    }\n",
       "\n",
       "    .dataframe thead th {\n",
       "        text-align: left;\n",
       "    }\n",
       "\n",
       "    .dataframe tbody tr th {\n",
       "        vertical-align: top;\n",
       "    }\n",
       "</style>\n",
       "<table border=\"1\" class=\"dataframe\">\n",
       "  <thead>\n",
       "    <tr style=\"text-align: right;\">\n",
       "      <th></th>\n",
       "      <th>_id</th>\n",
       "      <th>code</th>\n",
       "      <th>title</th>\n",
       "      <th>nlp_doc</th>\n",
       "    </tr>\n",
       "  </thead>\n",
       "  <tbody>\n",
       "    <tr>\n",
       "      <th>0</th>\n",
       "      <td>5acce476ed4f1f214d78ccd0</td>\n",
       "      <td></td>\n",
       "      <td>Chapter 31 Special Construction</td>\n",
       "      <td>()</td>\n",
       "    </tr>\n",
       "    <tr>\n",
       "      <th>1</th>\n",
       "      <td>5acce476ed4f1f214d78ccd1</td>\n",
       "      <td></td>\n",
       "      <td>Section 3101 General</td>\n",
       "      <td>()</td>\n",
       "    </tr>\n",
       "    <tr>\n",
       "      <th>2</th>\n",
       "      <td>5acce476ed4f1f214d78ccd2</td>\n",
       "      <td>The provisions of this chapter shall govern sp...</td>\n",
       "      <td>3101.1 Scope</td>\n",
       "      <td>(The, provisions, of, this, chapter, shall, go...</td>\n",
       "    </tr>\n",
       "    <tr>\n",
       "      <th>3</th>\n",
       "      <td>5acce476ed4f1f214d78ccd3</td>\n",
       "      <td></td>\n",
       "      <td>Section 3102 Membrane Structures</td>\n",
       "      <td>()</td>\n",
       "    </tr>\n",
       "    <tr>\n",
       "      <th>4</th>\n",
       "      <td>5acce476ed4f1f214d78ccd4</td>\n",
       "      <td>The provisions of Sections 3102.1 through 3102...</td>\n",
       "      <td>3102.1 General</td>\n",
       "      <td>(The, provisions, of, Sections, 3102.1, throug...</td>\n",
       "    </tr>\n",
       "  </tbody>\n",
       "</table>\n",
       "</div>"
      ],
      "text/plain": [
       "                        _id  \\\n",
       "0  5acce476ed4f1f214d78ccd0   \n",
       "1  5acce476ed4f1f214d78ccd1   \n",
       "2  5acce476ed4f1f214d78ccd2   \n",
       "3  5acce476ed4f1f214d78ccd3   \n",
       "4  5acce476ed4f1f214d78ccd4   \n",
       "\n",
       "                                                code  \\\n",
       "0                                                      \n",
       "1                                                      \n",
       "2  The provisions of this chapter shall govern sp...   \n",
       "3                                                      \n",
       "4  The provisions of Sections 3102.1 through 3102...   \n",
       "\n",
       "                              title  \\\n",
       "0   Chapter 31 Special Construction   \n",
       "1              Section 3101 General   \n",
       "2                      3101.1 Scope   \n",
       "3  Section 3102 Membrane Structures   \n",
       "4                    3102.1 General   \n",
       "\n",
       "                                             nlp_doc  \n",
       "0                                                 ()  \n",
       "1                                                 ()  \n",
       "2  (The, provisions, of, this, chapter, shall, go...  \n",
       "3                                                 ()  \n",
       "4  (The, provisions, of, Sections, 3102.1, throug...  "
      ]
     },
     "execution_count": 12,
     "metadata": {},
     "output_type": "execute_result"
    }
   ],
   "source": [
    "data.head()"
   ]
  },
  {
   "cell_type": "markdown",
   "metadata": {},
   "source": [
    "### Save the dataframe with nlp_doc to a pickle"
   ]
  },
  {
   "cell_type": "code",
   "execution_count": 13,
   "metadata": {},
   "outputs": [],
   "source": [
    "archi.pickle_raw_nlp('data/nlp_df/raw_0508.pkl')"
   ]
  },
  {
   "cell_type": "markdown",
   "metadata": {},
   "source": [
    "### Create NER data class object for machine teaching"
   ]
  },
  {
   "cell_type": "code",
   "execution_count": 305,
   "metadata": {},
   "outputs": [],
   "source": [
    "archi = Archi('en')"
   ]
  },
  {
   "cell_type": "code",
   "execution_count": 306,
   "metadata": {},
   "outputs": [],
   "source": [
    "archi.get_raw_nlp_data('data/nlp_df/raw_0508.pkl')"
   ]
  },
  {
   "cell_type": "code",
   "execution_count": 307,
   "metadata": {},
   "outputs": [],
   "source": [
    "archi.build_ner_train()"
   ]
  },
  {
   "cell_type": "code",
   "execution_count": 310,
   "metadata": {},
   "outputs": [
    {
     "data": {
      "text/plain": [
       "('Externally illuminated exit signs shall comply with Sections 1013.6.1 through 1013.6.3.',\n",
       " {'entities': [('1013.6.1', 8, 9, 'CARDINAL'),\n",
       "   ('1013.6.3', 10, 11, 'CARDINAL')]})"
      ]
     },
     "execution_count": 310,
     "metadata": {},
     "output_type": "execute_result"
    }
   ],
   "source": [
    "docket = archi.review_ner_train()\n",
    "docket.view_data"
   ]
  },
  {
   "cell_type": "code",
   "execution_count": 311,
   "metadata": {},
   "outputs": [],
   "source": [
    "ent = NER_data(docket.ent_data, docket.view_data)"
   ]
  },
  {
   "cell_type": "code",
   "execution_count": 257,
   "metadata": {},
   "outputs": [
    {
     "ename": "UnboundLocalError",
     "evalue": "local variable 'start' referenced before assignment",
     "output_type": "error",
     "traceback": [
      "\u001b[0;31m---------------------------------------------------------------------------\u001b[0m",
      "\u001b[0;31mUnboundLocalError\u001b[0m                         Traceback (most recent call last)",
      "\u001b[0;32m<ipython-input-257-b55c17ed3bfa>\u001b[0m in \u001b[0;36m<module>\u001b[0;34m()\u001b[0m\n\u001b[0;32m----> 1\u001b[0;31m \u001b[0ment\u001b[0m\u001b[0;34m.\u001b[0m\u001b[0madd_ent\u001b[0m\u001b[0;34m(\u001b[0m\u001b[0;34m\"sleeping units\"\u001b[0m\u001b[0;34m,\u001b[0m \u001b[0;34m'ARCH'\u001b[0m\u001b[0;34m)\u001b[0m\u001b[0;34m\u001b[0m\u001b[0m\n\u001b[0m",
      "\u001b[0;32m~/projects/archi/src/archi_nlp.py\u001b[0m in \u001b[0;36madd_ent\u001b[0;34m(self, text, label)\u001b[0m\n\u001b[1;32m    158\u001b[0m             \u001b[0;32melse\u001b[0m\u001b[0;34m:\u001b[0m\u001b[0;34m\u001b[0m\u001b[0m\n\u001b[1;32m    159\u001b[0m                 \u001b[0mstart\u001b[0m \u001b[0;34m=\u001b[0m \u001b[0mself\u001b[0m\u001b[0;34m.\u001b[0m\u001b[0ment_data\u001b[0m\u001b[0;34m[\u001b[0m\u001b[0;36m0\u001b[0m\u001b[0;34m]\u001b[0m\u001b[0;34m.\u001b[0m\u001b[0msplit\u001b[0m\u001b[0;34m(\u001b[0m\u001b[0;34m)\u001b[0m\u001b[0;34m.\u001b[0m\u001b[0mindex\u001b[0m\u001b[0;34m(\u001b[0m\u001b[0mtext\u001b[0m\u001b[0;34m)\u001b[0m\u001b[0;34m\u001b[0m\u001b[0m\n\u001b[0;32m--> 160\u001b[0;31m             \u001b[0mend\u001b[0m \u001b[0;34m=\u001b[0m \u001b[0mstart\u001b[0m \u001b[0;34m+\u001b[0m \u001b[0mlen\u001b[0m\u001b[0;34m(\u001b[0m\u001b[0mtext\u001b[0m\u001b[0;34m.\u001b[0m\u001b[0msplit\u001b[0m\u001b[0;34m(\u001b[0m\u001b[0;34m)\u001b[0m\u001b[0;34m)\u001b[0m\u001b[0;34m\u001b[0m\u001b[0m\n\u001b[0m\u001b[1;32m    161\u001b[0m \u001b[0;34m\u001b[0m\u001b[0m\n\u001b[1;32m    162\u001b[0m             \u001b[0mself\u001b[0m\u001b[0;34m.\u001b[0m\u001b[0m_add_ent\u001b[0m\u001b[0;34m(\u001b[0m\u001b[0mtext\u001b[0m\u001b[0;34m,\u001b[0m \u001b[0mstart\u001b[0m\u001b[0;34m,\u001b[0m \u001b[0mend\u001b[0m\u001b[0;34m,\u001b[0m \u001b[0mlabel\u001b[0m\u001b[0;34m)\u001b[0m\u001b[0;34m\u001b[0m\u001b[0m\n",
      "\u001b[0;31mUnboundLocalError\u001b[0m: local variable 'start' referenced before assignment"
     ]
    }
   ],
   "source": [
    "ent.add_ent(\"sleeping units\", 'ARCH')"
   ]
  },
  {
   "cell_type": "code",
   "execution_count": 285,
   "metadata": {},
   "outputs": [
    {
     "name": "stdout",
     "output_type": "stream",
     "text": [
      "('Passenger loading zones shall be accessible.', {'entities': [('loading', 1, 2, 'STRUCTURAL')]})\n"
     ]
    }
   ],
   "source": [
    "ent.add_ent('loading', 'STRUCTURAL')"
   ]
  },
  {
   "cell_type": "code",
   "execution_count": 210,
   "metadata": {},
   "outputs": [
    {
     "name": "stdout",
     "output_type": "stream",
     "text": [
      "('Decorative materials and trim shall be restricted by combustibility, fire performance or flame propagation performance criteria in accordance with Section 806.', {'entities': [('Section 806', 20, 22, 'LAW'), ('flame propagation performance criteria', 12, 16, 'FIRE')]})\n"
     ]
    }
   ],
   "source": [
    "ent.del_ent('Decorative')"
   ]
  },
  {
   "cell_type": "code",
   "execution_count": 205,
   "metadata": {},
   "outputs": [
    {
     "data": {
      "text/plain": [
       "('Decorative materials and trim shall be restricted by combustibility, fire performance or flame propagation performance criteria in accordance with Section 806.',\n",
       " {'entities': [('Section 806', 20, 22, 'LAW'),\n",
       "   ('flame propagation performance criteria', 12, 16, 'FIRE')]})"
      ]
     },
     "execution_count": 205,
     "metadata": {},
     "output_type": "execute_result"
    }
   ],
   "source": [
    "ent.view_data"
   ]
  },
  {
   "cell_type": "code",
   "execution_count": 317,
   "metadata": {},
   "outputs": [
    {
     "name": "stdout",
     "output_type": "stream",
     "text": [
      "('Externally illuminated exit signs shall comply with Sections 1013.6.1 through 1013.6.3.', {'entities': [('1013.6.1', 8, 9, 'FIRE'), ('1013.6.3', 10, 11, 'CARDINAL')]})\n"
     ]
    }
   ],
   "source": [
    "ent.modify_ent(\"1013.6.1\", label='FIRE')"
   ]
  },
  {
   "cell_type": "code",
   "execution_count": 292,
   "metadata": {},
   "outputs": [
    {
     "data": {
      "text/plain": [
       "('Passenger loading zones shall be accessible.',\n",
       " {'entities': [('loading', 1, 2, 'AEC')]})"
      ]
     },
     "execution_count": 292,
     "metadata": {},
     "output_type": "execute_result"
    }
   ],
   "source": [
    "ent.view_data"
   ]
  },
  {
   "cell_type": "code",
   "execution_count": 293,
   "metadata": {},
   "outputs": [
    {
     "data": {
      "text/plain": [
       "('Passenger loading zones shall be accessible.', {'entities': [(1, 2, 'AEC')]})"
      ]
     },
     "execution_count": 293,
     "metadata": {},
     "output_type": "execute_result"
    }
   ],
   "source": [
    "ent.ent_data"
   ]
  },
  {
   "cell_type": "code",
   "execution_count": 247,
   "metadata": {},
   "outputs": [],
   "source": [
    "a.sort()"
   ]
  },
  {
   "cell_type": "code",
   "execution_count": 302,
   "metadata": {},
   "outputs": [],
   "source": [
    "tup_list = [('one', 17, 18, 'CARDINAL'),\n",
    "   ('three', 21, 22, 'CARDINAL'),\n",
    "   ('Section 20.4', 37, 39, 'LAW'),\n",
    "   ('100', 45, 46, 'CARDINAL'),\n",
    "   ('30 m', 48, 50, 'QUANTITY'),\n",
    "   ('100 ft', 60, 62, 'QUANTITY'),\n",
    "   ('30 m', 63, 65, 'QUANTITY'),\n",
    "   ('PI', 77, 78, 'ORG'),\n",
    "   ('20', 79, 80, 'CARDINAL'),\n",
    "   ('100', 84, 85, 'CARDINAL'),\n",
    "   ('30 m', 87, 89, 'QUANTITY'),\n",
    "   ('PI', 97, 98, 'ORG'),\n",
    "   ('20', 99, 100, 'CARDINAL'),\n",
    "   ('100 ft', 104, 106, 'QUANTITY'),\n",
    "   ('30 m', 107, 109, 'QUANTITY')]"
   ]
  },
  {
   "cell_type": "code",
   "execution_count": 303,
   "metadata": {},
   "outputs": [
    {
     "name": "stdout",
     "output_type": "stream",
     "text": [
      "False\n",
      "False\n",
      "False\n",
      "False\n",
      "False\n",
      "True\n",
      "False\n",
      "False\n",
      "False\n",
      "False\n",
      "False\n",
      "False\n",
      "False\n",
      "True\n",
      "False\n"
     ]
    }
   ],
   "source": [
    "for tup in tup_list:\n",
    "    print('100 ft' in tup)"
   ]
  },
  {
   "cell_type": "code",
   "execution_count": null,
   "metadata": {},
   "outputs": [],
   "source": []
  }
 ],
 "metadata": {
  "kernelspec": {
   "display_name": "Python 3",
   "language": "python",
   "name": "python3"
  },
  "language_info": {
   "codemirror_mode": {
    "name": "ipython",
    "version": 3
   },
   "file_extension": ".py",
   "mimetype": "text/x-python",
   "name": "python",
   "nbconvert_exporter": "python",
   "pygments_lexer": "ipython3",
   "version": "3.6.3"
  }
 },
 "nbformat": 4,
 "nbformat_minor": 2
}
