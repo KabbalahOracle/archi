{
 "cells": [
  {
   "cell_type": "code",
   "execution_count": 1,
   "metadata": {},
   "outputs": [
    {
     "name": "stdout",
     "output_type": "stream",
     "text": [
      "/Users/nguyen/projects/archi\n"
     ]
    }
   ],
   "source": [
    "cd .."
   ]
  },
  {
   "cell_type": "code",
   "execution_count": 7,
   "metadata": {},
   "outputs": [],
   "source": [
    "from src.archi_nlp import Archi, NER_data\n",
    "\n",
    "import pandas as pd"
   ]
  },
  {
   "cell_type": "markdown",
   "metadata": {},
   "source": [
    "### Create Archi 🌈"
   ]
  },
  {
   "cell_type": "code",
   "execution_count": 8,
   "metadata": {},
   "outputs": [],
   "source": [
    "archi = Archi('en')"
   ]
  },
  {
   "cell_type": "markdown",
   "metadata": {},
   "source": [
    "### Get the NER train data"
   ]
  },
  {
   "cell_type": "code",
   "execution_count": 9,
   "metadata": {},
   "outputs": [],
   "source": [
    "archi.get_ner_train_data('data/ner/18-05-09_ner.pkl')"
   ]
  },
  {
   "cell_type": "markdown",
   "metadata": {},
   "source": [
    "### Train the nlp model with the new entity labels"
   ]
  },
  {
   "cell_type": "code",
   "execution_count": 10,
   "metadata": {},
   "outputs": [
    {
     "name": "stderr",
     "output_type": "stream",
     "text": [
      "/Users/nguyen/anaconda3/lib/python3.6/site-packages/numpy/linalg/linalg.py:2168: RuntimeWarning: invalid value encountered in sqrt\n",
      "  ret = sqrt(sqnorm)\n"
     ]
    },
    {
     "name": "stdout",
     "output_type": "stream",
     "text": [
      "{'ner': 85.564491437573423}\n",
      "Saved model to src/models\n",
      "Loading from src/models\n",
      "Archi object has been updated to new model\n"
     ]
    }
   ],
   "source": [
    "archi.ner_train(output_dir='src/models/', new_label=['PRODUCT', 'RULE'])"
   ]
  },
  {
   "cell_type": "markdown",
   "metadata": {},
   "source": [
    "### Get the raw data"
   ]
  },
  {
   "cell_type": "code",
   "execution_count": 11,
   "metadata": {},
   "outputs": [],
   "source": [
    "archi.get_raw_data('data/raw_df/ibc.pkl')"
   ]
  },
  {
   "cell_type": "markdown",
   "metadata": {},
   "source": [
    "### Fit the raw data with the new nlp model"
   ]
  },
  {
   "cell_type": "code",
   "execution_count": 12,
   "metadata": {},
   "outputs": [],
   "source": [
    "archi.fit_nlp()"
   ]
  },
  {
   "cell_type": "markdown",
   "metadata": {},
   "source": [
    "### Pickle the nlp model to avoid training the default model again"
   ]
  },
  {
   "cell_type": "code",
   "execution_count": 14,
   "metadata": {},
   "outputs": [],
   "source": [
    "archi.pickle_raw_nlp('data/nlp_df/raw_nlp_0509.pkl')"
   ]
  },
  {
   "cell_type": "code",
   "execution_count": null,
   "metadata": {},
   "outputs": [],
   "source": []
  },
  {
   "cell_type": "markdown",
   "metadata": {},
   "source": [
    "### Check the results by building a new random sample of NER train data"
   ]
  },
  {
   "cell_type": "code",
   "execution_count": 15,
   "metadata": {},
   "outputs": [],
   "source": [
    "archi.build_ner_train()"
   ]
  },
  {
   "cell_type": "markdown",
   "metadata": {},
   "source": [
    "### Serve one row of data at a time to the reviewer"
   ]
  },
  {
   "cell_type": "code",
   "execution_count": 17,
   "metadata": {},
   "outputs": [
    {
     "data": {
      "text/plain": [
       "('Automatic sprinkler systems shall be provided in high-hazard occupancies as required in Sections 903.2.5.1 through 903.2.5.3.',\n",
       " {'entities': [('903.2.5.1', 15, 16, 'CARDINAL'),\n",
       "   ('903.2.5.3', 17, 18, 'CARDINAL')]})"
      ]
     },
     "execution_count": 17,
     "metadata": {},
     "output_type": "execute_result"
    }
   ],
   "source": [
    "docket = archi.review_ner_train()\n",
    "docket.view_data"
   ]
  },
  {
   "cell_type": "markdown",
   "metadata": {},
   "source": [
    "### It did not seem like the model learned much...\n",
    "This is sort of expected since the spaCy documentation recommends a training set of 100 items."
   ]
  },
  {
   "cell_type": "markdown",
   "metadata": {},
   "source": [
    "### Add more NER data to improve training"
   ]
  },
  {
   "cell_type": "code",
   "execution_count": 19,
   "metadata": {},
   "outputs": [],
   "source": [
    "archi.get_ner_train_data('data/ner/18-05-09_ner.pkl')"
   ]
  },
  {
   "cell_type": "code",
   "execution_count": 22,
   "metadata": {},
   "outputs": [
    {
     "data": {
      "text/plain": [
       "('The application of SFRM shall be consistent with the fire-resistance rating and the listing, including, but not limited to, minimum thickness and dry density of the applied SFRM, method of application, substrate surface conditions and the use of bonding adhesives, sealants, reinforcing or other materials.',\n",
       " {'entities': [('SFRM', 32, 33, 'GPE')]})"
      ]
     },
     "execution_count": 22,
     "metadata": {},
     "output_type": "execute_result"
    }
   ],
   "source": [
    "docket = archi.review_ner_train()\n",
    "docket.view_data"
   ]
  },
  {
   "cell_type": "code",
   "execution_count": 23,
   "metadata": {},
   "outputs": [
    {
     "name": "stdout",
     "output_type": "stream",
     "text": [
      "Warning: check if index is correct.\n",
      "('The application of SFRM shall be consistent with the fire-resistance rating and the listing, including, but not limited to, minimum thickness and dry density of the applied SFRM, method of application, substrate surface conditions and the use of bonding adhesives, sealants, reinforcing or other materials.', {'entities': [('fire-resistance rating', 9, 11, 'PRODUCT'), ('SFRM', 32, 33, 'GPE')]})\n",
      "Warning: check if index is correct.\n",
      "('The application of SFRM shall be consistent with the fire-resistance rating and the listing, including, but not limited to, minimum thickness and dry density of the applied SFRM, method of application, substrate surface conditions and the use of bonding adhesives, sealants, reinforcing or other materials.', {'entities': [('fire-resistance rating', 9, 11, 'PRODUCT'), ('minimum thickness', 19, 21, 'ATTR'), ('SFRM', 32, 33, 'GPE')]})\n",
      "Warning: check if index is correct.\n",
      "('The application of SFRM shall be consistent with the fire-resistance rating and the listing, including, but not limited to, minimum thickness and dry density of the applied SFRM, method of application, substrate surface conditions and the use of bonding adhesives, sealants, reinforcing or other materials.', {'entities': [('fire-resistance rating', 9, 11, 'PRODUCT'), ('minimum thickness', 19, 21, 'ATTR'), ('dry density', 22, 24, 'ATTR'), ('SFRM', 32, 33, 'GPE')]})\n",
      "Warning: check if index is correct.\n",
      "('The application of SFRM shall be consistent with the fire-resistance rating and the listing, including, but not limited to, minimum thickness and dry density of the applied SFRM, method of application, substrate surface conditions and the use of bonding adhesives, sealants, reinforcing or other materials.', {'entities': [('fire-resistance rating', 9, 11, 'PRODUCT'), ('minimum thickness', 19, 21, 'ATTR'), ('dry density', 22, 24, 'ATTR'), ('SFRM', 32, 33, 'GPE'), ('bonding adhesives,', 38, 40, 'PRODUCT')]})\n",
      "('The application of SFRM shall be consistent with the fire-resistance rating and the listing, including, but not limited to, minimum thickness and dry density of the applied SFRM, method of application, substrate surface conditions and the use of bonding adhesives, sealants, reinforcing or other materials.', {'entities': [('fire-resistance rating', 9, 11, 'PRODUCT'), ('minimum thickness', 19, 21, 'ATTR'), ('dry density', 22, 24, 'ATTR'), ('SFRM', 32, 33, 'GPE'), ('bonding adhesives,', 38, 40, 'PRODUCT'), ('sealants,', 40, 41, 'PRODUCT')]})\n",
      "('The application of SFRM shall be consistent with the fire-resistance rating and the listing, including, but not limited to, minimum thickness and dry density of the applied SFRM, method of application, substrate surface conditions and the use of bonding adhesives, sealants, reinforcing or other materials.', {'entities': [('fire-resistance rating', 9, 11, 'PRODUCT'), ('minimum thickness', 19, 21, 'ATTR'), ('dry density', 22, 24, 'ATTR'), ('SFRM', 32, 33, 'GPE'), ('bonding adhesives,', 38, 40, 'PRODUCT'), ('sealants,', 40, 41, 'PRODUCT'), ('reinforcing', 41, 42, 'PRODUCT')]})\n"
     ]
    }
   ],
   "source": [
    "docket.add_ent('fire-resistance rating', 'PRODUCT')\n",
    "docket.add_ent('minimum thickness', 'ATTR')\n",
    "docket.add_ent('dry density', 'ATTR')\n",
    "docket.add_ent('bonding adhesives,', 'PRODUCT')\n",
    "docket.add_ent('sealants,', 'PRODUCT')\n",
    "docket.add_ent('reinforcing', 'PRODUCT')"
   ]
  },
  {
   "cell_type": "code",
   "execution_count": 24,
   "metadata": {},
   "outputs": [],
   "source": [
    "archi.submit_ner_train_data(docket)"
   ]
  },
  {
   "cell_type": "code",
   "execution_count": null,
   "metadata": {},
   "outputs": [],
   "source": []
  }
 ],
 "metadata": {
  "kernelspec": {
   "display_name": "Python 3",
   "language": "python",
   "name": "python3"
  },
  "language_info": {
   "codemirror_mode": {
    "name": "ipython",
    "version": 3
   },
   "file_extension": ".py",
   "mimetype": "text/x-python",
   "name": "python",
   "nbconvert_exporter": "python",
   "pygments_lexer": "ipython3",
   "version": "3.6.3"
  }
 },
 "nbformat": 4,
 "nbformat_minor": 2
}
