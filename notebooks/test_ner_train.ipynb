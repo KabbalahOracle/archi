{
 "cells": [
  {
   "cell_type": "code",
   "execution_count": 1,
   "metadata": {},
   "outputs": [
    {
     "name": "stdout",
     "output_type": "stream",
     "text": [
      "/Users/nguyen/projects/archi\n"
     ]
    }
   ],
   "source": [
    "cd .."
   ]
  },
  {
   "cell_type": "code",
   "execution_count": 7,
   "metadata": {},
   "outputs": [],
   "source": [
    "from src.archi_nlp import Archi, NER_data\n",
    "\n",
    "import pandas as pd"
   ]
  },
  {
   "cell_type": "markdown",
   "metadata": {},
   "source": [
    "### Create Archi 🌈"
   ]
  },
  {
   "cell_type": "code",
   "execution_count": 8,
   "metadata": {},
   "outputs": [],
   "source": [
    "archi = Archi('en')"
   ]
  },
  {
   "cell_type": "markdown",
   "metadata": {},
   "source": [
    "### Get the NER train data"
   ]
  },
  {
   "cell_type": "code",
   "execution_count": 9,
   "metadata": {},
   "outputs": [],
   "source": [
    "archi.get_ner_train_data('data/ner/18-05-09_ner.pkl')"
   ]
  },
  {
   "cell_type": "markdown",
   "metadata": {},
   "source": [
    "### Train the nlp model with the new entity labels"
   ]
  },
  {
   "cell_type": "code",
   "execution_count": 10,
   "metadata": {},
   "outputs": [
    {
     "name": "stderr",
     "output_type": "stream",
     "text": [
      "/Users/nguyen/anaconda3/lib/python3.6/site-packages/numpy/linalg/linalg.py:2168: RuntimeWarning: invalid value encountered in sqrt\n",
      "  ret = sqrt(sqnorm)\n"
     ]
    },
    {
     "name": "stdout",
     "output_type": "stream",
     "text": [
      "{'ner': 85.564491437573423}\n",
      "Saved model to src/models\n",
      "Loading from src/models\n",
      "Archi object has been updated to new model\n"
     ]
    }
   ],
   "source": [
    "archi.ner_train(output_dir='src/models/', new_label=['PRODUCT', 'RULE'])"
   ]
  },
  {
   "cell_type": "markdown",
   "metadata": {},
   "source": [
    "### Get the raw data"
   ]
  },
  {
   "cell_type": "code",
   "execution_count": 11,
   "metadata": {},
   "outputs": [],
   "source": [
    "archi.get_raw_data('data/raw_df/ibc.pkl')"
   ]
  },
  {
   "cell_type": "markdown",
   "metadata": {},
   "source": [
    "### Fit the raw data with the new nlp model"
   ]
  },
  {
   "cell_type": "code",
   "execution_count": 12,
   "metadata": {},
   "outputs": [],
   "source": [
    "archi.fit_nlp()"
   ]
  },
  {
   "cell_type": "markdown",
   "metadata": {},
   "source": [
    "### Pickle the nlp model to avoid training the default model again"
   ]
  },
  {
   "cell_type": "code",
   "execution_count": 14,
   "metadata": {},
   "outputs": [],
   "source": [
    "archi.pickle_raw_nlp('data/nlp_df/raw_nlp_0509.pkl')"
   ]
  },
  {
   "cell_type": "code",
   "execution_count": null,
   "metadata": {},
   "outputs": [],
   "source": []
  },
  {
   "cell_type": "markdown",
   "metadata": {},
   "source": [
    "### Check the results by building a new random sample of NER train data"
   ]
  },
  {
   "cell_type": "code",
   "execution_count": 15,
   "metadata": {},
   "outputs": [],
   "source": [
    "archi.build_ner_train()"
   ]
  },
  {
   "cell_type": "markdown",
   "metadata": {},
   "source": [
    "### Serve one row of data at a time to the reviewer"
   ]
  },
  {
   "cell_type": "code",
   "execution_count": 17,
   "metadata": {},
   "outputs": [
    {
     "data": {
      "text/plain": [
       "('Automatic sprinkler systems shall be provided in high-hazard occupancies as required in Sections 903.2.5.1 through 903.2.5.3.',\n",
       " {'entities': [('903.2.5.1', 15, 16, 'CARDINAL'),\n",
       "   ('903.2.5.3', 17, 18, 'CARDINAL')]})"
      ]
     },
     "execution_count": 17,
     "metadata": {},
     "output_type": "execute_result"
    }
   ],
   "source": [
    "docket = archi.review_ner_train()\n",
    "docket.view_data"
   ]
  },
  {
   "cell_type": "markdown",
   "metadata": {},
   "source": [
    "### It did not seem like the model learned much...\n",
    "This is sort of expected since the spaCy documentation recommends a training set of 100 items."
   ]
  },
  {
   "cell_type": "markdown",
   "metadata": {},
   "source": [
    "### Add more NER data to improve training"
   ]
  },
  {
   "cell_type": "code",
   "execution_count": 19,
   "metadata": {},
   "outputs": [],
   "source": [
    "archi.get_ner_train_data('data/ner/18-05-09_ner.pkl')"
   ]
  },
  {
   "cell_type": "code",
   "execution_count": 102,
   "metadata": {},
   "outputs": [
    {
     "data": {
      "text/plain": [
       "('Fire door frames shall be labeled showing the names of the manufacturer and the third-party inspection agency.',\n",
       " {'entities': [('third', 14, 15, 'ORDINAL')]})"
      ]
     },
     "execution_count": 102,
     "metadata": {},
     "output_type": "execute_result"
    }
   ],
   "source": [
    "docket = archi.review_ner_train()\n",
    "docket.view_data"
   ]
  },
  {
   "cell_type": "code",
   "execution_count": 103,
   "metadata": {},
   "outputs": [
    {
     "name": "stdout",
     "output_type": "stream",
     "text": [
      "('Fire door frames shall be labeled showing the names of the manufacturer and the third-party inspection agency.', {'entities': []})\n",
      "('Fire door frames shall be labeled showing the names of the manufacturer and the third-party inspection agency.', {'entities': [('Fire door frames', 0, 3, 'PRODUCT')]})\n"
     ]
    }
   ],
   "source": [
    "docket.del_ent('third')\n",
    "docket.add_ent('Fire door frames', 'PRODUCT')"
   ]
  },
  {
   "cell_type": "code",
   "execution_count": 98,
   "metadata": {},
   "outputs": [
    {
     "data": {
      "text/plain": [
       "('Where design flood elevations are not specified, they shall be established in accordance with Section 1612.3.1.',\n",
       " {'entities': [('design flood elevations', 1, 4, 'PRODUCT'),\n",
       "   ('Section 1612.3.1.', 14, 16, 'RULE')]})"
      ]
     },
     "execution_count": 98,
     "metadata": {},
     "output_type": "execute_result"
    }
   ],
   "source": [
    "docket.view_data"
   ]
  },
  {
   "cell_type": "code",
   "execution_count": 104,
   "metadata": {},
   "outputs": [],
   "source": [
    "archi.submit_ner_train_data(docket)"
   ]
  },
  {
   "cell_type": "code",
   "execution_count": 105,
   "metadata": {},
   "outputs": [
    {
     "data": {
      "text/plain": [
       "20"
      ]
     },
     "execution_count": 105,
     "metadata": {},
     "output_type": "execute_result"
    }
   ],
   "source": [
    "len(archi.ner_train_data)"
   ]
  },
  {
   "cell_type": "code",
   "execution_count": 106,
   "metadata": {},
   "outputs": [
    {
     "data": {
      "text/html": [
       "<div>\n",
       "<style>\n",
       "    .dataframe thead tr:only-child th {\n",
       "        text-align: right;\n",
       "    }\n",
       "\n",
       "    .dataframe thead th {\n",
       "        text-align: left;\n",
       "    }\n",
       "\n",
       "    .dataframe tbody tr th {\n",
       "        vertical-align: top;\n",
       "    }\n",
       "</style>\n",
       "<table border=\"1\" class=\"dataframe\">\n",
       "  <thead>\n",
       "    <tr style=\"text-align: right;\">\n",
       "      <th></th>\n",
       "      <th>ent</th>\n",
       "      <th>string</th>\n",
       "    </tr>\n",
       "  </thead>\n",
       "  <tbody>\n",
       "    <tr>\n",
       "      <th>0</th>\n",
       "      <td>[(0, 1, PRODUCT), (1, 2, PRODUCT), (3, 4, PROD...</td>\n",
       "      <td>Stadiums, arenas and grandstands required to c...</td>\n",
       "    </tr>\n",
       "    <tr>\n",
       "      <th>1</th>\n",
       "      <td>[(4, 5, PRODUCT), (13, 14, PRODUCT)]</td>\n",
       "      <td>Placement and dimensions of markings shall be ...</td>\n",
       "    </tr>\n",
       "    <tr>\n",
       "      <th>2</th>\n",
       "      <td>[(0, 3, PRODUCT), (5, 9, PRODUCT), (12, 14, LAW)]</td>\n",
       "      <td>Foam plastic insulation used in exterior wall ...</td>\n",
       "    </tr>\n",
       "    <tr>\n",
       "      <th>3</th>\n",
       "      <td>[(0, 1, PRODUCT), (8, 10, ATTR), (12, 16, QUAN...</td>\n",
       "      <td>Doors to resident sleeping units shall have a ...</td>\n",
       "    </tr>\n",
       "    <tr>\n",
       "      <th>4</th>\n",
       "      <td>[(0, 3, PRODUCT), (3, 6, PRODUCT), (7, 9, PROD...</td>\n",
       "      <td>Loose-fill insulation material, insulating foa...</td>\n",
       "    </tr>\n",
       "    <tr>\n",
       "      <th>5</th>\n",
       "      <td>[(1, 2, PRODUCT), (2, 3, PRODUCT), (8, 10, ATT...</td>\n",
       "      <td>For balconies, galleries or press boxes having...</td>\n",
       "    </tr>\n",
       "    <tr>\n",
       "      <th>6</th>\n",
       "      <td>[(0, 2, PRODUCT), (3, 5, PRODUCT), (8, 10, RUL...</td>\n",
       "      <td>Roof gardens and landscaped roofs shall comply...</td>\n",
       "    </tr>\n",
       "    <tr>\n",
       "      <th>7</th>\n",
       "      <td>[(1, 3, PRODUCT), (5, 6, PRODUCT), (16, 21, PR...</td>\n",
       "      <td>The exit enclosure containing the standpipe sh...</td>\n",
       "    </tr>\n",
       "    <tr>\n",
       "      <th>8</th>\n",
       "      <td>[(0, 1, PRODUCT), (2, 4, PRODUCT), (4, 5, PROD...</td>\n",
       "      <td>Showers and public toilet walls shall conform ...</td>\n",
       "    </tr>\n",
       "    <tr>\n",
       "      <th>9</th>\n",
       "      <td>[(1, 2, ATTR), (3, 5, PRODUCT), (7, 9, ATTR), ...</td>\n",
       "      <td>The deflection of structural members under the...</td>\n",
       "    </tr>\n",
       "    <tr>\n",
       "      <th>10</th>\n",
       "      <td>[(9, 11, PRODUCT), (19, 21, ATTR), (22, 24, AT...</td>\n",
       "      <td>The application of SFRM shall be consistent wi...</td>\n",
       "    </tr>\n",
       "    <tr>\n",
       "      <th>11</th>\n",
       "      <td>[(1, 2, PRODUCT), (3, 4, PRODUCT), (4, 5, PROD...</td>\n",
       "      <td>Where hangars have basements, floors over base...</td>\n",
       "    </tr>\n",
       "    <tr>\n",
       "      <th>12</th>\n",
       "      <td>[(0, 2, PRODUCT), (10, 12, PRODUCT), (20, 22, ...</td>\n",
       "      <td>Special inspections of welding and qualificati...</td>\n",
       "    </tr>\n",
       "    <tr>\n",
       "      <th>13</th>\n",
       "      <td>[(3, 7, PRODUCT)]</td>\n",
       "      <td>The installation of sprayed polyurethane foam ...</td>\n",
       "    </tr>\n",
       "    <tr>\n",
       "      <th>14</th>\n",
       "      <td>[(0, 1, PRODUCT), (3, 4, PRODUCT), (6, 9, PROD...</td>\n",
       "      <td>Skylights and other penetrations through a fir...</td>\n",
       "    </tr>\n",
       "    <tr>\n",
       "      <th>15</th>\n",
       "      <td>[(5, 6, ATTR), (6, 7, PRODUCT), (26, 28, RULE)...</td>\n",
       "      <td>The allowable area of a mixed-occupancy buildi...</td>\n",
       "    </tr>\n",
       "    <tr>\n",
       "      <th>16</th>\n",
       "      <td>[(0, 1, ATTR), (1, 2, PRODUCT), (6, 9, PRODUCT...</td>\n",
       "      <td>Ice-sensitive structures shall be designed for...</td>\n",
       "    </tr>\n",
       "    <tr>\n",
       "      <th>17</th>\n",
       "      <td>[(0, 1, ATTR), (1, 2, ATTR), (2, 3, ATTR), (3,...</td>\n",
       "      <td>Ballasted thermoplastic low-slope roofs (roof ...</td>\n",
       "    </tr>\n",
       "    <tr>\n",
       "      <th>18</th>\n",
       "      <td>[(1, 4, PRODUCT), (14, 16, RULE)]</td>\n",
       "      <td>Where design flood elevations are not specifie...</td>\n",
       "    </tr>\n",
       "    <tr>\n",
       "      <th>19</th>\n",
       "      <td>[(0, 3, PRODUCT)]</td>\n",
       "      <td>Fire door frames shall be labeled showing the ...</td>\n",
       "    </tr>\n",
       "  </tbody>\n",
       "</table>\n",
       "</div>"
      ],
      "text/plain": [
       "                                                  ent  \\\n",
       "0   [(0, 1, PRODUCT), (1, 2, PRODUCT), (3, 4, PROD...   \n",
       "1                [(4, 5, PRODUCT), (13, 14, PRODUCT)]   \n",
       "2   [(0, 3, PRODUCT), (5, 9, PRODUCT), (12, 14, LAW)]   \n",
       "3   [(0, 1, PRODUCT), (8, 10, ATTR), (12, 16, QUAN...   \n",
       "4   [(0, 3, PRODUCT), (3, 6, PRODUCT), (7, 9, PROD...   \n",
       "5   [(1, 2, PRODUCT), (2, 3, PRODUCT), (8, 10, ATT...   \n",
       "6   [(0, 2, PRODUCT), (3, 5, PRODUCT), (8, 10, RUL...   \n",
       "7   [(1, 3, PRODUCT), (5, 6, PRODUCT), (16, 21, PR...   \n",
       "8   [(0, 1, PRODUCT), (2, 4, PRODUCT), (4, 5, PROD...   \n",
       "9   [(1, 2, ATTR), (3, 5, PRODUCT), (7, 9, ATTR), ...   \n",
       "10  [(9, 11, PRODUCT), (19, 21, ATTR), (22, 24, AT...   \n",
       "11  [(1, 2, PRODUCT), (3, 4, PRODUCT), (4, 5, PROD...   \n",
       "12  [(0, 2, PRODUCT), (10, 12, PRODUCT), (20, 22, ...   \n",
       "13                                  [(3, 7, PRODUCT)]   \n",
       "14  [(0, 1, PRODUCT), (3, 4, PRODUCT), (6, 9, PROD...   \n",
       "15  [(5, 6, ATTR), (6, 7, PRODUCT), (26, 28, RULE)...   \n",
       "16  [(0, 1, ATTR), (1, 2, PRODUCT), (6, 9, PRODUCT...   \n",
       "17  [(0, 1, ATTR), (1, 2, ATTR), (2, 3, ATTR), (3,...   \n",
       "18                  [(1, 4, PRODUCT), (14, 16, RULE)]   \n",
       "19                                  [(0, 3, PRODUCT)]   \n",
       "\n",
       "                                               string  \n",
       "0   Stadiums, arenas and grandstands required to c...  \n",
       "1   Placement and dimensions of markings shall be ...  \n",
       "2   Foam plastic insulation used in exterior wall ...  \n",
       "3   Doors to resident sleeping units shall have a ...  \n",
       "4   Loose-fill insulation material, insulating foa...  \n",
       "5   For balconies, galleries or press boxes having...  \n",
       "6   Roof gardens and landscaped roofs shall comply...  \n",
       "7   The exit enclosure containing the standpipe sh...  \n",
       "8   Showers and public toilet walls shall conform ...  \n",
       "9   The deflection of structural members under the...  \n",
       "10  The application of SFRM shall be consistent wi...  \n",
       "11  Where hangars have basements, floors over base...  \n",
       "12  Special inspections of welding and qualificati...  \n",
       "13  The installation of sprayed polyurethane foam ...  \n",
       "14  Skylights and other penetrations through a fir...  \n",
       "15  The allowable area of a mixed-occupancy buildi...  \n",
       "16  Ice-sensitive structures shall be designed for...  \n",
       "17  Ballasted thermoplastic low-slope roofs (roof ...  \n",
       "18  Where design flood elevations are not specifie...  \n",
       "19  Fire door frames shall be labeled showing the ...  "
      ]
     },
     "execution_count": 106,
     "metadata": {},
     "output_type": "execute_result"
    }
   ],
   "source": [
    "archi.ner_train_data"
   ]
  },
  {
   "cell_type": "code",
   "execution_count": 108,
   "metadata": {},
   "outputs": [
    {
     "name": "stdout",
     "output_type": "stream",
     "text": [
      "[(0, 1, 'PRODUCT'), (1, 2, 'PRODUCT'), (3, 4, 'PRODUCT'), (16, 18, 'LAW')]\n",
      "[(4, 5, 'PRODUCT'), (13, 14, 'PRODUCT')]\n",
      "[(0, 3, 'PRODUCT'), (5, 9, 'PRODUCT'), (12, 14, 'LAW')]\n",
      "[(0, 1, 'PRODUCT'), (8, 10, 'ATTR'), (12, 16, 'QUANTITY'), (17, 19, 'QUANTITY')]\n",
      "[(0, 3, 'PRODUCT'), (3, 6, 'PRODUCT'), (7, 9, 'PRODUCT'), (15, 16, 'PRODUCT')]\n",
      "[(1, 2, 'PRODUCT'), (2, 3, 'PRODUCT'), (8, 10, 'ATTR'), (12, 15, 'CARDINAL'), (17, 18, 'PRODUCT'), (18, 19, 'PRODUCT'), (20, 21, 'PRODUCT'), (29, 32, 'CARDINAL'), (29, 32, 'PRODUCT'), (42, 43, 'PRODUCT'), (43, 44, 'PRODUCT')]\n",
      "[(0, 2, 'PRODUCT'), (3, 5, 'PRODUCT'), (8, 10, 'RULE'), (17, 19, 'LAW')]\n",
      "[(1, 3, 'PRODUCT'), (5, 6, 'PRODUCT'), (16, 21, 'PRODUCT')]\n",
      "[(0, 1, 'PRODUCT'), (2, 4, 'PRODUCT'), (4, 5, 'PRODUCT'), (8, 10, 'RULE'), (11, 12, 'RULE'), (13, 16, 'PRODUCT'), (38, 39, 'PRODUCT'), (45, 47, 'PRODUCT')]\n",
      "[(1, 2, 'ATTR'), (3, 5, 'PRODUCT'), (7, 9, 'ATTR'), (15, 17, 'RULE')]\n",
      "[(9, 11, 'PRODUCT'), (19, 21, 'ATTR'), (22, 24, 'ATTR'), (32, 33, 'GPE'), (38, 40, 'PRODUCT'), (40, 41, 'PRODUCT'), (41, 42, 'PRODUCT')]\n",
      "[(1, 2, 'PRODUCT'), (3, 4, 'PRODUCT'), (4, 5, 'PRODUCT'), (6, 7, 'PRODUCT'), (10, 13, 'ATTR')]\n",
      "[(0, 2, 'PRODUCT'), (10, 12, 'PRODUCT'), (20, 22, 'LAW'), (23, 25, 'PRODUCT'), (27, 29, 'LAW')]\n",
      "[(3, 7, 'PRODUCT')]\n",
      "[(0, 1, 'PRODUCT'), (3, 4, 'PRODUCT'), (6, 9, 'PRODUCT'), (10, 11, 'PRODUCT'), (15, 16, 'ATTR'), (28, 29, 'ATTR'), (29, 30, 'PRODUCT'), (35, 37, 'PRODUCT'), (40, 42, 'ATTR')]\n",
      "[(5, 6, 'ATTR'), (6, 7, 'PRODUCT'), (26, 28, 'RULE'), (30, 32, 'RULE')]\n",
      "[(0, 1, 'ATTR'), (1, 2, 'PRODUCT'), (6, 9, 'PRODUCT'), (12, 14, 'RULE'), (15, 16, 'CARDINAL'), (15, 17, 'LAW')]\n",
      "[(0, 1, 'ATTR'), (1, 2, 'ATTR'), (2, 3, 'ATTR'), (3, 4, 'PRODUCT'), (17, 19, 'RULE'), (19, 20, 'PRODUCT'), (22, 23, 'PRODUCT'), (26, 28, 'LAW')]\n",
      "[(1, 4, 'PRODUCT'), (14, 16, 'RULE')]\n",
      "[(0, 3, 'PRODUCT')]\n"
     ]
    }
   ],
   "source": [
    "for item in archi.ner_train_data['ent']:\n",
    "    print(item)"
   ]
  },
  {
   "cell_type": "markdown",
   "metadata": {},
   "source": [
    "### Try training the model with 20 rows of NER data\n",
    "**Ran 1 and then 5 iterations**"
   ]
  },
  {
   "cell_type": "code",
   "execution_count": 110,
   "metadata": {},
   "outputs": [
    {
     "name": "stderr",
     "output_type": "stream",
     "text": [
      "/Users/nguyen/anaconda3/lib/python3.6/site-packages/numpy/linalg/linalg.py:2168: RuntimeWarning: invalid value encountered in sqrt\n",
      "  ret = sqrt(sqnorm)\n"
     ]
    },
    {
     "name": "stdout",
     "output_type": "stream",
     "text": [
      "{'ner': 8.2106185300594827}\n",
      "{'ner': 3.9998524705501466}\n",
      "{'ner': 3.854917352370181}\n",
      "{'ner': 0.044532571200230714}\n",
      "{'ner': 0.38589411539625407}\n",
      "Saved model to src/models/0510_nlp\n",
      "Loading from src/models/0510_nlp\n",
      "Archi object has been updated to new model\n"
     ]
    }
   ],
   "source": [
    "archi.ner_train(output_dir='src/models/0510_nlp/', new_label=['ATTR'], n_iter=5)"
   ]
  },
  {
   "cell_type": "markdown",
   "metadata": {},
   "source": [
    "### Run the newly trained model on raw_data and inspect the results"
   ]
  },
  {
   "cell_type": "code",
   "execution_count": 111,
   "metadata": {},
   "outputs": [],
   "source": [
    "archi.get_raw_data('data/raw_df/ibc.pkl')\n",
    "archi.fit_nlp()\n",
    "archi.pickle_raw_nlp('data/nlp_df/raw_nlp_0510.pkl')"
   ]
  },
  {
   "cell_type": "code",
   "execution_count": 112,
   "metadata": {},
   "outputs": [],
   "source": [
    "archi.build_ner_train()"
   ]
  },
  {
   "cell_type": "code",
   "execution_count": 113,
   "metadata": {},
   "outputs": [
    {
     "data": {
      "text/plain": [
       "('Adobe construction shall be limited to buildings not exceeding one story, except that two-story construction is allowed when designed by a  registered design professional.',\n",
       " {'entities': [('one', 9, 10, 'CARDINAL'), ('two', 14, 15, 'CARDINAL')]})"
      ]
     },
     "execution_count": 113,
     "metadata": {},
     "output_type": "execute_result"
    }
   ],
   "source": [
    "docket = archi.review_ner_train()\n",
    "docket.view_data"
   ]
  },
  {
   "cell_type": "markdown",
   "metadata": {},
   "source": [
    "### No changes noticed with the first result\n",
    "**Important to note that the model still uses 'CARDINAL', so catastrophic forgetting has not occured**"
   ]
  },
  {
   "cell_type": "code",
   "execution_count": null,
   "metadata": {},
   "outputs": [],
   "source": []
  },
  {
   "cell_type": "code",
   "execution_count": null,
   "metadata": {},
   "outputs": [],
   "source": []
  },
  {
   "cell_type": "markdown",
   "metadata": {},
   "source": [
    "## These next cells will be used to add more NER training data\n",
    "## Cells above will not be rerun (if possible)"
   ]
  },
  {
   "cell_type": "markdown",
   "metadata": {},
   "source": [
    "#### Get new row of data"
   ]
  },
  {
   "cell_type": "code",
   "execution_count": 135,
   "metadata": {},
   "outputs": [
    {
     "data": {
      "text/plain": [
       "('Vehicle barriers not less than 2 feet 9 inches (835 mm) in height shall be placed where the vertical distance from the floor of a drive lane or parking space to the ground or surface directly below is greater than 1 foot (305 mm). Vehicle barriers shall comply with the loading requirements of Section 1607.8.3.   Exception: Vehicle barriers are not required in vehicle storage compartments in a mechanical access parking garage.',\n",
       " {'entities': [('less than 2 feet 9 inches', 3, 9, 'QUANTITY'),\n",
       "   ('835 mm', 10, 12, 'QUANTITY'),\n",
       "   ('1 foot', 42, 44, 'QUANTITY'),\n",
       "   ('305', 45, 46, 'CARDINAL'),\n",
       "   ('Exception', 62, 63, 'PERSON')]})"
      ]
     },
     "execution_count": 135,
     "metadata": {},
     "output_type": "execute_result"
    }
   ],
   "source": [
    "docket = archi.review_ner_train()\n",
    "docket.view_data"
   ]
  },
  {
   "cell_type": "markdown",
   "metadata": {},
   "source": [
    "#### Modify entity data"
   ]
  },
  {
   "cell_type": "code",
   "execution_count": 136,
   "metadata": {},
   "outputs": [
    {
     "name": "stdout",
     "output_type": "stream",
     "text": [
      "('Vehicle barriers not less than 2 feet 9 inches (835 mm) in height shall be placed where the vertical distance from the floor of a drive lane or parking space to the ground or surface directly below is greater than 1 foot (305 mm). Vehicle barriers shall comply with the loading requirements of Section 1607.8.3.   Exception: Vehicle barriers are not required in vehicle storage compartments in a mechanical access parking garage.', {'entities': [('Vehicle barriers', 0, 2, 'PRODUCT'), ('less than 2 feet 9 inches', 3, 9, 'QUANTITY'), ('835 mm', 10, 12, 'QUANTITY'), ('1 foot', 42, 44, 'QUANTITY'), ('305', 45, 46, 'CARDINAL'), ('Exception', 62, 63, 'PERSON')]})\n",
      "('Vehicle barriers not less than 2 feet 9 inches (835 mm) in height shall be placed where the vertical distance from the floor of a drive lane or parking space to the ground or surface directly below is greater than 1 foot (305 mm). Vehicle barriers shall comply with the loading requirements of Section 1607.8.3.   Exception: Vehicle barriers are not required in vehicle storage compartments in a mechanical access parking garage.', {'entities': [('Vehicle barriers', 0, 2, 'PRODUCT'), ('less than 2 feet 9 inches', 3, 9, 'QUANTITY'), ('835 mm', 10, 12, 'QUANTITY'), ('1 foot', 42, 44, 'QUANTITY'), ('305', 45, 46, 'CARDINAL'), ('Section 1607.8.3.', 53, 55, 'RULE'), ('Exception', 62, 63, 'PERSON')]})\n"
     ]
    }
   ],
   "source": [
    "docket.del_ent('Exception:')\n",
    "# docket.del_ent('one')\n",
    "\n",
    "# docket.add_ent('Group S', 'ATTR')\n",
    "docket.add_ent('Vehicle barriers', 'PRODUCT')\n",
    "docket.add_ent('Section 1607.8.3.', 'RULE')\n",
    "# docket.add_ent('structure,', 'PRODUCT')\n",
    "# docket.add_ent('hazardous occupancy.', 'PRODUCT')\n",
    "# docket.add_ent('storage', 'PRODUCT')\n",
    "# docket.add_ent('building', 'PRODUCT')\n",
    "\n",
    "# docket._add_ent('open space', 30, 31, 'PRODUCT')"
   ]
  },
  {
   "cell_type": "markdown",
   "metadata": {},
   "source": [
    "#### Review data before submission"
   ]
  },
  {
   "cell_type": "code",
   "execution_count": 137,
   "metadata": {},
   "outputs": [
    {
     "data": {
      "text/plain": [
       "('Vehicle barriers not less than 2 feet 9 inches (835 mm) in height shall be placed where the vertical distance from the floor of a drive lane or parking space to the ground or surface directly below is greater than 1 foot (305 mm). Vehicle barriers shall comply with the loading requirements of Section 1607.8.3.   Exception: Vehicle barriers are not required in vehicle storage compartments in a mechanical access parking garage.',\n",
       " {'entities': [('Vehicle barriers', 0, 2, 'PRODUCT'),\n",
       "   ('less than 2 feet 9 inches', 3, 9, 'QUANTITY'),\n",
       "   ('835 mm', 10, 12, 'QUANTITY'),\n",
       "   ('1 foot', 42, 44, 'QUANTITY'),\n",
       "   ('305', 45, 46, 'CARDINAL'),\n",
       "   ('Section 1607.8.3.', 53, 55, 'RULE'),\n",
       "   ('Exception', 62, 63, 'PERSON')]})"
      ]
     },
     "execution_count": 137,
     "metadata": {},
     "output_type": "execute_result"
    }
   ],
   "source": [
    "docket.view_data"
   ]
  },
  {
   "cell_type": "markdown",
   "metadata": {},
   "source": [
    "#### Submit the data"
   ]
  },
  {
   "cell_type": "code",
   "execution_count": 138,
   "metadata": {},
   "outputs": [
    {
     "name": "stdout",
     "output_type": "stream",
     "text": [
      "NER data count: 24\n"
     ]
    }
   ],
   "source": [
    "archi.submit_ner_train_data(docket)\n",
    "\n",
    "c = len(archi.ner_train_data)\n",
    "print(f\"NER data count: {c}\")"
   ]
  },
  {
   "cell_type": "code",
   "execution_count": null,
   "metadata": {},
   "outputs": [],
   "source": []
  },
  {
   "cell_type": "code",
   "execution_count": null,
   "metadata": {},
   "outputs": [],
   "source": []
  },
  {
   "cell_type": "markdown",
   "metadata": {},
   "source": [
    "### Try training the model with 24 rows of NER data\n",
    "**Ran 5 iterations**"
   ]
  },
  {
   "cell_type": "code",
   "execution_count": 139,
   "metadata": {},
   "outputs": [
    {
     "name": "stderr",
     "output_type": "stream",
     "text": [
      "/Users/nguyen/anaconda3/lib/python3.6/site-packages/numpy/linalg/linalg.py:2168: RuntimeWarning: invalid value encountered in sqrt\n",
      "  ret = sqrt(sqnorm)\n"
     ]
    },
    {
     "name": "stdout",
     "output_type": "stream",
     "text": [
      "{'ner': 1.991614800531049}\n",
      "{'ner': 2.807153692005218}\n",
      "{'ner': 6.0715221320703562e-05}\n",
      "{'ner': 5.2318304986372804e-06}\n",
      "{'ner': 5.0962412625684434e-06}\n",
      "Saved model to src/models/0510_nlp_2\n",
      "Loading from src/models/0510_nlp_2\n",
      "Archi object has been updated to new model\n"
     ]
    }
   ],
   "source": [
    "archi.ner_train(output_dir='src/models/0510_nlp_2/', new_label=['ATTR'], n_iter=5)"
   ]
  },
  {
   "cell_type": "markdown",
   "metadata": {},
   "source": [
    "### Run the newly trained model on raw_data and inspect the results"
   ]
  },
  {
   "cell_type": "code",
   "execution_count": 140,
   "metadata": {},
   "outputs": [
    {
     "ename": "OSError",
     "evalue": "[Errno 22] Invalid argument",
     "output_type": "error",
     "traceback": [
      "\u001b[0;31m-----------------------------------------------------------\u001b[0m",
      "\u001b[0;31mOSError\u001b[0m                   Traceback (most recent call last)",
      "\u001b[0;32m<ipython-input-140-a5cdec093971>\u001b[0m in \u001b[0;36m<module>\u001b[0;34m()\u001b[0m\n\u001b[1;32m      1\u001b[0m \u001b[0marchi\u001b[0m\u001b[0;34m.\u001b[0m\u001b[0mget_raw_data\u001b[0m\u001b[0;34m(\u001b[0m\u001b[0;34m'data/raw_df/ibc.pkl'\u001b[0m\u001b[0;34m)\u001b[0m\u001b[0;34m\u001b[0m\u001b[0m\n\u001b[1;32m      2\u001b[0m \u001b[0marchi\u001b[0m\u001b[0;34m.\u001b[0m\u001b[0mfit_nlp\u001b[0m\u001b[0;34m(\u001b[0m\u001b[0;34m)\u001b[0m\u001b[0;34m\u001b[0m\u001b[0m\n\u001b[0;32m----> 3\u001b[0;31m \u001b[0marchi\u001b[0m\u001b[0;34m.\u001b[0m\u001b[0mpickle_raw_nlp\u001b[0m\u001b[0;34m(\u001b[0m\u001b[0;34m'data/nlp_df/raw_nlp_0510_2.pkl'\u001b[0m\u001b[0;34m)\u001b[0m\u001b[0;34m\u001b[0m\u001b[0m\n\u001b[0m",
      "\u001b[0;32m~/projects/archi/src/archi_nlp.py\u001b[0m in \u001b[0;36mpickle_raw_nlp\u001b[0;34m(self, path)\u001b[0m\n\u001b[1;32m     72\u001b[0m     \u001b[0;32mdef\u001b[0m \u001b[0mpickle_raw_nlp\u001b[0m\u001b[0;34m(\u001b[0m\u001b[0mself\u001b[0m\u001b[0;34m,\u001b[0m \u001b[0mpath\u001b[0m\u001b[0;34m)\u001b[0m\u001b[0;34m:\u001b[0m\u001b[0;34m\u001b[0m\u001b[0m\n\u001b[1;32m     73\u001b[0m         \u001b[0;34m\"\"\"Save the dataframe with nlp_doc to a pickle\"\"\"\u001b[0m\u001b[0;34m\u001b[0m\u001b[0m\n\u001b[0;32m---> 74\u001b[0;31m         \u001b[0mself\u001b[0m\u001b[0;34m.\u001b[0m\u001b[0mraw_nlp_data\u001b[0m\u001b[0;34m.\u001b[0m\u001b[0mto_pickle\u001b[0m\u001b[0;34m(\u001b[0m\u001b[0mpath\u001b[0m\u001b[0;34m)\u001b[0m\u001b[0;34m\u001b[0m\u001b[0m\n\u001b[0m\u001b[1;32m     75\u001b[0m \u001b[0;34m\u001b[0m\u001b[0m\n\u001b[1;32m     76\u001b[0m     \u001b[0;32mdef\u001b[0m \u001b[0mfit_nlp\u001b[0m\u001b[0;34m(\u001b[0m\u001b[0mself\u001b[0m\u001b[0;34m)\u001b[0m\u001b[0;34m:\u001b[0m\u001b[0;34m\u001b[0m\u001b[0m\n",
      "\u001b[0;32m~/anaconda3/lib/python3.6/site-packages/pandas/core/generic.py\u001b[0m in \u001b[0;36mto_pickle\u001b[0;34m(self, path, compression)\u001b[0m\n\u001b[1;32m   1376\u001b[0m         \"\"\"\n\u001b[1;32m   1377\u001b[0m         \u001b[0;32mfrom\u001b[0m \u001b[0mpandas\u001b[0m\u001b[0;34m.\u001b[0m\u001b[0mio\u001b[0m\u001b[0;34m.\u001b[0m\u001b[0mpickle\u001b[0m \u001b[0;32mimport\u001b[0m \u001b[0mto_pickle\u001b[0m\u001b[0;34m\u001b[0m\u001b[0m\n\u001b[0;32m-> 1378\u001b[0;31m         \u001b[0;32mreturn\u001b[0m \u001b[0mto_pickle\u001b[0m\u001b[0;34m(\u001b[0m\u001b[0mself\u001b[0m\u001b[0;34m,\u001b[0m \u001b[0mpath\u001b[0m\u001b[0;34m,\u001b[0m \u001b[0mcompression\u001b[0m\u001b[0;34m=\u001b[0m\u001b[0mcompression\u001b[0m\u001b[0;34m)\u001b[0m\u001b[0;34m\u001b[0m\u001b[0m\n\u001b[0m\u001b[1;32m   1379\u001b[0m \u001b[0;34m\u001b[0m\u001b[0m\n\u001b[1;32m   1380\u001b[0m     \u001b[0;32mdef\u001b[0m \u001b[0mto_clipboard\u001b[0m\u001b[0;34m(\u001b[0m\u001b[0mself\u001b[0m\u001b[0;34m,\u001b[0m \u001b[0mexcel\u001b[0m\u001b[0;34m=\u001b[0m\u001b[0;32mNone\u001b[0m\u001b[0;34m,\u001b[0m \u001b[0msep\u001b[0m\u001b[0;34m=\u001b[0m\u001b[0;32mNone\u001b[0m\u001b[0;34m,\u001b[0m \u001b[0;34m**\u001b[0m\u001b[0mkwargs\u001b[0m\u001b[0;34m)\u001b[0m\u001b[0;34m:\u001b[0m\u001b[0;34m\u001b[0m\u001b[0m\n",
      "\u001b[0;32m~/anaconda3/lib/python3.6/site-packages/pandas/io/pickle.py\u001b[0m in \u001b[0;36mto_pickle\u001b[0;34m(obj, path, compression)\u001b[0m\n\u001b[1;32m     27\u001b[0m                         is_text=False)\n\u001b[1;32m     28\u001b[0m     \u001b[0;32mtry\u001b[0m\u001b[0;34m:\u001b[0m\u001b[0;34m\u001b[0m\u001b[0m\n\u001b[0;32m---> 29\u001b[0;31m         \u001b[0mpkl\u001b[0m\u001b[0;34m.\u001b[0m\u001b[0mdump\u001b[0m\u001b[0;34m(\u001b[0m\u001b[0mobj\u001b[0m\u001b[0;34m,\u001b[0m \u001b[0mf\u001b[0m\u001b[0;34m,\u001b[0m \u001b[0mprotocol\u001b[0m\u001b[0;34m=\u001b[0m\u001b[0mpkl\u001b[0m\u001b[0;34m.\u001b[0m\u001b[0mHIGHEST_PROTOCOL\u001b[0m\u001b[0;34m)\u001b[0m\u001b[0;34m\u001b[0m\u001b[0m\n\u001b[0m\u001b[1;32m     30\u001b[0m     \u001b[0;32mfinally\u001b[0m\u001b[0;34m:\u001b[0m\u001b[0;34m\u001b[0m\u001b[0m\n\u001b[1;32m     31\u001b[0m         \u001b[0;32mfor\u001b[0m \u001b[0m_f\u001b[0m \u001b[0;32min\u001b[0m \u001b[0mfh\u001b[0m\u001b[0;34m:\u001b[0m\u001b[0;34m\u001b[0m\u001b[0m\n",
      "\u001b[0;31mOSError\u001b[0m: [Errno 22] Invalid argument"
     ]
    }
   ],
   "source": [
    "archi.get_raw_data('data/raw_df/ibc.pkl')\n",
    "archi.fit_nlp()\n",
    "archi.pickle_raw_nlp('data/nlp_df/raw_nlp_0510_2.pkl')"
   ]
  },
  {
   "cell_type": "code",
   "execution_count": 141,
   "metadata": {},
   "outputs": [],
   "source": [
    "archi.build_ner_train()"
   ]
  },
  {
   "cell_type": "code",
   "execution_count": 165,
   "metadata": {},
   "outputs": [
    {
     "data": {
      "text/plain": [
       "('An automatic sprinkler system shall be provided throughout all buildings containing a Group S-1 occupancy where one of the following conditions exists:   1. A Group S-1 fire area exceeds 12,000 square feet (1115 m2).   2. A Group S-1 fire area is located more than three stories above  grade plane.   3. The combined area of all Group S-1 fire areas on all floors, including any mezzanines, exceeds 24,000 square feet (2230 m2).   4. A Group S-1 fire area used for the storage of commercial motor vehicles where the fire area exceeds 5,000 square feet (464 m2).   5. A Group S-1 occupancy used for the storage of upholstered furniture or mattresses exceeds 2,500 square feet (232 m2).',\n",
       " {'entities': [('Group S-1', 12, 14, 'ORG'),\n",
       "   ('one', 16, 17, 'CARDINAL'),\n",
       "   ('1', 24, 25, 'CARDINAL'),\n",
       "   ('Group S-1', 27, 29, 'ORG'),\n",
       "   ('12,000 square feet', 32, 35, 'QUANTITY'),\n",
       "   ('1115', 36, 37, 'DATE'),\n",
       "   ('2', 41, 42, 'CARDINAL'),\n",
       "   ('Group S-1', 44, 46, 'ORG'),\n",
       "   ('more than three', 50, 53, 'CARDINAL'),\n",
       "   ('3', 60, 61, 'CARDINAL'),\n",
       "   ('Group S-1', 67, 69, 'ORG'),\n",
       "   ('24,000 square feet', 80, 83, 'QUANTITY'),\n",
       "   ('2230', 84, 85, 'DATE'),\n",
       "   ('4', 89, 90, 'CARDINAL'),\n",
       "   ('Group S-1', 92, 94, 'ORG'),\n",
       "   ('5,000 square feet', 109, 112, 'QUANTITY'),\n",
       "   ('5', 118, 119, 'CARDINAL'),\n",
       "   ('Group S-1', 121, 123, 'ORG'),\n",
       "   ('2,500 square feet', 134, 137, 'QUANTITY')]})"
      ]
     },
     "execution_count": 165,
     "metadata": {},
     "output_type": "execute_result"
    }
   ],
   "source": [
    "docket = archi.review_ner_train()\n",
    "docket.view_data"
   ]
  },
  {
   "cell_type": "code",
   "execution_count": 154,
   "metadata": {},
   "outputs": [
    {
     "data": {
      "text/html": [
       "<div>\n",
       "<style>\n",
       "    .dataframe thead tr:only-child th {\n",
       "        text-align: right;\n",
       "    }\n",
       "\n",
       "    .dataframe thead th {\n",
       "        text-align: left;\n",
       "    }\n",
       "\n",
       "    .dataframe tbody tr th {\n",
       "        vertical-align: top;\n",
       "    }\n",
       "</style>\n",
       "<table border=\"1\" class=\"dataframe\">\n",
       "  <thead>\n",
       "    <tr style=\"text-align: right;\">\n",
       "      <th></th>\n",
       "      <th>_id</th>\n",
       "      <th>code</th>\n",
       "      <th>title</th>\n",
       "      <th>nlp_doc</th>\n",
       "    </tr>\n",
       "  </thead>\n",
       "  <tbody>\n",
       "    <tr>\n",
       "      <th>0</th>\n",
       "      <td>5acce0e0ed4f1f214d78c064</td>\n",
       "      <td></td>\n",
       "      <td>Section 808 Acoustical Ceiling Systems</td>\n",
       "      <td>()</td>\n",
       "    </tr>\n",
       "    <tr>\n",
       "      <th>1</th>\n",
       "      <td>5acce0aaed4f1f214d78bf33</td>\n",
       "      <td>The application of any of the alternative meth...</td>\n",
       "      <td>716.4 Alternative Methods for Determining Fire...</td>\n",
       "      <td>(The, application, of, any, of, the, alternati...</td>\n",
       "    </tr>\n",
       "    <tr>\n",
       "      <th>2</th>\n",
       "      <td>5acce1b4ed4f1f214d78c569</td>\n",
       "      <td>Anchored stone veneer units not exceeding 10 i...</td>\n",
       "      <td>1405.7 Stone Veneer</td>\n",
       "      <td>(Anchored, stone, veneer, units, not, exceedin...</td>\n",
       "    </tr>\n",
       "    <tr>\n",
       "      <th>3</th>\n",
       "      <td>5acce0aaed4f1f214d78be8b</td>\n",
       "      <td>Penetrations of fire walls shall comply with S...</td>\n",
       "      <td>706.9 Penetrations</td>\n",
       "      <td>(Penetrations, of, fire, walls, shall, comply,...</td>\n",
       "    </tr>\n",
       "    <tr>\n",
       "      <th>4</th>\n",
       "      <td>5acce019ed4f1f214d78bd81</td>\n",
       "      <td>Operable windows in interior walls shall not b...</td>\n",
       "      <td>421.4.2 Windows</td>\n",
       "      <td>(Operable, windows, in, interior, walls, shall...</td>\n",
       "    </tr>\n",
       "    <tr>\n",
       "      <th>5</th>\n",
       "      <td>5acce1eded4f1f214d78c61d</td>\n",
       "      <td>Fasteners for asphalt shingles shall be galvan...</td>\n",
       "      <td>1507.2.6 Fasteners</td>\n",
       "      <td>(Fasteners, for, asphalt, shingles, shall, be,...</td>\n",
       "    </tr>\n",
       "    <tr>\n",
       "      <th>6</th>\n",
       "      <td>5acce0aaed4f1f214d78bf92</td>\n",
       "      <td>Fireblocking shall be provided in concealed sp...</td>\n",
       "      <td>718.2.2 Concealed Wall Spaces</td>\n",
       "      <td>(Fireblocking, shall, be, provided, in, concea...</td>\n",
       "    </tr>\n",
       "    <tr>\n",
       "      <th>7</th>\n",
       "      <td>5acce216ed4f1f214d78c6df</td>\n",
       "      <td>Materials and methods of construction that are...</td>\n",
       "      <td>1604.7 Preconstruction Load Tests</td>\n",
       "      <td>(Materials, and, methods, of, construction, th...</td>\n",
       "    </tr>\n",
       "    <tr>\n",
       "      <th>8</th>\n",
       "      <td>5acce112ed4f1f214d78c3bd</td>\n",
       "      <td>In addition to having access to a main exit, e...</td>\n",
       "      <td>1029.3 Assembly Other Exits</td>\n",
       "      <td>(In, addition, to, having, access, to, a, main...</td>\n",
       "    </tr>\n",
       "    <tr>\n",
       "      <th>9</th>\n",
       "      <td>5accdfa3ed4f1f214d78ba86</td>\n",
       "      <td>The building official is hereby authorized and...</td>\n",
       "      <td>104.1 General</td>\n",
       "      <td>(The, building, official, is, hereby, authoriz...</td>\n",
       "    </tr>\n",
       "    <tr>\n",
       "      <th>10</th>\n",
       "      <td>5acce336ed4f1f214d78cad3</td>\n",
       "      <td>Headers shall be provided over each opening in...</td>\n",
       "      <td>2308.5.5.1 Openings in Exterior Bearing Walls</td>\n",
       "      <td>(Headers, shall, be, provided, over, each, ope...</td>\n",
       "    </tr>\n",
       "    <tr>\n",
       "      <th>11</th>\n",
       "      <td>5acce0f7ed4f1f214d78c08b</td>\n",
       "      <td>An automatic sprinkler system shall be install...</td>\n",
       "      <td>903.2.5.1 General</td>\n",
       "      <td>(An, automatic, sprinkler, system, shall, be, ...</td>\n",
       "    </tr>\n",
       "    <tr>\n",
       "      <th>12</th>\n",
       "      <td>5acce019ed4f1f214d78bcbb</td>\n",
       "      <td>Helicopter landing areas and the supports ther...</td>\n",
       "      <td>412.8.2 Design</td>\n",
       "      <td>(Helicopter, landing, areas, and, the, support...</td>\n",
       "    </tr>\n",
       "    <tr>\n",
       "      <th>13</th>\n",
       "      <td>5acce019ed4f1f214d78bc81</td>\n",
       "      <td>Technical production areas shall be provided w...</td>\n",
       "      <td>410.6.3 Technical Production Areas</td>\n",
       "      <td>(Technical, production, areas, shall, be, prov...</td>\n",
       "    </tr>\n",
       "    <tr>\n",
       "      <th>14</th>\n",
       "      <td>5acce019ed4f1f214d78bb77</td>\n",
       "      <td>Plastic signs affixed to the storefront of any...</td>\n",
       "      <td>402.6.4 Plastic Signs</td>\n",
       "      <td>(Plastic, signs, affixed, to, the, storefront,...</td>\n",
       "    </tr>\n",
       "    <tr>\n",
       "      <th>15</th>\n",
       "      <td>5acce019ed4f1f214d78bc9e</td>\n",
       "      <td>Wires or cables that provide normal or standby...</td>\n",
       "      <td>412.3.7 Elevator Protection</td>\n",
       "      <td>(Wires, or, cables, that, provide, normal, or,...</td>\n",
       "    </tr>\n",
       "    <tr>\n",
       "      <th>16</th>\n",
       "      <td>5acce284ed4f1f214d78c8fe</td>\n",
       "      <td></td>\n",
       "      <td>Section 1902 Definitions</td>\n",
       "      <td>()</td>\n",
       "    </tr>\n",
       "    <tr>\n",
       "      <th>17</th>\n",
       "      <td>5acce019ed4f1f214d78bc2f</td>\n",
       "      <td>Doors in care suites serving habitable rooms s...</td>\n",
       "      <td>407.4.4.4 Doors Within Care Suites</td>\n",
       "      <td>(Doors, in, care, suites, serving, habitable, ...</td>\n",
       "    </tr>\n",
       "    <tr>\n",
       "      <th>18</th>\n",
       "      <td>5acce172ed4f1f214d78c501</td>\n",
       "      <td>Concrete block walls connected to below grade ...</td>\n",
       "      <td>1203.6.3.2.9 Concrete block walls</td>\n",
       "      <td>(Concrete, block, walls, connected, to, below,...</td>\n",
       "    </tr>\n",
       "    <tr>\n",
       "      <th>19</th>\n",
       "      <td>5acce1eded4f1f214d78c64a</td>\n",
       "      <td>Slate shingles shall be fastened to solidly sh...</td>\n",
       "      <td>1507.7.1 Deck Requirements</td>\n",
       "      <td>(Slate, shingles, shall, be, fastened, to, sol...</td>\n",
       "    </tr>\n",
       "    <tr>\n",
       "      <th>20</th>\n",
       "      <td>5acce0f7ed4f1f214d78c1dc</td>\n",
       "      <td>The fire fighter's control panel shall provide...</td>\n",
       "      <td>909.16.2 Smoke Control Panel</td>\n",
       "      <td>(The, fire, fighter, 's, control, panel, shall...</td>\n",
       "    </tr>\n",
       "    <tr>\n",
       "      <th>21</th>\n",
       "      <td>5accdff1ed4f1f214d78bb05</td>\n",
       "      <td>Assembly Group A occupancy includes, among oth...</td>\n",
       "      <td>303.1 Assembly Group A</td>\n",
       "      <td>(Assembly, Group, A, occupancy, includes, ,, a...</td>\n",
       "    </tr>\n",
       "    <tr>\n",
       "      <th>22</th>\n",
       "      <td>5acce216ed4f1f214d78c6f6</td>\n",
       "      <td>For occupancies or uses not designated in Tabl...</td>\n",
       "      <td>1607.2 Loads Not Specified</td>\n",
       "      <td>(For, occupancies, or, uses, not, designated, ...</td>\n",
       "    </tr>\n",
       "    <tr>\n",
       "      <th>23</th>\n",
       "      <td>5acce25fed4f1f214d78c85b</td>\n",
       "      <td>The backfill in the annular space around colum...</td>\n",
       "      <td>1807.3.3 Backfill</td>\n",
       "      <td>(The, backfill, in, the, annular, space, aroun...</td>\n",
       "    </tr>\n",
       "    <tr>\n",
       "      <th>24</th>\n",
       "      <td>5acce019ed4f1f214d78bcb4</td>\n",
       "      <td>Storage of flammable liquids shall be in a liq...</td>\n",
       "      <td>412.6.4 Storage</td>\n",
       "      <td>(Storage, of, flammable, liquids, shall, be, i...</td>\n",
       "    </tr>\n",
       "    <tr>\n",
       "      <th>25</th>\n",
       "      <td>5acce019ed4f1f214d78bb8c</td>\n",
       "      <td>The occupant load of anchor buildings opening ...</td>\n",
       "      <td>402.8.2.3 Anchor Buildings</td>\n",
       "      <td>(The, occupant, load, of, anchor, buildings, o...</td>\n",
       "    </tr>\n",
       "    <tr>\n",
       "      <th>26</th>\n",
       "      <td>5acce0f7ed4f1f214d78c0b5</td>\n",
       "      <td>Water supplies for automatic sprinkler systems...</td>\n",
       "      <td>903.3.5 Water Supplies</td>\n",
       "      <td>(Water, supplies, for, automatic, sprinkler, s...</td>\n",
       "    </tr>\n",
       "    <tr>\n",
       "      <th>27</th>\n",
       "      <td>5acce0aaed4f1f214d78bf4c</td>\n",
       "      <td>Fire-rated glazing shall bear a label or other...</td>\n",
       "      <td>716.5.8.3 Labeling</td>\n",
       "      <td>(Fire, -, rated, glazing, shall, bear, a, labe...</td>\n",
       "    </tr>\n",
       "    <tr>\n",
       "      <th>28</th>\n",
       "      <td>5acce112ed4f1f214d78c2f7</td>\n",
       "      <td>The walkline across winder treads shall be con...</td>\n",
       "      <td>1011.4 Walkline</td>\n",
       "      <td>(The, walkline, across, winder, treads, shall,...</td>\n",
       "    </tr>\n",
       "    <tr>\n",
       "      <th>29</th>\n",
       "      <td>5acce050ed4f1f214d78bdbf</td>\n",
       "      <td>The special provisions of Section 510 permit t...</td>\n",
       "      <td>504.1.2 Special Provisions</td>\n",
       "      <td>(The, special, provisions, of, Section, 510, p...</td>\n",
       "    </tr>\n",
       "    <tr>\n",
       "      <th>...</th>\n",
       "      <td>...</td>\n",
       "      <td>...</td>\n",
       "      <td>...</td>\n",
       "      <td>...</td>\n",
       "    </tr>\n",
       "    <tr>\n",
       "      <th>139</th>\n",
       "      <td>5acce1eded4f1f214d78c5ea</td>\n",
       "      <td></td>\n",
       "      <td>Section 1502 Definitions</td>\n",
       "      <td>()</td>\n",
       "    </tr>\n",
       "    <tr>\n",
       "      <th>140</th>\n",
       "      <td>5acce0f7ed4f1f214d78c094</td>\n",
       "      <td>An automatic sprinkler system installed in acc...</td>\n",
       "      <td>903.2.8.2 Group R-4 Condition 1</td>\n",
       "      <td>(An, automatic, sprinkler, system, installed, ...</td>\n",
       "    </tr>\n",
       "    <tr>\n",
       "      <th>141</th>\n",
       "      <td>5acce353ed4f1f214d78cb2c</td>\n",
       "      <td>Plastic glazing shall meet the weathering requ...</td>\n",
       "      <td>2406.1.2 Plastic Glazing</td>\n",
       "      <td>(Plastic, glazing, shall, meet, the, weatherin...</td>\n",
       "    </tr>\n",
       "    <tr>\n",
       "      <th>142</th>\n",
       "      <td>5acce336ed4f1f214d78ca51</td>\n",
       "      <td></td>\n",
       "      <td>Section 2304 General Construction Requirements</td>\n",
       "      <td>()</td>\n",
       "    </tr>\n",
       "    <tr>\n",
       "      <th>143</th>\n",
       "      <td>5acce1b4ed4f1f214d78c5bd</td>\n",
       "      <td>The aggregate area of MCM panels shall not exc...</td>\n",
       "      <td>1407.11.4.3 Area and Size Limitations</td>\n",
       "      <td>(The, aggregate, area, of, MCM, panels, shall,...</td>\n",
       "    </tr>\n",
       "    <tr>\n",
       "      <th>144</th>\n",
       "      <td>5acce0f7ed4f1f214d78c18f</td>\n",
       "      <td>Automatic telephone-dialing devices used to tr...</td>\n",
       "      <td>907.6.6.1 Automatic Telephone-Dialing Devices</td>\n",
       "      <td>(Automatic, telephone, -, dialing, devices, us...</td>\n",
       "    </tr>\n",
       "    <tr>\n",
       "      <th>145</th>\n",
       "      <td>5acce0aaed4f1f214d78bf38</td>\n",
       "      <td>Fire door assemblies shall meet the requiremen...</td>\n",
       "      <td>716.5.3.1 Smoke and Draft Control</td>\n",
       "      <td>(Fire, door, assemblies, shall, meet, the, req...</td>\n",
       "    </tr>\n",
       "    <tr>\n",
       "      <th>146</th>\n",
       "      <td>5acce112ed4f1f214d78c304</td>\n",
       "      <td>The walking surface of treads and landings of ...</td>\n",
       "      <td>1011.7.1 Stairway Walking Surface</td>\n",
       "      <td>(The, walking, surface, of, treads, and, landi...</td>\n",
       "    </tr>\n",
       "    <tr>\n",
       "      <th>147</th>\n",
       "      <td>5acce019ed4f1f214d78bb78</td>\n",
       "      <td>Plastic signs shall be not more than 20 percen...</td>\n",
       "      <td>402.6.4.1 Area</td>\n",
       "      <td>(Plastic, signs, shall, be, not, more, than, 2...</td>\n",
       "    </tr>\n",
       "    <tr>\n",
       "      <th>148</th>\n",
       "      <td>5acce25fed4f1f214d78c839</td>\n",
       "      <td>A drain shall be placed around the perimeter o...</td>\n",
       "      <td>1805.4.2 Foundation Drain</td>\n",
       "      <td>(A, drain, shall, be, placed, around, the, per...</td>\n",
       "    </tr>\n",
       "    <tr>\n",
       "      <th>149</th>\n",
       "      <td>5acce336ed4f1f214d78ca93</td>\n",
       "      <td>Wood structural members that support moisture-...</td>\n",
       "      <td>2304.12.2.5 Supporting Members for Permeable F...</td>\n",
       "      <td>(Wood, structural, members, that, support, moi...</td>\n",
       "    </tr>\n",
       "    <tr>\n",
       "      <th>150</th>\n",
       "      <td>5acce050ed4f1f214d78bdde</td>\n",
       "      <td>The area factor increase based on frontage sha...</td>\n",
       "      <td>506.3.3 Amount of Increase</td>\n",
       "      <td>(The, area, factor, increase, based, on, front...</td>\n",
       "    </tr>\n",
       "    <tr>\n",
       "      <th>151</th>\n",
       "      <td>5acce112ed4f1f214d78c318</td>\n",
       "      <td></td>\n",
       "      <td>Section 1012 Ramps</td>\n",
       "      <td>()</td>\n",
       "    </tr>\n",
       "    <tr>\n",
       "      <th>152</th>\n",
       "      <td>5acce4d3ed4f1f214d78cd64</td>\n",
       "      <td>Standpipes shall be installed in accordance wi...</td>\n",
       "      <td>3311.3 Detailed Requirements</td>\n",
       "      <td>(Standpipes, shall, be, installed, in, accorda...</td>\n",
       "    </tr>\n",
       "    <tr>\n",
       "      <th>153</th>\n",
       "      <td>5acce0f7ed4f1f214d78c23d</td>\n",
       "      <td>The fire pump, driver and controller shall be ...</td>\n",
       "      <td>913.2 Protection Against Interruption of Service</td>\n",
       "      <td>(The, fire, pump, ,, driver, and, controller, ...</td>\n",
       "    </tr>\n",
       "    <tr>\n",
       "      <th>154</th>\n",
       "      <td>5acce0aaed4f1f214d78bed0</td>\n",
       "      <td>The fire-resistance rating of horizontal assem...</td>\n",
       "      <td>711.2.4 Fire-Resistance Rating</td>\n",
       "      <td>(The, fire, -, resistance, rating, of, horizon...</td>\n",
       "    </tr>\n",
       "    <tr>\n",
       "      <th>155</th>\n",
       "      <td>5acce229ed4f1f214d78c780</td>\n",
       "      <td>An approved agency shall provide all informati...</td>\n",
       "      <td>1703.1 Approved Agency</td>\n",
       "      <td>(An, approved, agency, shall, provide, all, in...</td>\n",
       "    </tr>\n",
       "    <tr>\n",
       "      <th>156</th>\n",
       "      <td>5acce172ed4f1f214d78c522</td>\n",
       "      <td>Every dwelling unit shall have no fewer than a...</td>\n",
       "      <td>1208.3 Room Area</td>\n",
       "      <td>(Every, dwelling, unit, shall, have, no, fewer...</td>\n",
       "    </tr>\n",
       "    <tr>\n",
       "      <th>157</th>\n",
       "      <td>5acce229ed4f1f214d78c78b</td>\n",
       "      <td>The approved agency shall periodically perform...</td>\n",
       "      <td>1703.5.2 Inspection and Identification</td>\n",
       "      <td>(The, approved, agency, shall, periodically, p...</td>\n",
       "    </tr>\n",
       "    <tr>\n",
       "      <th>158</th>\n",
       "      <td>5acce0f7ed4f1f214d78c099</td>\n",
       "      <td>An automatic sprinkler system shall be provide...</td>\n",
       "      <td>903.2.9 Group S-1</td>\n",
       "      <td>(An, automatic, sprinkler, system, shall, be, ...</td>\n",
       "    </tr>\n",
       "    <tr>\n",
       "      <th>159</th>\n",
       "      <td>5acce076ed4f1f214d78be21</td>\n",
       "      <td>Buildings and structures erected or to be erec...</td>\n",
       "      <td>602.1 General</td>\n",
       "      <td>(Buildings, and, structures, erected, or, to, ...</td>\n",
       "    </tr>\n",
       "    <tr>\n",
       "      <th>160</th>\n",
       "      <td>5acce0aaed4f1f214d78beb8</td>\n",
       "      <td>Penetrations of smoke barriers shall comply wi...</td>\n",
       "      <td>709.6 Penetrations</td>\n",
       "      <td>(Penetrations, of, smoke, barriers, shall, com...</td>\n",
       "    </tr>\n",
       "    <tr>\n",
       "      <th>161</th>\n",
       "      <td>5acce0aaed4f1f214d78c021</td>\n",
       "      <td>Table 722.6.2(1) indicates the time assigned t...</td>\n",
       "      <td>722.6.2.2 Time Assigned to Membranes</td>\n",
       "      <td>(Table, 722.6.2(1, ), indicates, the, time, as...</td>\n",
       "    </tr>\n",
       "    <tr>\n",
       "      <th>162</th>\n",
       "      <td>5acce564ed4f1f214d78cd72</td>\n",
       "      <td>Technical requirements for items herein shall ...</td>\n",
       "      <td>E101.2 Design</td>\n",
       "      <td>(Technical, requirements, for, items, herein, ...</td>\n",
       "    </tr>\n",
       "    <tr>\n",
       "      <th>163</th>\n",
       "      <td>5acce0aaed4f1f214d78bf1a</td>\n",
       "      <td>Through penetrations shall be installed as tes...</td>\n",
       "      <td>714.4.1.1 Installation</td>\n",
       "      <td>(Through, penetrations, shall, be, installed, ...</td>\n",
       "    </tr>\n",
       "    <tr>\n",
       "      <th>164</th>\n",
       "      <td>5acce0f7ed4f1f214d78c17d</td>\n",
       "      <td>The emergency voice/alarm communication system...</td>\n",
       "      <td>907.5.2.2.2 Live Voice Messages</td>\n",
       "      <td>(The, emergency, voice, /, alarm, communicatio...</td>\n",
       "    </tr>\n",
       "    <tr>\n",
       "      <th>165</th>\n",
       "      <td>5acce172ed4f1f214d78c4e4</td>\n",
       "      <td>The space between the bottom of the floor jois...</td>\n",
       "      <td>1203.4 Under-Floor Ventilation</td>\n",
       "      <td>(The, space, between, the, bottom, of, the, fl...</td>\n",
       "    </tr>\n",
       "    <tr>\n",
       "      <th>166</th>\n",
       "      <td>5acce112ed4f1f214d78c3a5</td>\n",
       "      <td>Fire doors in horizontal exits shall be self-c...</td>\n",
       "      <td>1026.3 Opening Protectives</td>\n",
       "      <td>(Fire, doors, in, horizontal, exits, shall, be...</td>\n",
       "    </tr>\n",
       "    <tr>\n",
       "      <th>167</th>\n",
       "      <td>5acce336ed4f1f214d78cb09</td>\n",
       "      <td>Structural design in accordance with the AWC W...</td>\n",
       "      <td>2309.1 Wood Frame Construction Manual</td>\n",
       "      <td>(Structural, design, in, accordance, with, the...</td>\n",
       "    </tr>\n",
       "    <tr>\n",
       "      <th>168</th>\n",
       "      <td>5accdfa3ed4f1f214d78ba8a</td>\n",
       "      <td>The building official shall make the required ...</td>\n",
       "      <td>104.4 Inspections</td>\n",
       "      <td>(The, building, official, shall, make, the, re...</td>\n",
       "    </tr>\n",
       "  </tbody>\n",
       "</table>\n",
       "<p>169 rows × 4 columns</p>\n",
       "</div>"
      ],
      "text/plain": [
       "                          _id  \\\n",
       "0    5acce0e0ed4f1f214d78c064   \n",
       "1    5acce0aaed4f1f214d78bf33   \n",
       "2    5acce1b4ed4f1f214d78c569   \n",
       "3    5acce0aaed4f1f214d78be8b   \n",
       "4    5acce019ed4f1f214d78bd81   \n",
       "5    5acce1eded4f1f214d78c61d   \n",
       "6    5acce0aaed4f1f214d78bf92   \n",
       "7    5acce216ed4f1f214d78c6df   \n",
       "8    5acce112ed4f1f214d78c3bd   \n",
       "9    5accdfa3ed4f1f214d78ba86   \n",
       "10   5acce336ed4f1f214d78cad3   \n",
       "11   5acce0f7ed4f1f214d78c08b   \n",
       "12   5acce019ed4f1f214d78bcbb   \n",
       "13   5acce019ed4f1f214d78bc81   \n",
       "14   5acce019ed4f1f214d78bb77   \n",
       "15   5acce019ed4f1f214d78bc9e   \n",
       "16   5acce284ed4f1f214d78c8fe   \n",
       "17   5acce019ed4f1f214d78bc2f   \n",
       "18   5acce172ed4f1f214d78c501   \n",
       "19   5acce1eded4f1f214d78c64a   \n",
       "20   5acce0f7ed4f1f214d78c1dc   \n",
       "21   5accdff1ed4f1f214d78bb05   \n",
       "22   5acce216ed4f1f214d78c6f6   \n",
       "23   5acce25fed4f1f214d78c85b   \n",
       "24   5acce019ed4f1f214d78bcb4   \n",
       "25   5acce019ed4f1f214d78bb8c   \n",
       "26   5acce0f7ed4f1f214d78c0b5   \n",
       "27   5acce0aaed4f1f214d78bf4c   \n",
       "28   5acce112ed4f1f214d78c2f7   \n",
       "29   5acce050ed4f1f214d78bdbf   \n",
       "..                        ...   \n",
       "139  5acce1eded4f1f214d78c5ea   \n",
       "140  5acce0f7ed4f1f214d78c094   \n",
       "141  5acce353ed4f1f214d78cb2c   \n",
       "142  5acce336ed4f1f214d78ca51   \n",
       "143  5acce1b4ed4f1f214d78c5bd   \n",
       "144  5acce0f7ed4f1f214d78c18f   \n",
       "145  5acce0aaed4f1f214d78bf38   \n",
       "146  5acce112ed4f1f214d78c304   \n",
       "147  5acce019ed4f1f214d78bb78   \n",
       "148  5acce25fed4f1f214d78c839   \n",
       "149  5acce336ed4f1f214d78ca93   \n",
       "150  5acce050ed4f1f214d78bdde   \n",
       "151  5acce112ed4f1f214d78c318   \n",
       "152  5acce4d3ed4f1f214d78cd64   \n",
       "153  5acce0f7ed4f1f214d78c23d   \n",
       "154  5acce0aaed4f1f214d78bed0   \n",
       "155  5acce229ed4f1f214d78c780   \n",
       "156  5acce172ed4f1f214d78c522   \n",
       "157  5acce229ed4f1f214d78c78b   \n",
       "158  5acce0f7ed4f1f214d78c099   \n",
       "159  5acce076ed4f1f214d78be21   \n",
       "160  5acce0aaed4f1f214d78beb8   \n",
       "161  5acce0aaed4f1f214d78c021   \n",
       "162  5acce564ed4f1f214d78cd72   \n",
       "163  5acce0aaed4f1f214d78bf1a   \n",
       "164  5acce0f7ed4f1f214d78c17d   \n",
       "165  5acce172ed4f1f214d78c4e4   \n",
       "166  5acce112ed4f1f214d78c3a5   \n",
       "167  5acce336ed4f1f214d78cb09   \n",
       "168  5accdfa3ed4f1f214d78ba8a   \n",
       "\n",
       "                                                  code  \\\n",
       "0                                                        \n",
       "1    The application of any of the alternative meth...   \n",
       "2    Anchored stone veneer units not exceeding 10 i...   \n",
       "3    Penetrations of fire walls shall comply with S...   \n",
       "4    Operable windows in interior walls shall not b...   \n",
       "5    Fasteners for asphalt shingles shall be galvan...   \n",
       "6    Fireblocking shall be provided in concealed sp...   \n",
       "7    Materials and methods of construction that are...   \n",
       "8    In addition to having access to a main exit, e...   \n",
       "9    The building official is hereby authorized and...   \n",
       "10   Headers shall be provided over each opening in...   \n",
       "11   An automatic sprinkler system shall be install...   \n",
       "12   Helicopter landing areas and the supports ther...   \n",
       "13   Technical production areas shall be provided w...   \n",
       "14   Plastic signs affixed to the storefront of any...   \n",
       "15   Wires or cables that provide normal or standby...   \n",
       "16                                                       \n",
       "17   Doors in care suites serving habitable rooms s...   \n",
       "18   Concrete block walls connected to below grade ...   \n",
       "19   Slate shingles shall be fastened to solidly sh...   \n",
       "20   The fire fighter's control panel shall provide...   \n",
       "21   Assembly Group A occupancy includes, among oth...   \n",
       "22   For occupancies or uses not designated in Tabl...   \n",
       "23   The backfill in the annular space around colum...   \n",
       "24   Storage of flammable liquids shall be in a liq...   \n",
       "25   The occupant load of anchor buildings opening ...   \n",
       "26   Water supplies for automatic sprinkler systems...   \n",
       "27   Fire-rated glazing shall bear a label or other...   \n",
       "28   The walkline across winder treads shall be con...   \n",
       "29   The special provisions of Section 510 permit t...   \n",
       "..                                                 ...   \n",
       "139                                                      \n",
       "140  An automatic sprinkler system installed in acc...   \n",
       "141  Plastic glazing shall meet the weathering requ...   \n",
       "142                                                      \n",
       "143  The aggregate area of MCM panels shall not exc...   \n",
       "144  Automatic telephone-dialing devices used to tr...   \n",
       "145  Fire door assemblies shall meet the requiremen...   \n",
       "146  The walking surface of treads and landings of ...   \n",
       "147  Plastic signs shall be not more than 20 percen...   \n",
       "148  A drain shall be placed around the perimeter o...   \n",
       "149  Wood structural members that support moisture-...   \n",
       "150  The area factor increase based on frontage sha...   \n",
       "151                                                      \n",
       "152  Standpipes shall be installed in accordance wi...   \n",
       "153  The fire pump, driver and controller shall be ...   \n",
       "154  The fire-resistance rating of horizontal assem...   \n",
       "155  An approved agency shall provide all informati...   \n",
       "156  Every dwelling unit shall have no fewer than a...   \n",
       "157  The approved agency shall periodically perform...   \n",
       "158  An automatic sprinkler system shall be provide...   \n",
       "159  Buildings and structures erected or to be erec...   \n",
       "160  Penetrations of smoke barriers shall comply wi...   \n",
       "161  Table 722.6.2(1) indicates the time assigned t...   \n",
       "162  Technical requirements for items herein shall ...   \n",
       "163  Through penetrations shall be installed as tes...   \n",
       "164  The emergency voice/alarm communication system...   \n",
       "165  The space between the bottom of the floor jois...   \n",
       "166  Fire doors in horizontal exits shall be self-c...   \n",
       "167  Structural design in accordance with the AWC W...   \n",
       "168  The building official shall make the required ...   \n",
       "\n",
       "                                                 title  \\\n",
       "0               Section 808 Acoustical Ceiling Systems   \n",
       "1    716.4 Alternative Methods for Determining Fire...   \n",
       "2                                  1405.7 Stone Veneer   \n",
       "3                                   706.9 Penetrations   \n",
       "4                                      421.4.2 Windows   \n",
       "5                                   1507.2.6 Fasteners   \n",
       "6                        718.2.2 Concealed Wall Spaces   \n",
       "7                    1604.7 Preconstruction Load Tests   \n",
       "8                          1029.3 Assembly Other Exits   \n",
       "9                                        104.1 General   \n",
       "10       2308.5.5.1 Openings in Exterior Bearing Walls   \n",
       "11                                   903.2.5.1 General   \n",
       "12                                      412.8.2 Design   \n",
       "13                  410.6.3 Technical Production Areas   \n",
       "14                               402.6.4 Plastic Signs   \n",
       "15                         412.3.7 Elevator Protection   \n",
       "16                            Section 1902 Definitions   \n",
       "17                  407.4.4.4 Doors Within Care Suites   \n",
       "18                   1203.6.3.2.9 Concrete block walls   \n",
       "19                          1507.7.1 Deck Requirements   \n",
       "20                        909.16.2 Smoke Control Panel   \n",
       "21                              303.1 Assembly Group A   \n",
       "22                          1607.2 Loads Not Specified   \n",
       "23                                   1807.3.3 Backfill   \n",
       "24                                     412.6.4 Storage   \n",
       "25                          402.8.2.3 Anchor Buildings   \n",
       "26                              903.3.5 Water Supplies   \n",
       "27                                  716.5.8.3 Labeling   \n",
       "28                                     1011.4 Walkline   \n",
       "29                          504.1.2 Special Provisions   \n",
       "..                                                 ...   \n",
       "139                           Section 1502 Definitions   \n",
       "140                    903.2.8.2 Group R-4 Condition 1   \n",
       "141                           2406.1.2 Plastic Glazing   \n",
       "142     Section 2304 General Construction Requirements   \n",
       "143              1407.11.4.3 Area and Size Limitations   \n",
       "144      907.6.6.1 Automatic Telephone-Dialing Devices   \n",
       "145                  716.5.3.1 Smoke and Draft Control   \n",
       "146                  1011.7.1 Stairway Walking Surface   \n",
       "147                                     402.6.4.1 Area   \n",
       "148                          1805.4.2 Foundation Drain   \n",
       "149  2304.12.2.5 Supporting Members for Permeable F...   \n",
       "150                         506.3.3 Amount of Increase   \n",
       "151                                 Section 1012 Ramps   \n",
       "152                       3311.3 Detailed Requirements   \n",
       "153   913.2 Protection Against Interruption of Service   \n",
       "154                     711.2.4 Fire-Resistance Rating   \n",
       "155                             1703.1 Approved Agency   \n",
       "156                                   1208.3 Room Area   \n",
       "157             1703.5.2 Inspection and Identification   \n",
       "158                                  903.2.9 Group S-1   \n",
       "159                                      602.1 General   \n",
       "160                                 709.6 Penetrations   \n",
       "161               722.6.2.2 Time Assigned to Membranes   \n",
       "162                                      E101.2 Design   \n",
       "163                             714.4.1.1 Installation   \n",
       "164                    907.5.2.2.2 Live Voice Messages   \n",
       "165                     1203.4 Under-Floor Ventilation   \n",
       "166                         1026.3 Opening Protectives   \n",
       "167              2309.1 Wood Frame Construction Manual   \n",
       "168                                  104.4 Inspections   \n",
       "\n",
       "                                               nlp_doc  \n",
       "0                                                   ()  \n",
       "1    (The, application, of, any, of, the, alternati...  \n",
       "2    (Anchored, stone, veneer, units, not, exceedin...  \n",
       "3    (Penetrations, of, fire, walls, shall, comply,...  \n",
       "4    (Operable, windows, in, interior, walls, shall...  \n",
       "5    (Fasteners, for, asphalt, shingles, shall, be,...  \n",
       "6    (Fireblocking, shall, be, provided, in, concea...  \n",
       "7    (Materials, and, methods, of, construction, th...  \n",
       "8    (In, addition, to, having, access, to, a, main...  \n",
       "9    (The, building, official, is, hereby, authoriz...  \n",
       "10   (Headers, shall, be, provided, over, each, ope...  \n",
       "11   (An, automatic, sprinkler, system, shall, be, ...  \n",
       "12   (Helicopter, landing, areas, and, the, support...  \n",
       "13   (Technical, production, areas, shall, be, prov...  \n",
       "14   (Plastic, signs, affixed, to, the, storefront,...  \n",
       "15   (Wires, or, cables, that, provide, normal, or,...  \n",
       "16                                                  ()  \n",
       "17   (Doors, in, care, suites, serving, habitable, ...  \n",
       "18   (Concrete, block, walls, connected, to, below,...  \n",
       "19   (Slate, shingles, shall, be, fastened, to, sol...  \n",
       "20   (The, fire, fighter, 's, control, panel, shall...  \n",
       "21   (Assembly, Group, A, occupancy, includes, ,, a...  \n",
       "22   (For, occupancies, or, uses, not, designated, ...  \n",
       "23   (The, backfill, in, the, annular, space, aroun...  \n",
       "24   (Storage, of, flammable, liquids, shall, be, i...  \n",
       "25   (The, occupant, load, of, anchor, buildings, o...  \n",
       "26   (Water, supplies, for, automatic, sprinkler, s...  \n",
       "27   (Fire, -, rated, glazing, shall, bear, a, labe...  \n",
       "28   (The, walkline, across, winder, treads, shall,...  \n",
       "29   (The, special, provisions, of, Section, 510, p...  \n",
       "..                                                 ...  \n",
       "139                                                 ()  \n",
       "140  (An, automatic, sprinkler, system, installed, ...  \n",
       "141  (Plastic, glazing, shall, meet, the, weatherin...  \n",
       "142                                                 ()  \n",
       "143  (The, aggregate, area, of, MCM, panels, shall,...  \n",
       "144  (Automatic, telephone, -, dialing, devices, us...  \n",
       "145  (Fire, door, assemblies, shall, meet, the, req...  \n",
       "146  (The, walking, surface, of, treads, and, landi...  \n",
       "147  (Plastic, signs, shall, be, not, more, than, 2...  \n",
       "148  (A, drain, shall, be, placed, around, the, per...  \n",
       "149  (Wood, structural, members, that, support, moi...  \n",
       "150  (The, area, factor, increase, based, on, front...  \n",
       "151                                                 ()  \n",
       "152  (Standpipes, shall, be, installed, in, accorda...  \n",
       "153  (The, fire, pump, ,, driver, and, controller, ...  \n",
       "154  (The, fire, -, resistance, rating, of, horizon...  \n",
       "155  (An, approved, agency, shall, provide, all, in...  \n",
       "156  (Every, dwelling, unit, shall, have, no, fewer...  \n",
       "157  (The, approved, agency, shall, periodically, p...  \n",
       "158  (An, automatic, sprinkler, system, shall, be, ...  \n",
       "159  (Buildings, and, structures, erected, or, to, ...  \n",
       "160  (Penetrations, of, smoke, barriers, shall, com...  \n",
       "161  (Table, 722.6.2(1, ), indicates, the, time, as...  \n",
       "162  (Technical, requirements, for, items, herein, ...  \n",
       "163  (Through, penetrations, shall, be, installed, ...  \n",
       "164  (The, emergency, voice, /, alarm, communicatio...  \n",
       "165  (The, space, between, the, bottom, of, the, fl...  \n",
       "166  (Fire, doors, in, horizontal, exits, shall, be...  \n",
       "167  (Structural, design, in, accordance, with, the...  \n",
       "168  (The, building, official, shall, make, the, re...  \n",
       "\n",
       "[169 rows x 4 columns]"
      ]
     },
     "execution_count": 154,
     "metadata": {},
     "output_type": "execute_result"
    }
   ],
   "source": [
    "archi.raw_ner_data"
   ]
  },
  {
   "cell_type": "code",
   "execution_count": null,
   "metadata": {},
   "outputs": [],
   "source": []
  }
 ],
 "metadata": {
  "kernelspec": {
   "display_name": "Python 3",
   "language": "python",
   "name": "python3"
  },
  "language_info": {
   "codemirror_mode": {
    "name": "ipython",
    "version": 3
   },
   "file_extension": ".py",
   "mimetype": "text/x-python",
   "name": "python",
   "nbconvert_exporter": "python",
   "pygments_lexer": "ipython3",
   "version": "3.6.3"
  }
 },
 "nbformat": 4,
 "nbformat_minor": 2
}
