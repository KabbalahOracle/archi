{
 "cells": [
  {
   "cell_type": "code",
   "execution_count": 1,
   "metadata": {},
   "outputs": [
    {
     "name": "stdout",
     "output_type": "stream",
     "text": [
      "/Users/nguyen/projects/archi\n"
     ]
    }
   ],
   "source": [
    "cd .."
   ]
  },
  {
   "cell_type": "code",
   "execution_count": 23,
   "metadata": {},
   "outputs": [],
   "source": [
    "from src.archi_nlp import Archi\n",
    "import pandas as pd\n",
    "import matplotlib.pyplot as plt\n",
    "# from nltk import Tree\n",
    "\n",
    "%matplotlib inline\n",
    "plt.style.use('ggplot')"
   ]
  },
  {
   "cell_type": "code",
   "execution_count": 60,
   "metadata": {},
   "outputs": [],
   "source": [
    "archi = Archi('en_core_web_lg')"
   ]
  },
  {
   "cell_type": "code",
   "execution_count": 61,
   "metadata": {},
   "outputs": [],
   "source": [
    "archi.get_raw_nlp_data('data/nlp_df/raw_nlp_05-11.pkl')"
   ]
  },
  {
   "cell_type": "code",
   "execution_count": 72,
   "metadata": {},
   "outputs": [
    {
     "data": {
      "text/html": [
       "<div>\n",
       "<style>\n",
       "    .dataframe thead tr:only-child th {\n",
       "        text-align: right;\n",
       "    }\n",
       "\n",
       "    .dataframe thead th {\n",
       "        text-align: left;\n",
       "    }\n",
       "\n",
       "    .dataframe tbody tr th {\n",
       "        vertical-align: top;\n",
       "    }\n",
       "</style>\n",
       "<table border=\"1\" class=\"dataframe\">\n",
       "  <thead>\n",
       "    <tr style=\"text-align: right;\">\n",
       "      <th></th>\n",
       "      <th>_id</th>\n",
       "      <th>code</th>\n",
       "      <th>title</th>\n",
       "      <th>nlp_text</th>\n",
       "    </tr>\n",
       "  </thead>\n",
       "  <tbody>\n",
       "    <tr>\n",
       "      <th>6046</th>\n",
       "      <td>5acc4346ed4f1f1fbcf305d9</td>\n",
       "      <td></td>\n",
       "      <td>28.6 Wind Loads—Main Wind-Force Resisting System</td>\n",
       "      <td>()</td>\n",
       "    </tr>\n",
       "    <tr>\n",
       "      <th>6047</th>\n",
       "      <td>5acc4346ed4f1f1fbcf305da</td>\n",
       "      <td>A building whose design wind loads are determi...</td>\n",
       "      <td>28.6.1 Scope</td>\n",
       "      <td>(A, building, whose, design, wind, loads, are,...</td>\n",
       "    </tr>\n",
       "    <tr>\n",
       "      <th>6048</th>\n",
       "      <td>5acc4346ed4f1f1fbcf305db</td>\n",
       "      <td>For the design of MWFRS the building shall com...</td>\n",
       "      <td>28.6.2 Conditions</td>\n",
       "      <td>(For, the, design, of, MWFRS, the, building, s...</td>\n",
       "    </tr>\n",
       "    <tr>\n",
       "      <th>6049</th>\n",
       "      <td>5acc4346ed4f1f1fbcf305dc</td>\n",
       "      <td>Simplified design wind pressures, ps, for the ...</td>\n",
       "      <td>28.6.3 Design Wind Loads</td>\n",
       "      <td>(Simplified, design, wind, pressures, ,, ps, ,...</td>\n",
       "    </tr>\n",
       "    <tr>\n",
       "      <th>6050</th>\n",
       "      <td>5acc4346ed4f1f1fbcf305dd</td>\n",
       "      <td>The load effects of the design wind pressures ...</td>\n",
       "      <td>28.6.4 Minimum Design Wind Loads</td>\n",
       "      <td>(The, load, effects, of, the, design, wind, pr...</td>\n",
       "    </tr>\n",
       "  </tbody>\n",
       "</table>\n",
       "</div>"
      ],
      "text/plain": [
       "                           _id  \\\n",
       "6046  5acc4346ed4f1f1fbcf305d9   \n",
       "6047  5acc4346ed4f1f1fbcf305da   \n",
       "6048  5acc4346ed4f1f1fbcf305db   \n",
       "6049  5acc4346ed4f1f1fbcf305dc   \n",
       "6050  5acc4346ed4f1f1fbcf305dd   \n",
       "\n",
       "                                                   code  \\\n",
       "6046                                                      \n",
       "6047  A building whose design wind loads are determi...   \n",
       "6048  For the design of MWFRS the building shall com...   \n",
       "6049  Simplified design wind pressures, ps, for the ...   \n",
       "6050  The load effects of the design wind pressures ...   \n",
       "\n",
       "                                                 title  \\\n",
       "6046  28.6 Wind Loads—Main Wind-Force Resisting System   \n",
       "6047                                      28.6.1 Scope   \n",
       "6048                                 28.6.2 Conditions   \n",
       "6049                          28.6.3 Design Wind Loads   \n",
       "6050                  28.6.4 Minimum Design Wind Loads   \n",
       "\n",
       "                                               nlp_text  \n",
       "6046                                                 ()  \n",
       "6047  (A, building, whose, design, wind, loads, are,...  \n",
       "6048  (For, the, design, of, MWFRS, the, building, s...  \n",
       "6049  (Simplified, design, wind, pressures, ,, ps, ,...  \n",
       "6050  (The, load, effects, of, the, design, wind, pr...  "
      ]
     },
     "execution_count": 72,
     "metadata": {},
     "output_type": "execute_result"
    }
   ],
   "source": [
    "archi.raw_nlp_data.tail()"
   ]
  },
  {
   "cell_type": "code",
   "execution_count": 65,
   "metadata": {},
   "outputs": [],
   "source": [
    "query = \"requirements for pedestrian walkways\""
   ]
  },
  {
   "cell_type": "code",
   "execution_count": 66,
   "metadata": {},
   "outputs": [],
   "source": [
    "json = archi.predict(query)"
   ]
  },
  {
   "cell_type": "code",
   "execution_count": 71,
   "metadata": {},
   "outputs": [
    {
     "data": {
      "text/plain": [
       "{'@context': 'http://archi.codes/',\n",
       " '@type': 'Provision',\n",
       " 'about': 'wall',\n",
       " 'criteria': None,\n",
       " 'score': 0.7760719656944275,\n",
       " 'text': 'Exterior walls of buildings connected to pedestrian walkways shall be 2-hour fireresistance rated. This protection shall extend not less than 10 feet (3048 mm) in every direction surrounding the perimeter of the pedestrian walkway.',\n",
       " 'title': '3104.5.1.1 Exterior Walls'}"
      ]
     },
     "execution_count": 71,
     "metadata": {},
     "output_type": "execute_result"
    }
   ],
   "source": [
    "json[0]"
   ]
  },
  {
   "cell_type": "code",
   "execution_count": 70,
   "metadata": {},
   "outputs": [
    {
     "data": {
      "text/plain": [
       "str"
      ]
     },
     "execution_count": 70,
     "metadata": {},
     "output_type": "execute_result"
    }
   ],
   "source": [
    "type(json[0]['text'])"
   ]
  },
  {
   "cell_type": "code",
   "execution_count": null,
   "metadata": {},
   "outputs": [],
   "source": [
    "qdoc = archi.nlp(query)"
   ]
  },
  {
   "cell_type": "code",
   "execution_count": null,
   "metadata": {},
   "outputs": [],
   "source": [
    "doc = archi.raw_nlp_data.loc[4, 'nlp_text']"
   ]
  },
  {
   "cell_type": "code",
   "execution_count": 50,
   "metadata": {},
   "outputs": [
    {
     "data": {
      "text/plain": [
       "(300,)"
      ]
     },
     "execution_count": 50,
     "metadata": {},
     "output_type": "execute_result"
    }
   ],
   "source": [
    "doc.vector.shape"
   ]
  },
  {
   "cell_type": "code",
   "execution_count": 51,
   "metadata": {},
   "outputs": [
    {
     "data": {
      "text/plain": [
       "(300,)"
      ]
     },
     "execution_count": 51,
     "metadata": {},
     "output_type": "execute_result"
    }
   ],
   "source": [
    "qdoc.vector.shape"
   ]
  },
  {
   "cell_type": "code",
   "execution_count": 16,
   "metadata": {},
   "outputs": [
    {
     "data": {
      "text/plain": [
       "The provisions of Sections 3102.1 through 3102.8 shall apply to air-supported, air-inflated, membranecovered cable, membrane-covered frame and tensile membrane structures, collectively known as membrane structures, erected for a period of 180 days or longer. Those erected for a shorter period of time shall comply with the International Fire Code. Membrane structures covering water storage facilities, water clarifiers, water treatment plants, sewage treatment plants, greenhouses and similar facilities not used for human occupancy are required to meet only the requirements of Sections 3102.3.1 and 3102.7. Membrane structures erected on a building, balcony, deck or other structure for any period of time shall comply with this section."
      ]
     },
     "execution_count": 16,
     "metadata": {},
     "output_type": "execute_result"
    }
   ],
   "source": [
    "doc"
   ]
  },
  {
   "cell_type": "code",
   "execution_count": 46,
   "metadata": {},
   "outputs": [],
   "source": [
    "sent = list(doc.sents)[0]"
   ]
  },
  {
   "cell_type": "code",
   "execution_count": 47,
   "metadata": {},
   "outputs": [
    {
     "data": {
      "text/plain": [
       "300"
      ]
     },
     "execution_count": 47,
     "metadata": {},
     "output_type": "execute_result"
    }
   ],
   "source": [
    "len(sent.vector)"
   ]
  },
  {
   "cell_type": "code",
   "execution_count": 48,
   "metadata": {},
   "outputs": [
    {
     "data": {
      "text/plain": [
       "300"
      ]
     },
     "execution_count": 48,
     "metadata": {},
     "output_type": "execute_result"
    }
   ],
   "source": [
    "len(doc.vector)"
   ]
  },
  {
   "cell_type": "code",
   "execution_count": null,
   "metadata": {},
   "outputs": [],
   "source": []
  }
 ],
 "metadata": {
  "kernelspec": {
   "display_name": "Python 3",
   "language": "python",
   "name": "python3"
  },
  "language_info": {
   "codemirror_mode": {
    "name": "ipython",
    "version": 3
   },
   "file_extension": ".py",
   "mimetype": "text/x-python",
   "name": "python",
   "nbconvert_exporter": "python",
   "pygments_lexer": "ipython3",
   "version": "3.6.3"
  }
 },
 "nbformat": 4,
 "nbformat_minor": 2
}
