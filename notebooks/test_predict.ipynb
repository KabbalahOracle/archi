{
 "cells": [
  {
   "cell_type": "code",
   "execution_count": 1,
   "metadata": {},
   "outputs": [
    {
     "name": "stdout",
     "output_type": "stream",
     "text": [
      "/Users/nguyen/projects/archi\n"
     ]
    }
   ],
   "source": [
    "cd .."
   ]
  },
  {
   "cell_type": "code",
   "execution_count": 2,
   "metadata": {},
   "outputs": [],
   "source": [
    "from src.archi_nlp import Archi\n",
    "import pandas as pd\n",
    "import matplotlib.pyplot as plt\n",
    "# from nltk import Tree\n",
    "\n",
    "%matplotlib inline\n",
    "plt.style.use('ggplot')"
   ]
  },
  {
   "cell_type": "code",
   "execution_count": 3,
   "metadata": {},
   "outputs": [],
   "source": [
    "archi = Archi()"
   ]
  },
  {
   "cell_type": "code",
   "execution_count": 5,
   "metadata": {},
   "outputs": [],
   "source": [
    "archi.get_raw_nlp_data('data/nlp_df/raw_nlp_05-11.pkl')"
   ]
  },
  {
   "cell_type": "code",
   "execution_count": 6,
   "metadata": {},
   "outputs": [
    {
     "data": {
      "text/html": [
       "<div>\n",
       "<style>\n",
       "    .dataframe thead tr:only-child th {\n",
       "        text-align: right;\n",
       "    }\n",
       "\n",
       "    .dataframe thead th {\n",
       "        text-align: left;\n",
       "    }\n",
       "\n",
       "    .dataframe tbody tr th {\n",
       "        vertical-align: top;\n",
       "    }\n",
       "</style>\n",
       "<table border=\"1\" class=\"dataframe\">\n",
       "  <thead>\n",
       "    <tr style=\"text-align: right;\">\n",
       "      <th></th>\n",
       "      <th>_id</th>\n",
       "      <th>code</th>\n",
       "      <th>title</th>\n",
       "      <th>nlp_doc</th>\n",
       "    </tr>\n",
       "  </thead>\n",
       "  <tbody>\n",
       "    <tr>\n",
       "      <th>0</th>\n",
       "      <td>5acce476ed4f1f214d78ccd0</td>\n",
       "      <td></td>\n",
       "      <td>Chapter 31 Special Construction</td>\n",
       "      <td>()</td>\n",
       "    </tr>\n",
       "    <tr>\n",
       "      <th>1</th>\n",
       "      <td>5acce476ed4f1f214d78ccd1</td>\n",
       "      <td></td>\n",
       "      <td>Section 3101 General</td>\n",
       "      <td>()</td>\n",
       "    </tr>\n",
       "    <tr>\n",
       "      <th>2</th>\n",
       "      <td>5acce476ed4f1f214d78ccd2</td>\n",
       "      <td>The provisions of this chapter shall govern sp...</td>\n",
       "      <td>3101.1 Scope</td>\n",
       "      <td>(The, provisions, of, this, chapter, shall, go...</td>\n",
       "    </tr>\n",
       "    <tr>\n",
       "      <th>3</th>\n",
       "      <td>5acce476ed4f1f214d78ccd3</td>\n",
       "      <td></td>\n",
       "      <td>Section 3102 Membrane Structures</td>\n",
       "      <td>()</td>\n",
       "    </tr>\n",
       "    <tr>\n",
       "      <th>4</th>\n",
       "      <td>5acce476ed4f1f214d78ccd4</td>\n",
       "      <td>The provisions of Sections 3102.1 through 3102...</td>\n",
       "      <td>3102.1 General</td>\n",
       "      <td>(The, provisions, of, Sections, 3102.1, throug...</td>\n",
       "    </tr>\n",
       "  </tbody>\n",
       "</table>\n",
       "</div>"
      ],
      "text/plain": [
       "                        _id  \\\n",
       "0  5acce476ed4f1f214d78ccd0   \n",
       "1  5acce476ed4f1f214d78ccd1   \n",
       "2  5acce476ed4f1f214d78ccd2   \n",
       "3  5acce476ed4f1f214d78ccd3   \n",
       "4  5acce476ed4f1f214d78ccd4   \n",
       "\n",
       "                                                code  \\\n",
       "0                                                      \n",
       "1                                                      \n",
       "2  The provisions of this chapter shall govern sp...   \n",
       "3                                                      \n",
       "4  The provisions of Sections 3102.1 through 3102...   \n",
       "\n",
       "                              title  \\\n",
       "0   Chapter 31 Special Construction   \n",
       "1              Section 3101 General   \n",
       "2                      3101.1 Scope   \n",
       "3  Section 3102 Membrane Structures   \n",
       "4                    3102.1 General   \n",
       "\n",
       "                                             nlp_doc  \n",
       "0                                                 ()  \n",
       "1                                                 ()  \n",
       "2  (The, provisions, of, this, chapter, shall, go...  \n",
       "3                                                 ()  \n",
       "4  (The, provisions, of, Sections, 3102.1, throug...  "
      ]
     },
     "execution_count": 6,
     "metadata": {},
     "output_type": "execute_result"
    }
   ],
   "source": [
    "archi.raw_nlp_data.head()"
   ]
  },
  {
   "cell_type": "code",
   "execution_count": 7,
   "metadata": {},
   "outputs": [],
   "source": [
    "query = \"requirements for pedestrian walkways\""
   ]
  },
  {
   "cell_type": "code",
   "execution_count": 9,
   "metadata": {},
   "outputs": [],
   "source": [
    "json = archi.predict(query)"
   ]
  },
  {
   "cell_type": "code",
   "execution_count": 10,
   "metadata": {},
   "outputs": [
    {
     "data": {
      "text/plain": [
       "[{'@context': 'http://archi.codes/',\n",
       "  '@type': 'Provision',\n",
       "  'about': 'system',\n",
       "  'criteria': None,\n",
       "  'text': 'Automatic fire-extinguishing systems shall not be considered alternatives for the purposes of exceptions or reductions allowed for automatic sprinkler systems or by other requirements of this code.',\n",
       "  'title': '904.2.1 Restriction on Using Automatic Sprinkler System Exceptions or Reductions'},\n",
       " {'@context': 'http://archi.codes/',\n",
       "  '@type': 'Provision',\n",
       "  'about': 'inspection',\n",
       "  'criteria': None,\n",
       "  'text': 'Special inspections and tests of concrete elements of buildings and structures and concreting operations shall be as required by Chapter 17.',\n",
       "  'title': '1901.6 Special Inspections and Tests'},\n",
       " {'@context': 'http://archi.codes/',\n",
       "  '@type': 'Provision',\n",
       "  'about': 'label',\n",
       "  'criteria': None,\n",
       "  'text': 'The label for plastic composites used in exterior applications as deck boards, stair treads, handrails and guards shall indicate the required performance levels and demonstrate compliance with the provisions of ASTM D7032.',\n",
       "  'title': '2612.2.1 Performance Levels'},\n",
       " {'@context': 'http://archi.codes/',\n",
       "  '@type': 'Provision',\n",
       "  'about': 'design',\n",
       "  'criteria': 'accordance',\n",
       "  'text': 'The design, fabrication and erection including related connections, and protective coatings of steel cables for buildings shall be in accordance with ASCE 19.',\n",
       "  'title': '2208.1 General'},\n",
       " {'@context': 'http://archi.codes/',\n",
       "  '@type': 'Provision',\n",
       "  'about': None,\n",
       "  'criteria': 'accord',\n",
       "  'text': 'Where facilities are designated for use by adult family home clients, grab bars for water closets, bathtubs and shower stalls shall be installed according to ICC A117.1.',\n",
       "  'title': '420.7.7 Grab bar general requirements'},\n",
       " {'@context': 'http://archi.codes/',\n",
       "  '@type': 'Provision',\n",
       "  'about': 'building',\n",
       "  'criteria': None,\n",
       "  'text': 'Buildings connected by pedestrian walkways or tunnels shall be considered to be separate structures.   Exceptions:   1. Buildings that are on the same lot and considered as portions of a single building in accordance with Section 503.1.2.   2. For purposes of calculating the number of Type B units required by Chapter 11, structurally connected buildings and buildings with multiple wings shall be considered one structure.',\n",
       "  'title': '3104.2 Separate Structures'},\n",
       " {'@context': 'http://archi.codes/',\n",
       "  '@type': 'Provision',\n",
       "  'about': 'member',\n",
       "  'criteria': 'load',\n",
       "  'text': 'Members, elements and components subject to dynamic loads from elevators shall be designed for impact loads and deflection limits prescribed by ASME A17.1/CSA B44.',\n",
       "  'title': '1607.9.1 Elevators'},\n",
       " {'@context': 'http://archi.codes/',\n",
       "  '@type': 'Provision',\n",
       "  'about': 'mean',\n",
       "  'criteria': 'provision',\n",
       "  'text': 'The means of egress from heliports and helistops shall comply with the provisions of Chapter 10. Landing areas located on buildings or structures shall have two or more means of egress. For landing areas less than 60 feet (18 288 mm) in length or less than 2,000 square feet (186 m2) in area, the second means of egress is permitted to be a fire escape, alternating tread device or ladder leading to the floor below. On Group I-2 roofs with helistops or helipads, rooftop structures enclosing exit stair enclosures or elevator shafts shall be enclosed with fire barriers and opening protectives that match the rating of their respective shaft enclosures below. ',\n",
       "  'title': '412.8.3 Means of Egress'},\n",
       " {'@context': 'http://archi.codes/',\n",
       "  '@type': 'Provision',\n",
       "  'about': 'stage',\n",
       "  'criteria': 'from',\n",
       "  'text': 'The stage shall be separated from dressing rooms, scene docks, property rooms, workshops, storerooms and compartments appurtenant to the stage and other parts of the building by fire barriers constructed in accordance with Section 707 or horizontal assemblies constructed in accordance with Section 711, or both. The fire-resistance rating shall be not less than 2 hours for  stage heights greater than 50 feet (15 240 mm) and not less than 1 hour for stage heights of 50 feet (15 240 mm) or less.',\n",
       "  'title': '410.5.1 Separation From Stage'},\n",
       " {'@context': 'http://archi.codes/',\n",
       "  '@type': 'Provision',\n",
       "  'about': 'design',\n",
       "  'criteria': 'accordance',\n",
       "  'text': 'The design, fabrication and erection of structural steel elements in buildings, structures and portions thereof shall be in accordance with AISC 360.',\n",
       "  'title': '2205.1 General'}]"
      ]
     },
     "execution_count": 10,
     "metadata": {},
     "output_type": "execute_result"
    }
   ],
   "source": [
    "json"
   ]
  },
  {
   "cell_type": "code",
   "execution_count": null,
   "metadata": {},
   "outputs": [],
   "source": []
  },
  {
   "cell_type": "code",
   "execution_count": null,
   "metadata": {},
   "outputs": [],
   "source": []
  },
  {
   "cell_type": "code",
   "execution_count": 126,
   "metadata": {},
   "outputs": [],
   "source": [
    "doc = archi.raw_nlp_data.loc[32, 'nlp_doc']"
   ]
  },
  {
   "cell_type": "code",
   "execution_count": 127,
   "metadata": {},
   "outputs": [
    {
     "data": {
      "text/plain": [
       "Buildings connected by pedestrian walkways or tunnels shall be considered to be separate structures.   Exceptions:   1. Buildings that are on the same lot and considered as portions of a single building in accordance with Section 503.1.2.   2. For purposes of calculating the number of Type B units required by Chapter 11, structurally connected buildings and buildings with multiple wings shall be considered one structure."
      ]
     },
     "execution_count": 127,
     "metadata": {},
     "output_type": "execute_result"
    }
   ],
   "source": [
    "doc"
   ]
  },
  {
   "cell_type": "code",
   "execution_count": 26,
   "metadata": {},
   "outputs": [
    {
     "data": {
      "text/plain": [
       "False"
      ]
     },
     "execution_count": 26,
     "metadata": {},
     "output_type": "execute_result"
    }
   ],
   "source": [
    "q_doc.similarity(q_doc) > doc.similarity(q_doc)"
   ]
  },
  {
   "cell_type": "code",
   "execution_count": 22,
   "metadata": {},
   "outputs": [],
   "source": [
    "q_doc = archi.nlp(query)"
   ]
  },
  {
   "cell_type": "code",
   "execution_count": 37,
   "metadata": {},
   "outputs": [
    {
     "data": {
      "text/plain": [
       "array([  1.92017317e+00,   1.06026065e+00,   3.16198730e+00,\n",
       "        -2.11747989e-01,  -1.89150736e-01,   3.13974857e+00,\n",
       "        -2.48292375e+00,  -3.83116096e-01,   1.61044252e+00,\n",
       "         5.23512542e-01,   3.71179909e-01,  -9.51772511e-01,\n",
       "         8.38610828e-01,  -2.53091097e-01,  -8.68773088e-02,\n",
       "         2.02171230e+00,  -2.87946391e+00,  -9.45235729e-01,\n",
       "        -2.64831734e+00,  -2.35384774e+00,   1.02020264e+00,\n",
       "        -3.18842649e-01,   3.20864916e-01,   1.44217670e+00,\n",
       "         2.69406229e-01,  -1.70924127e+00,   1.72562197e-01,\n",
       "        -1.48542798e+00,  -1.62854016e+00,   1.85593724e-01,\n",
       "         2.00755596e-01,   1.35154676e+00,   1.11011946e+00,\n",
       "        -4.98433471e-01,  -5.16108036e-01,  -2.15824056e+00,\n",
       "        -3.46770853e-01,   2.25034162e-01,  -2.00006437e+00,\n",
       "         2.06864476e-01,   9.89285171e-01,   8.73665512e-01,\n",
       "         3.35764021e-01,  -1.29191005e+00,  -8.95774901e-01,\n",
       "         1.92049086e+00,   2.26433301e+00,  -1.03476083e+00,\n",
       "         1.60418499e+00,  -1.64702380e+00,   1.02663767e+00,\n",
       "        -4.64957267e-01,  -1.92328167e+00,  -3.01841617e-01,\n",
       "        -1.14875209e+00,   3.01662832e-01,  -9.27836895e-02,\n",
       "         9.89519179e-01,  -1.02334034e+00,  -2.89690018e-01,\n",
       "        -1.19872248e+00,   6.13959968e-01,  -5.60064316e-02,\n",
       "         1.37933588e+00,   2.95898914e-02,   1.04973590e+00,\n",
       "         1.53499559e-01,  -2.12250996e+00,  -1.02701342e+00,\n",
       "         4.00024325e-01,  -6.03446484e-01,  -6.01616919e-01,\n",
       "         2.08767962e+00,   6.22380786e-02,  -7.28683949e-01,\n",
       "         4.69559841e-02,   7.83547401e-01,   6.93283081e-02,\n",
       "         1.30834794e+00,  -3.56775671e-01,   1.01730907e+00,\n",
       "         5.47130942e-01,   5.48522115e-01,  -1.85142958e+00,\n",
       "         1.92676878e+00,   2.49971962e+00,  -1.05018437e+00,\n",
       "         1.64127445e+00,  -1.50681400e+00,   8.08960617e-01,\n",
       "        -8.13557386e-01,   2.18264744e-01,  -1.68925440e+00,\n",
       "         1.25220191e+00,  -1.53295600e+00,   1.45337141e+00,\n",
       "        -2.62458831e-01,   2.36629629e+00,   2.25857303e-01,\n",
       "         7.25958586e-01,  -3.59422535e-01,   2.13947725e+00,\n",
       "        -3.06495696e-01,  -1.07580805e+00,  -2.00553632e+00,\n",
       "        -2.42692426e-01,  -7.43833482e-01,  -6.42895162e-01,\n",
       "        -8.52688968e-01,  -1.94817054e+00,   1.90101850e+00,\n",
       "        -1.18480575e+00,  -8.20474565e-01,  -2.61431456e+00,\n",
       "         2.12505603e+00,   2.77131677e+00,  -1.19136500e+00,\n",
       "        -9.74123478e-01,   6.82346821e-01,   5.08445144e-01,\n",
       "         1.14157236e+00,   8.46127987e-01,  -6.01610005e-01,\n",
       "         1.12909853e+00,  -2.46761963e-01,  -1.75456122e-01,\n",
       "         2.17035580e+00,  -2.96777844e+00,   3.29258949e-01,\n",
       "         1.47541463e-01,  -1.48708122e-02,  -1.87579274e-01,\n",
       "        -1.95297256e-01,   1.47837400e-01,  -5.67242913e-02,\n",
       "         3.83701593e-01,  -4.99794297e-02,   2.57395387e-01,\n",
       "         3.38346243e-01,  -7.38917515e-02,   3.67594361e-01,\n",
       "        -9.70199108e-02,  -8.44623819e-02,   2.67324626e-01,\n",
       "         3.57987642e-01,   3.39268327e-01,   5.23868859e-01,\n",
       "         1.90427661e-01,   6.62391365e-04,   3.72319788e-01,\n",
       "         7.46088564e-01,  -9.15577114e-02,  -4.96669449e-02,\n",
       "        -2.94016212e-01,   1.43320218e-01,   9.58659649e-02,\n",
       "        -2.73458034e-01,  -3.93677741e-01,  -1.18764818e-01,\n",
       "         1.53174877e-01,  -2.21513152e-01,   2.39742413e-01,\n",
       "        -2.56460309e-01,   1.01222374e-01,   4.49948609e-02,\n",
       "         2.26626601e-02,   5.45488298e-03,   5.72693646e-02,\n",
       "        -2.80217618e-01,   5.43773174e-01,  -3.51654917e-01,\n",
       "        -2.55065650e-01,   1.01507746e-01,  -1.84229836e-01,\n",
       "        -3.09359026e-03,   9.09534097e-03,  -1.39925584e-01,\n",
       "        -7.68518075e-02,   4.38841969e-01,  -3.36352587e-01,\n",
       "        -5.75010292e-02,  -4.72736172e-02,  -5.22261076e-02,\n",
       "         9.96550992e-02,   1.27177849e-01,  -8.61529037e-02,\n",
       "         5.41426480e-01,  -1.29244745e-01,  -8.24318752e-02,\n",
       "         2.26569518e-01,  -2.87477404e-01,   1.12629317e-01,\n",
       "         2.25418091e-01,  -1.73398837e-01,  -1.23051226e-01,\n",
       "        -3.27365041e-01,  -7.58901164e-02,   3.04900050e-01,\n",
       "        -2.55361438e-01,  -4.71065134e-01,   4.55129147e-01,\n",
       "        -7.07053989e-02,  -5.09161465e-02,   4.48771954e-01,\n",
       "         8.15336928e-02,  -2.03638628e-01,   1.91277072e-01,\n",
       "         1.09281510e-01,  -3.94861996e-02,   1.02197461e-01,\n",
       "        -7.87570849e-02,   5.59149198e-02,  -2.71867007e-01,\n",
       "        -8.23227689e-02,  -5.12080729e-01,  -1.21158570e-01,\n",
       "        -3.43519896e-01,  -1.59201607e-01,  -6.74348995e-02,\n",
       "        -3.35257798e-01,  -1.22218810e-01,  -2.62044162e-01,\n",
       "        -1.37641415e-01,  -1.70012876e-01,   2.69609004e-01,\n",
       "        -6.07911386e-02,  -1.41412616e-01,  -3.15062732e-01,\n",
       "        -1.06402002e-01,   2.29342341e-01,  -1.70106575e-01,\n",
       "         7.28661239e-01,   3.56950969e-01,  -1.59774765e-01,\n",
       "        -6.55600503e-02,   3.46103400e-01,  -3.05541843e-01,\n",
       "         5.15538938e-02,  -2.73321152e-01,  -4.10919905e-01,\n",
       "         2.99522012e-01,  -4.57210451e-01,   1.78493425e-01,\n",
       "        -3.59270185e-01,  -1.95069626e-01,  -2.24293277e-01,\n",
       "         1.25234246e-01,  -3.73941511e-02,  -1.96802035e-01,\n",
       "        -3.42989475e-01,   1.90733001e-01,  -1.57603025e-01,\n",
       "         1.56396583e-01,   7.22541958e-02,  -1.46746203e-01,\n",
       "         1.05150616e+00,   4.47477289e-02,   1.92296982e-01,\n",
       "         8.45292583e-02,   4.57300305e-01,  -2.93911695e-01,\n",
       "        -2.27838695e-01,  -1.17480062e-01,   4.43325728e-01,\n",
       "         7.58614466e-02,   8.97427381e-04,   5.26259243e-01,\n",
       "        -1.32792383e-01,   6.26666546e-02,  -1.67760432e-01,\n",
       "        -1.34934187e-01,   6.73092231e-02,  -6.65636137e-02,\n",
       "        -4.56942827e-01,   4.13090706e-01,  -2.87901759e-02,\n",
       "        -3.71981055e-01,   3.56151730e-01,  -6.24041073e-02,\n",
       "        -7.06140772e-02,  -4.18845505e-01,   5.89295685e-01,\n",
       "        -3.14445108e-01,   2.36723229e-01,  -1.87682629e-01,\n",
       "         2.18073726e-01,  -2.83671081e-01,  -2.15481743e-01,\n",
       "        -4.78245050e-01,   2.78994650e-01,   7.35948756e-02,\n",
       "        -5.01917601e-02,   9.29310545e-02,   1.63140949e-02,\n",
       "         9.75968540e-02,  -2.58296523e-02,   2.63179600e-01,\n",
       "        -3.88893515e-01,  -7.19473138e-02,  -3.10006261e-01,\n",
       "         2.30924606e-01,  -4.47306007e-01,  -3.95414710e-01,\n",
       "        -2.25714818e-01,   1.75755933e-01,  -5.85667849e-01,\n",
       "        -2.47105435e-01,  -6.47350311e-01,  -2.14820549e-01,\n",
       "         4.83612686e-01,  -3.84392232e-01,   6.57553792e-01,\n",
       "        -5.73593318e-01,   4.44449574e-01,   3.72914881e-01,\n",
       "        -2.93343276e-01,   2.23177567e-01,   3.67524236e-01,\n",
       "         3.73292714e-01,   5.86021952e-02,   3.62416834e-01,\n",
       "         7.91287601e-01,  -2.48443916e-01,   2.64548901e-02,\n",
       "        -2.84068018e-01,   2.62425989e-01,   3.88173819e-01,\n",
       "        -8.00226033e-02,  -4.92992587e-02,   3.94212157e-01,\n",
       "         5.45349717e-03,   1.32050350e-01,  -2.98866332e-02,\n",
       "         1.23357780e-01,  -3.57109934e-01,  -2.77144521e-01,\n",
       "        -4.68833037e-02,   2.82084554e-01,  -1.33781403e-01,\n",
       "         2.25864872e-01,  -4.76334661e-01,   2.63277084e-01,\n",
       "        -4.79392968e-02,   2.58121997e-01,  -1.79981608e-02,\n",
       "        -1.93430126e-01,  -5.91990411e-01,   7.04493701e-01,\n",
       "        -1.29278796e-02,  -2.38831699e-01,  -6.31602347e-01,\n",
       "         1.82150677e-01,  -2.80249029e-01,   3.83140177e-01,\n",
       "         6.80180073e-01,   9.99565125e-02,   1.63535371e-01,\n",
       "         1.30126134e-01,  -3.01346451e-01,  -5.98203421e-01,\n",
       "        -2.92720526e-01,  -2.88328212e-02,   2.89427370e-01,\n",
       "         1.93506598e-01,  -4.52824116e-01,  -8.16903114e-01,\n",
       "         6.23024166e-01,  -3.11989665e-01,   6.16682708e-01,\n",
       "         2.46603880e-02,  -2.94473737e-01,   2.92532444e-01,\n",
       "         1.51979461e-01,  -2.03288570e-01,   1.59148753e-01,\n",
       "         2.13762477e-01,  -1.97892532e-01,  -1.96660206e-01,\n",
       "        -1.71533659e-01,  -5.06986678e-02,   3.53352994e-01,\n",
       "         1.13944905e-02,   3.19987804e-01,   2.46789530e-01], dtype=float32)"
      ]
     },
     "execution_count": 37,
     "metadata": {},
     "output_type": "execute_result"
    }
   ],
   "source": [
    "q_doc.vector"
   ]
  },
  {
   "cell_type": "code",
   "execution_count": 38,
   "metadata": {},
   "outputs": [
    {
     "data": {
      "text/plain": [
       "array([  7.62992561e-01,   4.91876513e-01,   4.66442823e-01,\n",
       "         1.18074346e+00,  -1.09895207e-01,  -9.18789208e-02,\n",
       "        -1.14012742e+00,  -3.10993731e-01,   7.92978108e-01,\n",
       "        -3.45718488e-02,  -3.56037587e-01,  -3.86721879e-01,\n",
       "         1.09685302e-01,  -5.81870496e-01,  -3.33843082e-01,\n",
       "        -4.98337597e-02,  -6.45416498e-01,  -4.50585246e-01,\n",
       "        -9.55495000e-01,  -4.83237386e-01,   3.31508033e-02,\n",
       "        -5.65570176e-01,  -7.60595780e-03,  -1.16550229e-01,\n",
       "        -8.76989305e-01,  -4.34465289e-01,  -5.26323915e-01,\n",
       "         5.75957179e-01,  -1.61603600e-01,   1.45581126e-01,\n",
       "        -1.23021699e-01,   7.80792952e-01,   7.65797719e-02,\n",
       "        -6.23972416e-02,   3.40293109e-01,  -1.68491319e-01,\n",
       "         1.17355490e+00,  -3.56103092e-01,   4.35074031e-01,\n",
       "         1.72485933e-01,  -6.54825985e-01,   8.27884376e-01,\n",
       "         7.07686305e-01,  -4.64300185e-01,   1.66889235e-01,\n",
       "         6.51293635e-01,   5.83510876e-01,   5.03988802e-01,\n",
       "         1.52559018e+00,  -2.23683909e-01,  -3.32435519e-01,\n",
       "        -5.79115331e-01,  -7.72655547e-01,   3.51761311e-01,\n",
       "         5.46761937e-02,   6.36776090e-01,   8.42898309e-01,\n",
       "         6.84561014e-01,  -3.90700370e-01,   2.19706073e-01,\n",
       "        -3.15774530e-01,   6.74859762e-01,  -4.61991847e-01,\n",
       "        -4.99579042e-01,   8.93232763e-01,  -5.30087471e-01,\n",
       "        -2.43951917e-01,  -4.74348843e-01,  -7.74181411e-02,\n",
       "         7.82540977e-01,  -3.67137283e-01,  -8.35078895e-01,\n",
       "        -2.76935309e-01,   3.74974221e-01,  -1.07986486e+00,\n",
       "        -3.79006535e-01,   1.27016947e-01,  -3.10508043e-01,\n",
       "         1.57461762e-01,   7.31149465e-02,   9.34639946e-02,\n",
       "        -6.12504072e-02,  -1.14639688e+00,  -9.71644104e-01,\n",
       "         3.87649924e-01,   1.02071548e+00,  -4.40901011e-01,\n",
       "         1.25118256e+00,   3.69162500e-01,   6.44272864e-01,\n",
       "        -7.85033405e-01,   9.28225100e-01,  -2.31504515e-01,\n",
       "         8.31858516e-01,  -3.36490870e-01,   2.03437015e-01,\n",
       "        -1.07125866e+00,   4.36377913e-01,  -1.97152182e-01,\n",
       "        -1.03862643e+00,  -2.40184113e-01,   9.60828960e-01,\n",
       "         8.28990281e-01,  -1.71437785e-01,   1.49016887e-01,\n",
       "        -3.56864333e-01,   1.73603162e-01,  -1.09214211e+00,\n",
       "        -6.76337421e-01,  -1.71043485e-01,   4.24724519e-01,\n",
       "        -9.97597948e-02,  -3.54979604e-01,  -2.35101625e-01,\n",
       "         6.66291416e-01,   1.48511457e+00,  -6.75070211e-02,\n",
       "         8.66375491e-02,  -2.07415655e-01,  -4.97561157e-01,\n",
       "        -2.24182591e-01,  -1.56475693e-01,   9.10332978e-01,\n",
       "         1.04704633e-01,   8.54011834e-01,  -6.97441936e-01,\n",
       "         4.72143471e-01,  -8.06873143e-01,  -2.59201258e-01,\n",
       "        -1.45963654e-01,  -2.19812840e-01,  -5.66118769e-02,\n",
       "        -5.85359633e-02,   6.87577501e-02,  -3.53401870e-01,\n",
       "        -6.94121420e-02,   2.60231197e-01,  -1.46140620e-01,\n",
       "        -1.41773567e-01,  -1.32502005e-01,   3.15690696e-01,\n",
       "        -5.99477887e-02,  -1.43866420e-01,   2.62790978e-01,\n",
       "         9.10153911e-02,   2.64570713e-01,   9.80726480e-02,\n",
       "         5.49138114e-02,   8.92636627e-02,   1.04813628e-01,\n",
       "         1.48125529e-01,  -4.04504053e-02,   1.68274835e-01,\n",
       "        -1.85486540e-01,   9.27055255e-02,  -1.83467492e-01,\n",
       "        -4.67052497e-02,  -2.81688154e-01,  -2.83387699e-03,\n",
       "         5.11368224e-03,   1.33077204e-01,   1.21487835e-02,\n",
       "        -6.46413565e-02,  -6.06987439e-02,   6.05444722e-02,\n",
       "        -1.41256690e-01,  -2.45160870e-02,  -1.92867219e-02,\n",
       "         3.70001234e-02,   7.00267926e-02,  -2.18451798e-01,\n",
       "        -2.74726331e-01,   4.00212526e-01,  -2.93188095e-01,\n",
       "         2.08619356e-01,   1.60322338e-01,  -2.56507128e-01,\n",
       "        -4.35360409e-02,  -3.04391205e-01,   4.43773065e-03,\n",
       "         3.66217531e-02,   1.27389565e-01,  -8.93068239e-02,\n",
       "         1.13982677e-01,   1.56377241e-01,  -4.91632745e-02,\n",
       "         2.45918497e-01,   2.23337039e-02,   2.81095318e-02,\n",
       "         7.72125274e-02,  -3.84672284e-02,   1.12930037e-01,\n",
       "         1.11352773e-02,   8.28858316e-02,   8.53462368e-02,\n",
       "        -2.50577420e-01,  -1.62077203e-01,   3.07443321e-01,\n",
       "        -2.71727115e-01,  -1.51047513e-01,   2.13050887e-01,\n",
       "         1.96236968e-01,   5.05794361e-02,   9.71735176e-03,\n",
       "        -7.03650247e-03,  -4.32590879e-02,   3.37134123e-01,\n",
       "         2.97904015e-02,  -1.96466953e-01,  -9.79838669e-02,\n",
       "        -2.47254092e-02,  -4.40674275e-02,   2.27141865e-02,\n",
       "        -2.33875308e-02,  -1.90758139e-01,   5.90073280e-02,\n",
       "         2.30046324e-02,   3.35010476e-02,   5.72916865e-02,\n",
       "        -2.11988896e-01,   1.41743692e-02,  -6.98909536e-02,\n",
       "         4.89832647e-02,   2.10099161e-01,   1.10178865e-01,\n",
       "         2.44243518e-01,  -3.48186679e-02,  -2.46755421e-01,\n",
       "         2.53185987e-01,   2.51401216e-01,   2.11437330e-01,\n",
       "         8.41371790e-02,   2.32994840e-01,  -1.49281085e-01,\n",
       "        -1.70929451e-02,   1.50988787e-01,  -1.02529407e-01,\n",
       "         1.48047283e-01,   9.62275714e-02,  -1.05517536e-01,\n",
       "         1.38712926e-02,  -6.94629923e-02,  -1.16594307e-01,\n",
       "        -7.71773010e-02,  -1.28120154e-01,  -3.67206242e-03,\n",
       "        -7.59524778e-02,  -6.43454343e-02,  -4.89395694e-04,\n",
       "        -4.58124690e-02,   1.87354237e-01,  -1.32868394e-01,\n",
       "         1.09122306e-01,  -5.81970774e-02,   1.72531679e-01,\n",
       "        -4.44535650e-02,  -4.17880714e-02,   8.34540203e-02,\n",
       "        -3.45204351e-03,   4.53244373e-02,  -1.57155201e-01,\n",
       "        -1.30150153e-03,  -1.22756369e-01,   1.75592035e-01,\n",
       "        -1.32509822e-03,  -1.64652303e-01,  -8.61052871e-02,\n",
       "        -9.05013680e-02,   7.92300105e-02,   1.52654918e-02,\n",
       "        -1.14094377e-01,   2.67044753e-01,   1.89661607e-02,\n",
       "        -2.59537678e-02,  -1.34684846e-01,  -1.88700750e-01,\n",
       "        -4.40328754e-02,   6.29256144e-02,   4.28714544e-01,\n",
       "        -1.52583539e-01,  -1.21330656e-01,   2.15909377e-01,\n",
       "        -9.96945240e-03,   2.71246415e-02,   1.73258528e-01,\n",
       "        -1.87355827e-03,  -3.99498254e-01,  -2.14571625e-01,\n",
       "         3.99263427e-02,   6.64759204e-02,   2.22271547e-01,\n",
       "        -1.00379080e-01,  -1.61090270e-01,   1.78447545e-01,\n",
       "         1.38481244e-01,  -7.95147568e-02,  -4.48743105e-02,\n",
       "         3.20863188e-03,   1.43671080e-01,  -1.37298688e-01,\n",
       "        -3.54291461e-02,  -1.35332093e-01,  -9.56212953e-02,\n",
       "        -1.65685967e-01,  -3.89300138e-02,  -1.18895359e-01,\n",
       "         1.28599674e-01,  -2.83909202e-01,  -9.04697403e-02,\n",
       "         7.47334659e-02,  -5.17346673e-02,   8.87352303e-02,\n",
       "        -1.94686338e-01,  -9.74746570e-02,   2.35183999e-01,\n",
       "        -1.97426453e-01,   9.14492384e-02,   2.89287239e-01,\n",
       "        -2.35931370e-02,   2.52122641e-01,   1.51470125e-01,\n",
       "         4.25148040e-01,  -1.76849559e-01,   1.81687236e-01,\n",
       "        -3.99920344e-01,   1.61314279e-01,  -1.24515053e-02,\n",
       "        -1.15877949e-01,   2.04434767e-01,   1.61013693e-01,\n",
       "         2.09308237e-01,   3.22143845e-02,  -7.63261989e-02,\n",
       "         4.19887990e-01,  -3.19968969e-01,   9.47794914e-02,\n",
       "        -1.07423931e-01,  -7.12587079e-03,   2.98916977e-02,\n",
       "        -2.80200064e-01,  -8.45608264e-02,  -2.00234637e-01,\n",
       "         8.59171450e-02,  -5.43830581e-02,  -1.33978441e-01,\n",
       "        -1.90369114e-02,  -2.60799471e-02,   1.09572016e-01,\n",
       "         2.82193691e-01,  -6.12038970e-02,  -2.06878096e-01,\n",
       "         9.86104831e-02,  -1.22201256e-01,   9.10048559e-02,\n",
       "         1.04359411e-01,  -1.32187888e-01,  -1.94075882e-01,\n",
       "        -3.58574033e-01,  -6.81888359e-03,  -3.42172533e-01,\n",
       "        -2.42857151e-02,   8.15227330e-02,   4.04902883e-02,\n",
       "         6.57813251e-02,  -3.43121052e-01,  -1.12384990e-01,\n",
       "        -6.78410456e-02,  -1.34942695e-01,   7.41924420e-02,\n",
       "         2.19612733e-01,  -1.33403942e-01,  -5.44981882e-02,\n",
       "        -7.99966827e-02,  -6.37332797e-02,  -9.52913761e-02,\n",
       "         6.85480908e-02,  -7.44944140e-02,  -3.13503742e-02,\n",
       "         8.56081769e-02,   1.47993445e-01,   1.68873332e-02,\n",
       "         2.62524188e-01,   1.23643100e-01,  -2.27784971e-03], dtype=float32)"
      ]
     },
     "execution_count": 38,
     "metadata": {},
     "output_type": "execute_result"
    }
   ],
   "source": [
    "doc.vector"
   ]
  },
  {
   "cell_type": "code",
   "execution_count": 32,
   "metadata": {},
   "outputs": [],
   "source": [
    "import numpy as np"
   ]
  },
  {
   "cell_type": "code",
   "execution_count": 34,
   "metadata": {},
   "outputs": [
    {
     "data": {
      "text/plain": [
       "5.0"
      ]
     },
     "execution_count": 34,
     "metadata": {},
     "output_type": "execute_result"
    }
   ],
   "source": [
    "np.linalg.norm(np.array([3,4]))"
   ]
  },
  {
   "cell_type": "code",
   "execution_count": 35,
   "metadata": {},
   "outputs": [
    {
     "data": {
      "text/plain": [
       "1.4142135"
      ]
     },
     "execution_count": 35,
     "metadata": {},
     "output_type": "execute_result"
    }
   ],
   "source": [
    "np.linalg.norm(q_doc.vector)"
   ]
  },
  {
   "cell_type": "code",
   "execution_count": 36,
   "metadata": {},
   "outputs": [
    {
     "name": "stderr",
     "output_type": "stream",
     "text": [
      "/Users/nguyen/anaconda3/lib/python3.6/site-packages/numpy/linalg/linalg.py:2168: RuntimeWarning: invalid value encountered in sqrt\n",
      "  ret = sqrt(sqnorm)\n"
     ]
    },
    {
     "data": {
      "text/plain": [
       "nan"
      ]
     },
     "execution_count": 36,
     "metadata": {},
     "output_type": "execute_result"
    }
   ],
   "source": [
    "np.linalg.norm(doc.vector)"
   ]
  },
  {
   "cell_type": "code",
   "execution_count": 41,
   "metadata": {},
   "outputs": [
    {
     "data": {
      "text/plain": [
       "52.044979"
      ]
     },
     "execution_count": 41,
     "metadata": {},
     "output_type": "execute_result"
    }
   ],
   "source": [
    "np.sum((doc.vector ** 2))"
   ]
  },
  {
   "cell_type": "code",
   "execution_count": 42,
   "metadata": {},
   "outputs": [
    {
     "data": {
      "text/plain": [
       "7.2142205"
      ]
     },
     "execution_count": 42,
     "metadata": {},
     "output_type": "execute_result"
    }
   ],
   "source": [
    "np.sqrt(np.sum((doc.vector ** 2)))"
   ]
  },
  {
   "cell_type": "code",
   "execution_count": 74,
   "metadata": {},
   "outputs": [
    {
     "data": {
      "text/plain": [
       "0.45200303"
      ]
     },
     "execution_count": 74,
     "metadata": {},
     "output_type": "execute_result"
    }
   ],
   "source": [
    "np.sum((q_doc.vector * doc.vector)) / (np.sqrt(np.sum((doc.vector ** 2))) * np.sqrt(np.sum((q_doc.vector ** 2))))"
   ]
  },
  {
   "cell_type": "code",
   "execution_count": 94,
   "metadata": {},
   "outputs": [],
   "source": [
    "a = np.array([2, 2, 2, 3, 4])\n",
    "b = np.array([0, 3, 4, -1, -4])"
   ]
  },
  {
   "cell_type": "code",
   "execution_count": 95,
   "metadata": {},
   "outputs": [
    {
     "data": {
      "text/plain": [
       "-5"
      ]
     },
     "execution_count": 95,
     "metadata": {},
     "output_type": "execute_result"
    }
   ],
   "source": [
    "np.dot(a, b)"
   ]
  },
  {
   "cell_type": "code",
   "execution_count": 96,
   "metadata": {},
   "outputs": [
    {
     "data": {
      "text/plain": [
       "-5"
      ]
     },
     "execution_count": 96,
     "metadata": {},
     "output_type": "execute_result"
    }
   ],
   "source": [
    "np.sum((a * b))"
   ]
  },
  {
   "cell_type": "code",
   "execution_count": 86,
   "metadata": {},
   "outputs": [
    {
     "data": {
      "text/plain": [
       "3.6893488e+19"
      ]
     },
     "execution_count": 86,
     "metadata": {},
     "output_type": "execute_result"
    }
   ],
   "source": [
    "np.dot(q_doc.vector, doc.vector)"
   ]
  },
  {
   "cell_type": "code",
   "execution_count": 87,
   "metadata": {},
   "outputs": [
    {
     "data": {
      "text/plain": [
       "51.888256"
      ]
     },
     "execution_count": 87,
     "metadata": {},
     "output_type": "execute_result"
    }
   ],
   "source": [
    "np.sum((q_doc.vector * doc.vector))"
   ]
  },
  {
   "cell_type": "code",
   "execution_count": null,
   "metadata": {},
   "outputs": [],
   "source": []
  },
  {
   "cell_type": "markdown",
   "metadata": {},
   "source": [
    "### This is right"
   ]
  },
  {
   "cell_type": "code",
   "execution_count": 75,
   "metadata": {},
   "outputs": [],
   "source": [
    "def cos_sim(a, b):\n",
    "    return np.sum((a * b)) / (np.sqrt(np.sum((a ** 2))) * np.sqrt(np.sum((b ** 2))))"
   ]
  },
  {
   "cell_type": "code",
   "execution_count": 76,
   "metadata": {},
   "outputs": [
    {
     "data": {
      "text/plain": [
       "0.70710678118654746"
      ]
     },
     "execution_count": 76,
     "metadata": {},
     "output_type": "execute_result"
    }
   ],
   "source": [
    "cos_sim(a, b)"
   ]
  },
  {
   "cell_type": "code",
   "execution_count": 77,
   "metadata": {},
   "outputs": [
    {
     "data": {
      "text/plain": [
       "0.45200303"
      ]
     },
     "execution_count": 77,
     "metadata": {},
     "output_type": "execute_result"
    }
   ],
   "source": [
    "cos_sim(doc.vector, q_doc.vector)"
   ]
  }
 ],
 "metadata": {
  "kernelspec": {
   "display_name": "Python 3",
   "language": "python",
   "name": "python3"
  },
  "language_info": {
   "codemirror_mode": {
    "name": "ipython",
    "version": 3
   },
   "file_extension": ".py",
   "mimetype": "text/x-python",
   "name": "python",
   "nbconvert_exporter": "python",
   "pygments_lexer": "ipython3",
   "version": "3.6.3"
  }
 },
 "nbformat": 4,
 "nbformat_minor": 2
}
