{
 "cells": [
  {
   "cell_type": "code",
   "execution_count": 1,
   "metadata": {},
   "outputs": [
    {
     "name": "stdout",
     "output_type": "stream",
     "text": [
      "/Users/nguyen/projects/archi\n"
     ]
    }
   ],
   "source": [
    "cd .."
   ]
  },
  {
   "cell_type": "code",
   "execution_count": 18,
   "metadata": {},
   "outputs": [],
   "source": [
    "from src.archi_nlp import Archi\n",
    "import pandas as pd\n",
    "import matplotlib.pyplot as plt\n",
    "# from nltk import Tree\n",
    "\n",
    "%matplotlib inline\n",
    "plt.style.use('ggplot')"
   ]
  },
  {
   "cell_type": "code",
   "execution_count": 19,
   "metadata": {},
   "outputs": [],
   "source": [
    "archi = Archi('en')"
   ]
  },
  {
   "cell_type": "code",
   "execution_count": 20,
   "metadata": {},
   "outputs": [],
   "source": [
    "archi.get_raw_nlp_data('data/nlp_df/raw_nlp_05-11.pkl')"
   ]
  },
  {
   "cell_type": "code",
   "execution_count": 21,
   "metadata": {},
   "outputs": [
    {
     "data": {
      "text/html": [
       "<div>\n",
       "<style>\n",
       "    .dataframe thead tr:only-child th {\n",
       "        text-align: right;\n",
       "    }\n",
       "\n",
       "    .dataframe thead th {\n",
       "        text-align: left;\n",
       "    }\n",
       "\n",
       "    .dataframe tbody tr th {\n",
       "        vertical-align: top;\n",
       "    }\n",
       "</style>\n",
       "<table border=\"1\" class=\"dataframe\">\n",
       "  <thead>\n",
       "    <tr style=\"text-align: right;\">\n",
       "      <th></th>\n",
       "      <th>_id</th>\n",
       "      <th>code</th>\n",
       "      <th>title</th>\n",
       "      <th>nlp_doc</th>\n",
       "    </tr>\n",
       "  </thead>\n",
       "  <tbody>\n",
       "    <tr>\n",
       "      <th>0</th>\n",
       "      <td>5acce476ed4f1f214d78ccd0</td>\n",
       "      <td></td>\n",
       "      <td>Chapter 31 Special Construction</td>\n",
       "      <td>()</td>\n",
       "    </tr>\n",
       "    <tr>\n",
       "      <th>1</th>\n",
       "      <td>5acce476ed4f1f214d78ccd1</td>\n",
       "      <td></td>\n",
       "      <td>Section 3101 General</td>\n",
       "      <td>()</td>\n",
       "    </tr>\n",
       "    <tr>\n",
       "      <th>2</th>\n",
       "      <td>5acce476ed4f1f214d78ccd2</td>\n",
       "      <td>The provisions of this chapter shall govern sp...</td>\n",
       "      <td>3101.1 Scope</td>\n",
       "      <td>(The, provisions, of, this, chapter, shall, go...</td>\n",
       "    </tr>\n",
       "    <tr>\n",
       "      <th>3</th>\n",
       "      <td>5acce476ed4f1f214d78ccd3</td>\n",
       "      <td></td>\n",
       "      <td>Section 3102 Membrane Structures</td>\n",
       "      <td>()</td>\n",
       "    </tr>\n",
       "    <tr>\n",
       "      <th>4</th>\n",
       "      <td>5acce476ed4f1f214d78ccd4</td>\n",
       "      <td>The provisions of Sections 3102.1 through 3102...</td>\n",
       "      <td>3102.1 General</td>\n",
       "      <td>(The, provisions, of, Sections, 3102.1, throug...</td>\n",
       "    </tr>\n",
       "  </tbody>\n",
       "</table>\n",
       "</div>"
      ],
      "text/plain": [
       "                        _id  \\\n",
       "0  5acce476ed4f1f214d78ccd0   \n",
       "1  5acce476ed4f1f214d78ccd1   \n",
       "2  5acce476ed4f1f214d78ccd2   \n",
       "3  5acce476ed4f1f214d78ccd3   \n",
       "4  5acce476ed4f1f214d78ccd4   \n",
       "\n",
       "                                                code  \\\n",
       "0                                                      \n",
       "1                                                      \n",
       "2  The provisions of this chapter shall govern sp...   \n",
       "3                                                      \n",
       "4  The provisions of Sections 3102.1 through 3102...   \n",
       "\n",
       "                              title  \\\n",
       "0   Chapter 31 Special Construction   \n",
       "1              Section 3101 General   \n",
       "2                      3101.1 Scope   \n",
       "3  Section 3102 Membrane Structures   \n",
       "4                    3102.1 General   \n",
       "\n",
       "                                             nlp_doc  \n",
       "0                                                 ()  \n",
       "1                                                 ()  \n",
       "2  (The, provisions, of, this, chapter, shall, go...  \n",
       "3                                                 ()  \n",
       "4  (The, provisions, of, Sections, 3102.1, throug...  "
      ]
     },
     "execution_count": 21,
     "metadata": {},
     "output_type": "execute_result"
    }
   ],
   "source": [
    "archi.raw_nlp_data.head()"
   ]
  },
  {
   "cell_type": "code",
   "execution_count": 22,
   "metadata": {},
   "outputs": [],
   "source": [
    "query = \"requirements for pedestrian walkways\""
   ]
  },
  {
   "cell_type": "code",
   "execution_count": 25,
   "metadata": {},
   "outputs": [],
   "source": [
    "json = archi.predict(query)"
   ]
  },
  {
   "cell_type": "code",
   "execution_count": 26,
   "metadata": {},
   "outputs": [
    {
     "data": {
      "text/plain": [
       "[{'@context': 'http://archi.codes/',\n",
       "  '@type': 'Provision',\n",
       "  'about': 'effect',\n",
       "  'criteria': 'a',\n",
       "  'text': 'The load effects of the design wind pressures from Section 28.6.3 shall not be less than a minimum load defined by assuming the pressures, ps, for zones A and C equal to +16 psf, Zones B and D equal to +8 psf, while assuming ps for Zones E, F, G, and His equal to 0 psf.',\n",
       "  'title': '28.6.4 Minimum Design Wind Loads'},\n",
       " {'@context': 'http://archi.codes/',\n",
       "  '@type': 'Provision',\n",
       "  'about': 'two',\n",
       "  'criteria': 'accordance',\n",
       "  'text': 'Where more than two exit access stairways or ramps provide the required means of egress, not less than two shall be arranged in accordance with Section 1007.1.3.',\n",
       "  'title': '1007.1.3.1 Three or More Exit Access Stairways or Ramps'},\n",
       " {'@context': 'http://archi.codes/',\n",
       "  '@type': 'Provision',\n",
       "  'about': 'story',\n",
       "  'criteria': None,\n",
       "  'text': 'Each story and occupied roof shall have the minimum number of independent exits, or access to exits, as specified in Table 1006.3.1. A single exit or access to a single exit shall be permitted in accordance with Section 1006.3.2. The required number of exits, or exit access stairways or ramps providing access to exits, from any story or occupied roof shall be maintained until arrival at the exit discharge or a public way.   TABLE 1006.3.1 MINIMUM NUMBER OF EXITS OR ACCESS TO EXITS PER STORY     OCCUPANT LOAD  PER STORY  MINIMUM NUMBER OF EXITS OR  ACCESS TO EXITS FROM STORY   1-500  2   501-1,000  3   More than 1,000  4 ',\n",
       "  'title': '1006.3.1 Egress Based on Occupant Load'},\n",
       " {'@context': 'http://archi.codes/',\n",
       "  '@type': 'Provision',\n",
       "  'about': 'exit',\n",
       "  'criteria': 'story',\n",
       "  'text': \"A single exit or access to a single exit shall be permitted from any story or occupied roof where one of the following conditions exists:   1. The occupant load, number of dwelling units and common path of egress travel distance does not exceed the values in Table 1006.3.2(1) or 1006.3.2(2).   2. Rooms, areas and spaces complying with Section 1006.2.1 with exits that discharge directly to the exterior at the level of exit discharge, are permitted to have one exit or access to a single exit.   3. Parking garages where vehicles are mechanically parked shall be permitted to have one exit or access to a single exit.   4. Group R-3 and R-4 occupancies shall be permitted to have one exit or access to a single exit.   5. Individual single-story or multistory dwelling units shall be permitted to have a single exit or access to a single exit from the dwelling unit provided that both of the following criteria are met:   5.1. The dwelling unit complies with Section 1006.2.1 as a space with one means of egress.   5.2. Either the exit from the dwelling unit discharges directly to the exterior at the level of exit discharge, or the exit access outside the dwelling unit's entrance door provides access to not less than two approved independent exits.   TABLE 1006.3.2(1) STORIES WITH ONE EXIT OR ACCESS TO ONE EXIT FOR R-2 OCCUPANCIES     STORY  OCCUPANCY  MAXIMUM NUMBER OF  DWELLING UNITS  MAXIMUM COMMON PATH OF  EGRESS TRAVEL DISTANCE   Basement, first, second or third story above grade plane  R-2a, b  4 dwelling units  125 feet   Fourth story above grade plane and higher  NP  NA  NA    For SI: 1 foot = 3048 mm.  NP = Not Permitted.  NA = Not Applicable.  a. Buildings classified as Group R-2 equipped throughout with an  automatic sprinkler system in accordance with Section 903.3.1.1 or 903.3.1.2 and provided with emergency escape and rescue openings in accordance with Section 1030.  b. This table is used for R-2 occupancies consisting of dwelling units. For R-2 occupancies consisting of sleeping units, use Table 1006.3.2(2).    1006.3.2(2) STORIES WITH ONE EXIT OR ACCESS TO ONE EXIT FOR OTHER OCCUPANCIES     STORY  OCCUPANCY  MAXIMUM OCCUPANT  LOAD PER STORY  MAXIMUM COMMON PATH OF  EGRESS TRAVEL DISTANCE  (feet)   First story above or below grade plane  A, Bb, E Fb, M, U  49  75   H-2, H-3  3  25   H-4, H-5, I, R-1, R-2a, c, R-4  10  75   Sb, d  29  75   Second story above grade plane  B, F, M, Sd  29  75   Third story above grade plane and higher  NP  NA  NA    For SI: 1 foot = 304.8 mm.  NP = Not Permitted.  NA = Not Applicable.  a. Buildings classified as Group R-2 equipped throughout with an  automatic sprinkler system in accordance with Section 903.3.1.1 or 903.3.1.2 and provided with emergency escape and rescue openings in accordance with Section 1030.  b. Group B, F and S occupancies in buildings equipped throughout with an automatic sprinkler system in accordance with Section 903.3.1.1 shall have a maximum exit access travel distance of 100 feet.  c. This table is used for R-2 occupancies consisting of sleeping units. For R-2 occupancies consisting of dwelling units, use Table 1006.3.2(1).  d. The length of exit access travel distance in a Group S-2 open parking garage shall be not more than 100 feet. \",\n",
       "  'title': '1006.3.2 Single Exits'},\n",
       " {'@context': 'http://archi.codes/',\n",
       "  '@type': 'Provision',\n",
       "  'about': 'occupancy',\n",
       "  'criteria': None,\n",
       "  'text': 'Where one exit, or exit access stairway or ramp providing access to exits at other stories, is permitted to serve individual stories, mixed occupancies shall be permitted to be served by single exits provided each individual occupancy complies with the applicable requirements of Table 1006.3.2(1) or 1006.3.2(2) for that occupancy. Where applicable, cumulative occupant loads from adjacent occupancies shall be considered in accordance with the provisions of Section 1004.1. In each story of a mixed occupancy building, the maximum number of occupants served by a single exit shall be such that the sum of the ratios of the calculated number of occupants of the space divided by the allowable number of occupants indicated in Table 1006.3.2(2) for each occupancy does not exceed one. Where dwelling units are located on a story with other occupancies, the actual number of dwelling units divided by four plus the ratio from the other occupancy does not exceed one.',\n",
       "  'title': '1006.3.2.1 Mixed Occupancies'},\n",
       " {'@context': 'http://archi.codes/',\n",
       "  '@type': 'Provision',\n",
       "  'about': None,\n",
       "  'criteria': None,\n",
       "  'text': '',\n",
       "  'title': 'Section 1007 Exit and Exit Access Doorway Configuration'},\n",
       " {'@context': 'http://archi.codes/',\n",
       "  '@type': 'Provision',\n",
       "  'about': 'exit',\n",
       "  'criteria': 'accordance',\n",
       "  'text': 'Exits, exit access doorways, and exit access stairways and ramps serving spaces, including individual building stories, shall be separated in accordance with the provisions of this section.',\n",
       "  'title': '1007.1 General'},\n",
       " {'@context': 'http://archi.codes/',\n",
       "  '@type': 'Provision',\n",
       "  'about': '-PRON-',\n",
       "  'criteria': None,\n",
       "  'text': 'Where two exits, exit access doorways, exit access stairways or ramps, or any combination thereof, are required from any portion of the exit access, they shall be placed a distance apart equal to not less than one-half of the length of the maximum overall diagonal dimension of the building or area to be served measured in a straight line between them. Interlocking or scissor stairways shall be counted as one exit stairway.   Exceptions:   1. Where interior exit stairways or ramps are interconnected by a 1-hour fire-resistance-rated corridor conforming to the requirements of Section 1020, the required exit separation shall be measured along the shortest direct line of travel within the corridor.   2. Where a building is equipped throughout with an automatic sprinkler system in accordance with Section 903.3.1.1 or 903.3.1.2, the separation distance shall be not less than one-third of the length of the maximum overall diagonal dimension of the area served.',\n",
       "  'title': '1007.1.1 Two Exits or Exit Access Doorways'},\n",
       " {'@context': 'http://archi.codes/',\n",
       "  '@type': 'Provision',\n",
       "  'about': 'distance',\n",
       "  'criteria': 'accordance',\n",
       "  'text': 'The separation distance required in Section 1007.1.1 shall be measured in accordance with the following:   1. The separation distance to exit or exit access doorways shall be measured to any point along the width of the doorway.   2. The separation distance to exit access stairways shall be measured to the closest riser.   3. The separation distance to exit access ramps shall be measured to the start of the ramp run.',\n",
       "  'title': '1007.1.1.1 Measurement Point'},\n",
       " {'@context': 'http://archi.codes/',\n",
       "  '@type': 'Provision',\n",
       "  'about': 'doorway',\n",
       "  'criteria': 'accordance',\n",
       "  'text': 'Where access to three or more exits is required, not less than two exit or exit access doorways shall be arranged in accordance with the provisions of Section 1007.1.1. Additional required exit or exit access doorways shall be arranged a reasonable distance apart so that if one becomes blocked, the others will be available.',\n",
       "  'title': '1007.1.2 Three or More Exits or Exit Access Doorways'}]"
      ]
     },
     "execution_count": 26,
     "metadata": {},
     "output_type": "execute_result"
    }
   ],
   "source": [
    "json"
   ]
  },
  {
   "cell_type": "code",
   "execution_count": null,
   "metadata": {},
   "outputs": [],
   "source": []
  },
  {
   "cell_type": "code",
   "execution_count": null,
   "metadata": {},
   "outputs": [],
   "source": []
  }
 ],
 "metadata": {
  "kernelspec": {
   "display_name": "Python 3",
   "language": "python",
   "name": "python3"
  },
  "language_info": {
   "codemirror_mode": {
    "name": "ipython",
    "version": 3
   },
   "file_extension": ".py",
   "mimetype": "text/x-python",
   "name": "python",
   "nbconvert_exporter": "python",
   "pygments_lexer": "ipython3",
   "version": "3.6.3"
  }
 },
 "nbformat": 4,
 "nbformat_minor": 2
}
