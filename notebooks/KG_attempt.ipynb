{
 "cells": [
  {
   "cell_type": "code",
   "execution_count": 1,
   "metadata": {},
   "outputs": [
    {
     "name": "stdout",
     "output_type": "stream",
     "text": [
      "/Users/nguyen/projects/archi\n"
     ]
    }
   ],
   "source": [
    "cd .."
   ]
  },
  {
   "cell_type": "code",
   "execution_count": 3,
   "metadata": {},
   "outputs": [],
   "source": [
    "from src.archi_nlp import Archi, NER_data"
   ]
  },
  {
   "cell_type": "code",
   "execution_count": 4,
   "metadata": {},
   "outputs": [],
   "source": [
    "archi = Archi(nlp_model_name='en_core_web_lg')"
   ]
  },
  {
   "cell_type": "code",
   "execution_count": 17,
   "metadata": {},
   "outputs": [],
   "source": [
    "archi.raw_data = None"
   ]
  },
  {
   "cell_type": "code",
   "execution_count": 18,
   "metadata": {},
   "outputs": [],
   "source": [
    "archi.get_raw_data('data/raw_df/ibc.pkl')\n",
    "archi.get_raw_data('data/raw_df/asce7.pkl')"
   ]
  },
  {
   "cell_type": "code",
   "execution_count": 19,
   "metadata": {},
   "outputs": [
    {
     "data": {
      "text/plain": [
       "6051"
      ]
     },
     "execution_count": 19,
     "metadata": {},
     "output_type": "execute_result"
    }
   ],
   "source": [
    "len(archi.raw_data)"
   ]
  },
  {
   "cell_type": "code",
   "execution_count": 20,
   "metadata": {},
   "outputs": [],
   "source": [
    "archi.fit_nlp()"
   ]
  },
  {
   "cell_type": "code",
   "execution_count": 23,
   "metadata": {},
   "outputs": [],
   "source": [
    "doc = archi.raw_nlp_data.loc[2, 'nlp_doc']"
   ]
  },
  {
   "cell_type": "code",
   "execution_count": 45,
   "metadata": {},
   "outputs": [
    {
     "data": {
      "text/plain": [
       "39"
      ]
     },
     "execution_count": 45,
     "metadata": {},
     "output_type": "execute_result"
    }
   ],
   "source": [
    "len(doc)"
   ]
  },
  {
   "cell_type": "code",
   "execution_count": 84,
   "metadata": {},
   "outputs": [],
   "source": [
    "def get_subj(doc, dep='nsubj'):\n",
    "    if len(doc) > 0:\n",
    "        if dep == 'nsubj':\n",
    "            deps = ['nsubj', 'nsubjpass']\n",
    "        first_sent = list(doc.sents)[0]\n",
    "        subj = [token.lemma_ for token in first_sent if token.dep_ in deps]\n",
    "        return subj\n",
    "    else:\n",
    "        return None"
   ]
  },
  {
   "cell_type": "code",
   "execution_count": 85,
   "metadata": {},
   "outputs": [],
   "source": [
    "archi.raw_nlp_data['subj'] = archi.raw_nlp_data['nlp_doc'].apply(lambda x: get_subj(x))"
   ]
  },
  {
   "cell_type": "code",
   "execution_count": 91,
   "metadata": {},
   "outputs": [
    {
     "data": {
      "text/plain": [
       "0                             None\n",
       "1                             None\n",
       "2                      [provision]\n",
       "3                             None\n",
       "4                      [provision]\n",
       "5                      [structure]\n",
       "6                           [term]\n",
       "7                      [structure]\n",
       "8                       [membrane]\n",
       "9                           [area]\n",
       "10          [structure, structure]\n",
       "11                     [structure]\n",
       "12            [membrane, membrane]\n",
       "13                [membrane, nfpa]\n",
       "14                     [structure]\n",
       "15                      [membrane]\n",
       "16                     [structure]\n",
       "17                        [system]\n",
       "18                        [system]\n",
       "19                     [equipment]\n",
       "20                [system, system]\n",
       "21                        [system]\n",
       "22                            None\n",
       "23                     [provision]\n",
       "24                     [structure]\n",
       "25         [structure, that, that]\n",
       "26                   [application]\n",
       "27                     [structure]\n",
       "28                     [structure]\n",
       "29                            None\n",
       "                  ...             \n",
       "70                          [term]\n",
       "71                          [gate]\n",
       "72                              []\n",
       "73                            None\n",
       "74                         [panel]\n",
       "75                         [panel]\n",
       "76                              []\n",
       "77                            None\n",
       "78                     [provision]\n",
       "79                      [building]\n",
       "80                            None\n",
       "81                          [term]\n",
       "82                            None\n",
       "83                              []\n",
       "84                [building, that]\n",
       "85              [building, height]\n",
       "86                [building, that]\n",
       "87                            None\n",
       "88                        [height]\n",
       "89                        [height]\n",
       "90    [provision, that, condition]\n",
       "91                     [occupancy]\n",
       "92                        [height]\n",
       "93                        [number]\n",
       "94                        [number]\n",
       "95                            None\n",
       "96                     [mezzanine]\n",
       "97                     [mezzanine]\n",
       "98                  [area, -PRON-]\n",
       "99            [room, area, -PRON-]\n",
       "Name: subj, Length: 100, dtype: object"
      ]
     },
     "execution_count": 91,
     "metadata": {},
     "output_type": "execute_result"
    }
   ],
   "source": [
    "archi.raw_nlp_data['subj'][:100]"
   ]
  },
  {
   "cell_type": "code",
   "execution_count": 49,
   "metadata": {},
   "outputs": [],
   "source": [
    "doc_X = archi.raw_nlp_data.loc[25, 'nlp_doc']"
   ]
  },
  {
   "cell_type": "code",
   "execution_count": 72,
   "metadata": {},
   "outputs": [
    {
     "data": {
      "text/plain": [
       "Temporary structures that cover an area greater than 120 square feet (11.16 m2), including connecting areas or spaces with a common means of egress or entrance that are used or intended to be used for the gathering together of 10 or more persons, shall not be erected, operated or maintained for any purpose without obtaining a permit from the building official."
      ]
     },
     "execution_count": 72,
     "metadata": {},
     "output_type": "execute_result"
    }
   ],
   "source": [
    "doc_X"
   ]
  },
  {
   "cell_type": "code",
   "execution_count": 76,
   "metadata": {},
   "outputs": [
    {
     "name": "stdout",
     "output_type": "stream",
     "text": [
      "Temporary amod structures NOUN [] temporary\n",
      "structures nsubjpass erected VERB [Temporary, cover, ,, including, ,] structure\n",
      "that nsubj cover VERB [] that\n",
      "cover relcl structures NOUN [that, area] cover\n",
      "an det area NOUN [] an\n",
      "area dobj cover VERB [an, greater] area\n",
      "greater amod area NOUN [than] great\n",
      "than prep greater ADJ [feet] than\n",
      "120 nummod feet NOUN [] 120\n",
      "square amod feet NOUN [] square\n",
      "feet pobj than ADP [120, square, (, m2, )] foot\n",
      "( punct feet NOUN [] (\n",
      "11.16 nummod m2 NOUN [] 11.16\n",
      "m2 appos feet NOUN [11.16] m2\n",
      ") punct feet NOUN [] )\n",
      ", punct structures NOUN [] ,\n",
      "including prep structures NOUN [connecting] include\n",
      "connecting pcomp including VERB [areas, with] connect\n",
      "areas dobj connecting VERB [or, spaces] area\n",
      "or cc areas NOUN [] or\n",
      "spaces conj areas NOUN [] space\n",
      "with prep connecting VERB [means] with\n",
      "a det means NOUN [] a\n",
      "common amod means NOUN [] common\n",
      "means pobj with ADP [a, common, of, used] mean\n",
      "of prep means NOUN [egress] of\n",
      "egress pobj of ADP [or, entrance] egress\n",
      "or cc egress NOUN [] or\n",
      "entrance conj egress NOUN [] entrance\n",
      "that nsubjpass used VERB [] that\n",
      "are auxpass used VERB [] be\n",
      "used relcl means NOUN [that, are, or, intended] use\n",
      "or cc used VERB [] or\n",
      "intended conj used VERB [used] intend\n",
      "to aux used VERB [] to\n",
      "be auxpass used VERB [] be\n",
      "used xcomp intended VERB [to, be, for, together] use\n",
      "for prep used VERB [gathering] for\n",
      "the det gathering NOUN [] the\n",
      "gathering pobj for ADP [the] gathering\n",
      "together advmod used VERB [of] together\n",
      "of prep together ADV [persons] of\n",
      "10 nummod persons NOUN [or, more] 10\n",
      "or cc 10 NUM [] or\n",
      "more conj 10 NUM [] more\n",
      "persons pobj of ADP [10] person\n",
      ", punct structures NOUN [] ,\n",
      "shall aux erected VERB [] shall\n",
      "not neg erected VERB [] not\n",
      "be auxpass erected VERB [] be\n",
      "erected ROOT erected VERB [structures, shall, not, be, ,, operated, .] erect\n",
      ", punct erected VERB [] ,\n",
      "operated conj erected VERB [or, maintained] operate\n",
      "or cc operated VERB [] or\n",
      "maintained conj operated VERB [for] maintain\n",
      "for prep maintained VERB [purpose] for\n",
      "any det purpose NOUN [] any\n",
      "purpose pobj for ADP [any, without] purpose\n",
      "without prep purpose NOUN [obtaining] without\n",
      "obtaining pcomp without ADP [permit, from] obtain\n",
      "a det permit NOUN [] a\n",
      "permit dobj obtaining VERB [a] permit\n",
      "from prep obtaining VERB [official] from\n",
      "the det official NOUN [] the\n",
      "building compound official NOUN [] building\n",
      "official pobj from ADP [the, building] official\n",
      ". punct erected VERB [] .\n"
     ]
    }
   ],
   "source": [
    "for token in doc_X:\n",
    "    print(token.text, token.dep_, token.head.text, token.head.pos_,\n",
    "          [child for child in token.children], token.lemma_)"
   ]
  },
  {
   "cell_type": "code",
   "execution_count": null,
   "metadata": {},
   "outputs": [],
   "source": []
  }
 ],
 "metadata": {
  "kernelspec": {
   "display_name": "Python 3",
   "language": "python",
   "name": "python3"
  },
  "language_info": {
   "codemirror_mode": {
    "name": "ipython",
    "version": 3
   },
   "file_extension": ".py",
   "mimetype": "text/x-python",
   "name": "python",
   "nbconvert_exporter": "python",
   "pygments_lexer": "ipython3",
   "version": "3.6.3"
  }
 },
 "nbformat": 4,
 "nbformat_minor": 2
}
