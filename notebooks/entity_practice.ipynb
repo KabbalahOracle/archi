{
 "cells": [
  {
   "cell_type": "markdown",
   "metadata": {},
   "source": [
    "Reference: http://mlreference.com/named-entities-spacy"
   ]
  },
  {
   "cell_type": "code",
   "execution_count": 1,
   "metadata": {},
   "outputs": [
    {
     "name": "stdout",
     "output_type": "stream",
     "text": [
      "/Users/nguyen/projects/archi\n"
     ]
    }
   ],
   "source": [
    "cd ../"
   ]
  },
  {
   "cell_type": "code",
   "execution_count": 2,
   "metadata": {},
   "outputs": [],
   "source": [
    "import spacy\n",
    "from spacy import displacy"
   ]
  },
  {
   "cell_type": "code",
   "execution_count": 3,
   "metadata": {},
   "outputs": [],
   "source": [
    "def skip_and_print(*args):\n",
    "    \"\"\" Act like print(), but skip a line before printing. \"\"\"\n",
    "    print('\\n' + str(args[0]), *args[1:])\n",
    "\n",
    "def print_table(rows):\n",
    "    \"\"\" Print `rows` with content-based column widths. \"\"\"\n",
    "    col_widths = [\n",
    "        max(len(str(value)) for value in col)\n",
    "        for col in zip(*rows)\n",
    "    ]\n",
    "    total_width = sum(col_widths) + len(col_widths) - 1\n",
    "    fmt = ' '.join('%%-%ds' % width for width in col_widths)\n",
    "    print(fmt % tuple(rows[0]))\n",
    "    print('~' * total_width)\n",
    "    for row in rows[1:]:\n",
    "        print(fmt % tuple(row))"
   ]
  },
  {
   "cell_type": "code",
   "execution_count": 46,
   "metadata": {},
   "outputs": [],
   "source": [
    "nlp = spacy.load('en')"
   ]
  },
  {
   "cell_type": "code",
   "execution_count": 58,
   "metadata": {},
   "outputs": [
    {
     "name": "stdout",
     "output_type": "stream",
     "text": [
      "\n",
      "Working with string: \"See Section 12.12.1 of ASCE 7 for drift limits applicable to earthquake loading.\"\n"
     ]
    }
   ],
   "source": [
    "# document_string = \"The maximum height if 5 feet for all walls in Nebraska, according to ASCE Section 12.3.4.5.\"\n",
    "document_string = \"\"\"See Section 12.12.1 of ASCE 7 for drift limits applicable to earthquake loading.\"\"\"\n",
    "\n",
    "skip_and_print('Working with string: \"%s\"' % document_string)\n",
    "doc = nlp(document_string)"
   ]
  },
  {
   "cell_type": "code",
   "execution_count": 59,
   "metadata": {},
   "outputs": [],
   "source": [
    "rows = [['Name', 'Start', 'End', 'Label']]\n",
    "\n",
    "# Each `ent` object is an instance of the `Span` class.\n",
    "for ent in doc.ents:\n",
    "    rows.append([\n",
    "        ent.text,        # The str of the named entity phrase.\n",
    "        ent.start_char,  # Source str index of the first char.\n",
    "        ent.end_char,    # Source str index of the last+1 char.\n",
    "        ent.label_       # A str label for the entity type.\n",
    "    ])"
   ]
  },
  {
   "cell_type": "code",
   "execution_count": 60,
   "metadata": {},
   "outputs": [
    {
     "name": "stdout",
     "output_type": "stream",
     "text": [
      "\n",
      "Named entities found:\n",
      "Name   Start End Label  \n",
      "~~~~~~~~~~~~~~~~~~~~~~~~\n",
      "ASCE 7 23    29  PRODUCT\n"
     ]
    }
   ],
   "source": [
    "skip_and_print('Named entities found:')\n",
    "print_table(rows)"
   ]
  },
  {
   "cell_type": "code",
   "execution_count": 26,
   "metadata": {},
   "outputs": [
    {
     "name": "stdout",
     "output_type": "stream",
     "text": [
      "\n",
      "Recovering \"London\":\n",
      "London is a big city in the United Kingdom.\n",
      "^^^^^^\n",
      "\n",
      "Recovering \"the United Kingdom\":\n",
      "London is a big city in the United Kingdom.\n",
      "                        ^^^^^^^^^^^^^^^^^^\n"
     ]
    }
   ],
   "source": [
    "for ent in doc.ents:\n",
    "    skip_and_print('Recovering \"%s\":' % ent)\n",
    "    print(document_string)\n",
    "    print(' ' * ent.start_char + '^' * len(ent.text))\n",
    "\n",
    "    # How you can access the entity subtring using a slice:\n",
    "    substr = document_string[ent.start_char: ent.end_char]"
   ]
  },
  {
   "cell_type": "code",
   "execution_count": 30,
   "metadata": {},
   "outputs": [
    {
     "name": "stdout",
     "output_type": "stream",
     "text": [
      "London GPE\n",
      "the United Kingdom GPE\n",
      "London is a big city in the United Kingdom.\n"
     ]
    }
   ],
   "source": [
    "for ent in doc.ents:\n",
    "    print(ent.text, ent.label_)\n",
    "\n",
    "print(document_string)"
   ]
  },
  {
   "cell_type": "markdown",
   "metadata": {},
   "source": [
    "### Test entity recognition on text from the IBC"
   ]
  },
  {
   "cell_type": "code",
   "execution_count": 8,
   "metadata": {},
   "outputs": [],
   "source": [
    "ibc_string = \"\"\"Where occupants egress from one or more rooms, areas or spaces through others, \n",
    "the design occupant load shall be the combined occupant load of interconnected accessory or intervening spaces. \n",
    "Design of egress path capacity shall be based on the cumulative portion of occupant loads of all rooms, areas \n",
    "or spaces to that point along the path of egress travel.\"\"\""
   ]
  },
  {
   "cell_type": "code",
   "execution_count": 9,
   "metadata": {},
   "outputs": [],
   "source": [
    "doc = nlp(ibc_string)"
   ]
  },
  {
   "cell_type": "code",
   "execution_count": 10,
   "metadata": {},
   "outputs": [],
   "source": [
    "rows = [['Name', 'Start', 'End', 'Label']]\n",
    "\n",
    "# Each `ent` object is an instance of the `Span` class.\n",
    "for ent in doc.ents:\n",
    "    rows.append([\n",
    "        ent.text,        # The str of the named entity phrase.\n",
    "        ent.start_char,  # Source str index of the first char.\n",
    "        ent.end_char,    # Source str index of the last+1 char.\n",
    "        ent.label_       # A str label for the entity type.\n",
    "    ])"
   ]
  },
  {
   "cell_type": "code",
   "execution_count": 11,
   "metadata": {},
   "outputs": [
    {
     "name": "stdout",
     "output_type": "stream",
     "text": [
      "\n",
      "Named entities found:\n",
      "Name Start End Label   \n",
      "~~~~~~~~~~~~~~~~~~~~~~~\n",
      "one  28    31  CARDINAL\n",
      "\n",
      "    79    80  GPE     \n",
      "\n",
      "    192   193 GPE     \n",
      "\n",
      "    303   304 GPE     \n"
     ]
    }
   ],
   "source": [
    "skip_and_print('Named entities found:')\n",
    "print_table(rows)"
   ]
  },
  {
   "cell_type": "code",
   "execution_count": 13,
   "metadata": {},
   "outputs": [
    {
     "name": "stdout",
     "output_type": "stream",
     "text": [
      "\n",
      "Recovering \"one\":\n",
      "Where occupants egress from one or more rooms, areas or spaces through others, \n",
      "the design occupant load shall be the combined occupant load of interconnected accessory or intervening spaces. \n",
      "Design of egress path capacity shall be based on the cumulative portion of occupant loads of all rooms, areas \n",
      "or spaces to that point along the path of egress travel.\n",
      "                            ^^^\n",
      "\n",
      "Recovering \"\n",
      "\":\n",
      "Where occupants egress from one or more rooms, areas or spaces through others, \n",
      "the design occupant load shall be the combined occupant load of interconnected accessory or intervening spaces. \n",
      "Design of egress path capacity shall be based on the cumulative portion of occupant loads of all rooms, areas \n",
      "or spaces to that point along the path of egress travel.\n",
      "                                                                               ^\n",
      "\n",
      "Recovering \"\n",
      "\":\n",
      "Where occupants egress from one or more rooms, areas or spaces through others, \n",
      "the design occupant load shall be the combined occupant load of interconnected accessory or intervening spaces. \n",
      "Design of egress path capacity shall be based on the cumulative portion of occupant loads of all rooms, areas \n",
      "or spaces to that point along the path of egress travel.\n",
      "                                                                                                                                                                                                ^\n",
      "\n",
      "Recovering \"\n",
      "\":\n",
      "Where occupants egress from one or more rooms, areas or spaces through others, \n",
      "the design occupant load shall be the combined occupant load of interconnected accessory or intervening spaces. \n",
      "Design of egress path capacity shall be based on the cumulative portion of occupant loads of all rooms, areas \n",
      "or spaces to that point along the path of egress travel.\n",
      "                                                                                                                                                                                                                                                                                                               ^\n"
     ]
    }
   ],
   "source": [
    "for ent in doc.ents:\n",
    "    skip_and_print('Recovering \"%s\":' % ent)\n",
    "    print(ibc_string)\n",
    "    print(' ' * ent.start_char + '^' * len(ent.text))\n",
    "\n",
    "    # How you can access the entity subtring using a slice:\n",
    "    substr = ibc_string[ent.start_char: ent.end_char]"
   ]
  },
  {
   "cell_type": "code",
   "execution_count": 16,
   "metadata": {},
   "outputs": [
    {
     "data": {
      "text/plain": [
       "'CARDINAL'"
      ]
     },
     "execution_count": 16,
     "metadata": {},
     "output_type": "execute_result"
    }
   ],
   "source": [
    "doc.ents[0].label_"
   ]
  },
  {
   "cell_type": "code",
   "execution_count": null,
   "metadata": {},
   "outputs": [],
   "source": []
  }
 ],
 "metadata": {
  "kernelspec": {
   "display_name": "Python 3",
   "language": "python",
   "name": "python3"
  },
  "language_info": {
   "codemirror_mode": {
    "name": "ipython",
    "version": 3
   },
   "file_extension": ".py",
   "mimetype": "text/x-python",
   "name": "python",
   "nbconvert_exporter": "python",
   "pygments_lexer": "ipython3",
   "version": "3.6.3"
  }
 },
 "nbformat": 4,
 "nbformat_minor": 2
}
